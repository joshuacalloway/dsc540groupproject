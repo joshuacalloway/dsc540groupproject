{
 "cells": [
  {
   "cell_type": "markdown",
   "metadata": {
    "colab_type": "text",
    "id": "view-in-github"
   },
   "source": [
    "<a href=\"https://colab.research.google.com/github/joshuacalloway/dsc540groupproject/blob/main/StartingTrumpTweets.ipynb\" target=\"_parent\"><img src=\"https://colab.research.google.com/assets/colab-badge.svg\" alt=\"Open In Colab\"/></a>"
   ]
  },
  {
   "cell_type": "markdown",
   "metadata": {},
   "source": [
    "# Using NLP on Trump's Tweets\n",
    "- Joshua Calloway\n",
    "- DSC 540, Fall Quarter - DePaul\n"
   ]
  },
  {
   "cell_type": "markdown",
   "metadata": {},
   "source": [
    "# Motivation\n",
    "What problem are you tackling, and what's the setting you're considering? What data are you working on? Did anything change from the proposal regarding data, objectives, and methods that you will apply?\n",
    "\n",
    "\n",
    "We are looking Trump's tweets and applying NLP to see if we can determine the following\n",
    "- Sentiment Analysis\n",
    "- Subjectivity Analysis ( How objective or not are the tweets )\n",
    "- @readDonaldTrump contains tweets by Trump and also his publicity staff.  See if we can determine which are by Trump\n",
    "\n",
    "We are using tweets from thetrumparchive, which has about 50,0000 tweets and also another set with 1000 of Trump's latest tweets.  This is in alignment with the project proposal to use NLP on Trump"
   ]
  },
  {
   "cell_type": "markdown",
   "metadata": {},
   "source": [
    "# Next steps [10]: Given your preliminary results, what are the next steps that you're considering?\n",
    "- Improve accuracy by better tweet cleaning and or adding tweet specific language like emojis or shorthand\n",
    "- Use GPT-2 for tweet generation\n",
    "- Figure a way to measure accuracy and do cross validation to try to come up with better models\n",
    "- Hyper-parameter tuning of the models\n",
    "- Use models, methods on larger Trump tweets data of 50,0000 tweets"
   ]
  },
  {
   "cell_type": "markdown",
   "metadata": {},
   "source": [
    "## A. Fetch Trumps Trumps Tweets\n",
    "Here we use thetrumparchive to either fetch 1000 or larger set of 55,000 tweets.  The tweets come back as JSON in format of\n",
    "<code>\n",
    "{\n",
    "  id: 1\n",
    "  text: 'Lets win Michigan'\n",
    "  isRetweet: True\n",
    "  isDeleted: False\n",
    "  device: iPhone\n",
    "  favorites: 323,\n",
    "  retweets: 2\n",
    "  date: 2020-11-02\n",
    "}\n",
    "</code>"
   ]
  },
  {
   "cell_type": "code",
   "execution_count": 98,
   "metadata": {
    "id": "BikM0IG41OX0"
   },
   "outputs": [],
   "source": [
    "import urllib.request, json\n",
    "from sklearn.model_selection import train_test_split\n",
    "from pandas import DataFrame"
   ]
  },
  {
   "cell_type": "code",
   "execution_count": 99,
   "metadata": {
    "colab": {
     "base_uri": "https://localhost:8080/"
    },
    "id": "ZrZYjcyF1b5l",
    "outputId": "5869b244-d003-4a79-f451-1b3f26c9377c"
   },
   "outputs": [],
   "source": [
    "# If LargeData is True, then we fetch 55,0000 tweets\n",
    "def fetch_data(largeData=False):\n",
    "    if largeData:\n",
    "        with open('tweets_11-06-2020.json') as f:\n",
    "            data = json.load(f)  # fetch 50,0000 tweets\n",
    "    else:\n",
    "        with urllib.request.urlopen(\"https://www.thetrumparchive.com/latest-tweets\") as url:\n",
    "            data = json.loads(url.read().decode())\n",
    "    return DataFrame(data)\n",
    "\n",
    "# get_tweet_text = lambda tweet : tweet['text']\n"
   ]
  },
  {
   "cell_type": "code",
   "execution_count": 100,
   "metadata": {
    "colab": {
     "base_uri": "https://localhost:8080/",
     "height": 52
    },
    "id": "4U_YshEn1kFL",
    "outputId": "39a62dc0-c2e1-4b18-be0b-d1ded182e33e"
   },
   "outputs": [
    {
     "data": {
      "text/html": [
       "<div>\n",
       "<style scoped>\n",
       "    .dataframe tbody tr th:only-of-type {\n",
       "        vertical-align: middle;\n",
       "    }\n",
       "\n",
       "    .dataframe tbody tr th {\n",
       "        vertical-align: top;\n",
       "    }\n",
       "\n",
       "    .dataframe thead th {\n",
       "        text-align: right;\n",
       "    }\n",
       "</style>\n",
       "<table border=\"1\" class=\"dataframe\">\n",
       "  <thead>\n",
       "    <tr style=\"text-align: right;\">\n",
       "      <th></th>\n",
       "      <th>id</th>\n",
       "      <th>text</th>\n",
       "      <th>isRetweet</th>\n",
       "      <th>isDeleted</th>\n",
       "      <th>device</th>\n",
       "      <th>favorites</th>\n",
       "      <th>retweets</th>\n",
       "      <th>date</th>\n",
       "    </tr>\n",
       "  </thead>\n",
       "  <tbody>\n",
       "    <tr>\n",
       "      <th>0</th>\n",
       "      <td>1328545700012027904</td>\n",
       "      <td>RT @txelectionlaw: Having practiced law for al...</td>\n",
       "      <td>True</td>\n",
       "      <td>False</td>\n",
       "      <td>Twitter for iPhone</td>\n",
       "      <td>0</td>\n",
       "      <td>24869</td>\n",
       "      <td>2020-11-17T03:49:12.000Z</td>\n",
       "    </tr>\n",
       "    <tr>\n",
       "      <th>1</th>\n",
       "      <td>1328483862490574849</td>\n",
       "      <td>Big victory moments ago in the State of Nevada...</td>\n",
       "      <td>False</td>\n",
       "      <td>False</td>\n",
       "      <td>Twitter for iPhone</td>\n",
       "      <td>178766</td>\n",
       "      <td>49758</td>\n",
       "      <td>2020-11-16T23:43:29.000Z</td>\n",
       "    </tr>\n",
       "    <tr>\n",
       "      <th>2</th>\n",
       "      <td>1328448530504163329</td>\n",
       "      <td>The rate of rejected Mail-In Ballots is 30 X’s...</td>\n",
       "      <td>False</td>\n",
       "      <td>False</td>\n",
       "      <td>Twitter for iPhone</td>\n",
       "      <td>145809</td>\n",
       "      <td>37941</td>\n",
       "      <td>2020-11-16T21:23:05.000Z</td>\n",
       "    </tr>\n",
       "    <tr>\n",
       "      <th>3</th>\n",
       "      <td>1328382287331856384</td>\n",
       "      <td>Georgia won’t let us look at the all important...</td>\n",
       "      <td>False</td>\n",
       "      <td>False</td>\n",
       "      <td>Twitter for iPhone</td>\n",
       "      <td>253094</td>\n",
       "      <td>57272</td>\n",
       "      <td>2020-11-16T16:59:52.000Z</td>\n",
       "    </tr>\n",
       "    <tr>\n",
       "      <th>4</th>\n",
       "      <td>1328370030678044675</td>\n",
       "      <td>European Countries are sadly getting clobbered...</td>\n",
       "      <td>False</td>\n",
       "      <td>False</td>\n",
       "      <td>Twitter for iPhone</td>\n",
       "      <td>237437</td>\n",
       "      <td>39993</td>\n",
       "      <td>2020-11-16T16:11:09.000Z</td>\n",
       "    </tr>\n",
       "  </tbody>\n",
       "</table>\n",
       "</div>"
      ],
      "text/plain": [
       "                    id                                               text  \\\n",
       "0  1328545700012027904  RT @txelectionlaw: Having practiced law for al...   \n",
       "1  1328483862490574849  Big victory moments ago in the State of Nevada...   \n",
       "2  1328448530504163329  The rate of rejected Mail-In Ballots is 30 X’s...   \n",
       "3  1328382287331856384  Georgia won’t let us look at the all important...   \n",
       "4  1328370030678044675  European Countries are sadly getting clobbered...   \n",
       "\n",
       "   isRetweet  isDeleted              device favorites retweets  \\\n",
       "0       True      False  Twitter for iPhone         0    24869   \n",
       "1      False      False  Twitter for iPhone    178766    49758   \n",
       "2      False      False  Twitter for iPhone    145809    37941   \n",
       "3      False      False  Twitter for iPhone    253094    57272   \n",
       "4      False      False  Twitter for iPhone    237437    39993   \n",
       "\n",
       "                       date  \n",
       "0  2020-11-17T03:49:12.000Z  \n",
       "1  2020-11-16T23:43:29.000Z  \n",
       "2  2020-11-16T21:23:05.000Z  \n",
       "3  2020-11-16T16:59:52.000Z  \n",
       "4  2020-11-16T16:11:09.000Z  "
      ]
     },
     "execution_count": 100,
     "metadata": {},
     "output_type": "execute_result"
    }
   ],
   "source": [
    "# we r interested in the text for NLP\n",
    "data = fetch_data(largeData=False)\n",
    "data.head()"
   ]
  },
  {
   "cell_type": "markdown",
   "metadata": {},
   "source": [
    "## B. Let's use a tweepy and TextBlob to add Sentiment to each Tweet\n",
    "\n",
    "Two blogs that use tweepy and TextBlob can be found at \n",
    "- https://www.earthdatascience.org/courses/use-data-open-source-python/intro-to-apis/analyze-tweet-sentiment-in-python/\n",
    "- https://medium.com/better-programming/twitter-sentiment-analysis-15d8892c0082\n",
    "\n"
   ]
  },
  {
   "cell_type": "markdown",
   "metadata": {},
   "source": [
    "# C. We compute Sentiment of Tweet using TextBlob\n",
    "- subjectivity is how opinionated a tweet is ( scaled from 1 to -1 )\n",
    "- polarity is whether or not the tweet is positive or negative ( scaled from 1 to -1 )"
   ]
  },
  {
   "cell_type": "code",
   "execution_count": 102,
   "metadata": {},
   "outputs": [
    {
     "data": {
      "text/html": [
       "<div>\n",
       "<style scoped>\n",
       "    .dataframe tbody tr th:only-of-type {\n",
       "        vertical-align: middle;\n",
       "    }\n",
       "\n",
       "    .dataframe tbody tr th {\n",
       "        vertical-align: top;\n",
       "    }\n",
       "\n",
       "    .dataframe thead th {\n",
       "        text-align: right;\n",
       "    }\n",
       "</style>\n",
       "<table border=\"1\" class=\"dataframe\">\n",
       "  <thead>\n",
       "    <tr style=\"text-align: right;\">\n",
       "      <th></th>\n",
       "      <th>id</th>\n",
       "      <th>text</th>\n",
       "      <th>isRetweet</th>\n",
       "      <th>isDeleted</th>\n",
       "      <th>device</th>\n",
       "      <th>favorites</th>\n",
       "      <th>retweets</th>\n",
       "      <th>date</th>\n",
       "      <th>sentiment</th>\n",
       "    </tr>\n",
       "  </thead>\n",
       "  <tbody>\n",
       "    <tr>\n",
       "      <th>0</th>\n",
       "      <td>1328545700012027904</td>\n",
       "      <td>RT @txelectionlaw: Having practiced law for al...</td>\n",
       "      <td>True</td>\n",
       "      <td>False</td>\n",
       "      <td>Twitter for iPhone</td>\n",
       "      <td>0</td>\n",
       "      <td>24869</td>\n",
       "      <td>2020-11-17T03:49:12.000Z</td>\n",
       "      <td>neutral</td>\n",
       "    </tr>\n",
       "    <tr>\n",
       "      <th>1</th>\n",
       "      <td>1328483862490574849</td>\n",
       "      <td>Big victory moments ago in the State of Nevada...</td>\n",
       "      <td>False</td>\n",
       "      <td>False</td>\n",
       "      <td>Twitter for iPhone</td>\n",
       "      <td>178766</td>\n",
       "      <td>49758</td>\n",
       "      <td>2020-11-16T23:43:29.000Z</td>\n",
       "      <td>positive</td>\n",
       "    </tr>\n",
       "    <tr>\n",
       "      <th>2</th>\n",
       "      <td>1328448530504163329</td>\n",
       "      <td>The rate of rejected Mail-In Ballots is 30 X’s...</td>\n",
       "      <td>False</td>\n",
       "      <td>False</td>\n",
       "      <td>Twitter for iPhone</td>\n",
       "      <td>145809</td>\n",
       "      <td>37941</td>\n",
       "      <td>2020-11-16T21:23:05.000Z</td>\n",
       "      <td>neutral</td>\n",
       "    </tr>\n",
       "    <tr>\n",
       "      <th>3</th>\n",
       "      <td>1328382287331856384</td>\n",
       "      <td>Georgia won’t let us look at the all important...</td>\n",
       "      <td>False</td>\n",
       "      <td>False</td>\n",
       "      <td>Twitter for iPhone</td>\n",
       "      <td>253094</td>\n",
       "      <td>57272</td>\n",
       "      <td>2020-11-16T16:59:52.000Z</td>\n",
       "      <td>neutral</td>\n",
       "    </tr>\n",
       "    <tr>\n",
       "      <th>4</th>\n",
       "      <td>1328370030678044675</td>\n",
       "      <td>European Countries are sadly getting clobbered...</td>\n",
       "      <td>False</td>\n",
       "      <td>False</td>\n",
       "      <td>Twitter for iPhone</td>\n",
       "      <td>237437</td>\n",
       "      <td>39993</td>\n",
       "      <td>2020-11-16T16:11:09.000Z</td>\n",
       "      <td>negative</td>\n",
       "    </tr>\n",
       "    <tr>\n",
       "      <th>...</th>\n",
       "      <td>...</td>\n",
       "      <td>...</td>\n",
       "      <td>...</td>\n",
       "      <td>...</td>\n",
       "      <td>...</td>\n",
       "      <td>...</td>\n",
       "      <td>...</td>\n",
       "      <td>...</td>\n",
       "      <td>...</td>\n",
       "    </tr>\n",
       "    <tr>\n",
       "      <th>995</th>\n",
       "      <td>1320162439200149504</td>\n",
       "      <td>Thank you OHIO! #VOTE\\nhttps://t.co/gsFSghkmdM...</td>\n",
       "      <td>False</td>\n",
       "      <td>False</td>\n",
       "      <td>Twitter for iPhone</td>\n",
       "      <td>74088</td>\n",
       "      <td>12731</td>\n",
       "      <td>2020-10-25T00:37:07.000Z</td>\n",
       "      <td>neutral</td>\n",
       "    </tr>\n",
       "    <tr>\n",
       "      <th>996</th>\n",
       "      <td>1320162252868255745</td>\n",
       "      <td>What a terrible thing for Biden to say! Rigged...</td>\n",
       "      <td>False</td>\n",
       "      <td>False</td>\n",
       "      <td>Twitter for iPhone</td>\n",
       "      <td>59144</td>\n",
       "      <td>14564</td>\n",
       "      <td>2020-10-25T00:36:23.000Z</td>\n",
       "      <td>negative</td>\n",
       "    </tr>\n",
       "    <tr>\n",
       "      <th>997</th>\n",
       "      <td>1320146431584301062</td>\n",
       "      <td>RT @TeamTrump: TONIGHT: Watch President @realD...</td>\n",
       "      <td>True</td>\n",
       "      <td>False</td>\n",
       "      <td>Twitter for iPhone</td>\n",
       "      <td>0</td>\n",
       "      <td>4558</td>\n",
       "      <td>2020-10-24T23:33:31.000Z</td>\n",
       "      <td>neutral</td>\n",
       "    </tr>\n",
       "    <tr>\n",
       "      <th>998</th>\n",
       "      <td>1320143847356182528</td>\n",
       "      <td>RT @chefjclark: People ask why the President f...</td>\n",
       "      <td>True</td>\n",
       "      <td>False</td>\n",
       "      <td>Twitter for iPhone</td>\n",
       "      <td>0</td>\n",
       "      <td>12139</td>\n",
       "      <td>2020-10-24T23:23:14.000Z</td>\n",
       "      <td>negative</td>\n",
       "    </tr>\n",
       "    <tr>\n",
       "      <th>999</th>\n",
       "      <td>1320143698395418626</td>\n",
       "      <td>RT @DanScavino: President @realDonaldTrump on ...</td>\n",
       "      <td>True</td>\n",
       "      <td>False</td>\n",
       "      <td>Twitter for iPhone</td>\n",
       "      <td>0</td>\n",
       "      <td>17905</td>\n",
       "      <td>2020-10-24T23:22:39.000Z</td>\n",
       "      <td>positive</td>\n",
       "    </tr>\n",
       "  </tbody>\n",
       "</table>\n",
       "<p>1000 rows × 9 columns</p>\n",
       "</div>"
      ],
      "text/plain": [
       "                      id                                               text  \\\n",
       "0    1328545700012027904  RT @txelectionlaw: Having practiced law for al...   \n",
       "1    1328483862490574849  Big victory moments ago in the State of Nevada...   \n",
       "2    1328448530504163329  The rate of rejected Mail-In Ballots is 30 X’s...   \n",
       "3    1328382287331856384  Georgia won’t let us look at the all important...   \n",
       "4    1328370030678044675  European Countries are sadly getting clobbered...   \n",
       "..                   ...                                                ...   \n",
       "995  1320162439200149504  Thank you OHIO! #VOTE\\nhttps://t.co/gsFSghkmdM...   \n",
       "996  1320162252868255745  What a terrible thing for Biden to say! Rigged...   \n",
       "997  1320146431584301062  RT @TeamTrump: TONIGHT: Watch President @realD...   \n",
       "998  1320143847356182528  RT @chefjclark: People ask why the President f...   \n",
       "999  1320143698395418626  RT @DanScavino: President @realDonaldTrump on ...   \n",
       "\n",
       "     isRetweet  isDeleted              device favorites retweets  \\\n",
       "0         True      False  Twitter for iPhone         0    24869   \n",
       "1        False      False  Twitter for iPhone    178766    49758   \n",
       "2        False      False  Twitter for iPhone    145809    37941   \n",
       "3        False      False  Twitter for iPhone    253094    57272   \n",
       "4        False      False  Twitter for iPhone    237437    39993   \n",
       "..         ...        ...                 ...       ...      ...   \n",
       "995      False      False  Twitter for iPhone     74088    12731   \n",
       "996      False      False  Twitter for iPhone     59144    14564   \n",
       "997       True      False  Twitter for iPhone         0     4558   \n",
       "998       True      False  Twitter for iPhone         0    12139   \n",
       "999       True      False  Twitter for iPhone         0    17905   \n",
       "\n",
       "                         date sentiment  \n",
       "0    2020-11-17T03:49:12.000Z   neutral  \n",
       "1    2020-11-16T23:43:29.000Z  positive  \n",
       "2    2020-11-16T21:23:05.000Z   neutral  \n",
       "3    2020-11-16T16:59:52.000Z   neutral  \n",
       "4    2020-11-16T16:11:09.000Z  negative  \n",
       "..                        ...       ...  \n",
       "995  2020-10-25T00:37:07.000Z   neutral  \n",
       "996  2020-10-25T00:36:23.000Z  negative  \n",
       "997  2020-10-24T23:33:31.000Z   neutral  \n",
       "998  2020-10-24T23:23:14.000Z  negative  \n",
       "999  2020-10-24T23:22:39.000Z  positive  \n",
       "\n",
       "[1000 rows x 9 columns]"
      ]
     },
     "execution_count": 102,
     "metadata": {},
     "output_type": "execute_result"
    }
   ],
   "source": [
    "# We r going to use tweepy and TextBlob for tweets\n",
    "import tweepy as tw\n",
    "from textblob import TextBlob\n",
    "\n",
    "# Create a function to get the subjectivity\n",
    "def getSubjectivity(text):\n",
    "    return TextBlob(text).sentiment.subjectivity\n",
    "\n",
    "# Create a function to get the polarity\n",
    "def getPolarity(text):\n",
    "    return  TextBlob(text).sentiment.polarity\n",
    "\n",
    "# We eliminate words less then 3 characters long and standardize all words to lowercase\n",
    "def filter_words(words):\n",
    "    words_filtered = [e.lower() for e in words.split() if len(e) >= 3]\n",
    "    return words_filtered\n",
    "\n",
    "\n",
    "# return neutral if small\n",
    "def calculateSentiment(text):\n",
    "    polarity = getPolarity(text)\n",
    "    if abs(polarity) < 0.05:\n",
    "        return 'neutral'\n",
    "    if polarity > 0:\n",
    "        return \"positive\"\n",
    "    else:\n",
    "        return \"negative\"\n",
    "    \n",
    "    \n",
    "# Create two new columns 'Subjectivity' & 'Polarity'\n",
    "data['sentiment'] = data['text'].apply(calculateSentiment)\n",
    "\n",
    "\n",
    "# Show the new dataframe with columns 'Subjectivity' & 'Polarity'\n",
    "data"
   ]
  },
  {
   "cell_type": "markdown",
   "metadata": {},
   "source": [
    "# We now split data into training, test, and validation"
   ]
  },
  {
   "cell_type": "code",
   "execution_count": 103,
   "metadata": {},
   "outputs": [],
   "source": [
    "from sklearn.model_selection import train_test_split\n",
    "\n",
    "X = df['text']\n",
    "y = df['sentiment']\n",
    "\n",
    "X_train, X_test, y_train, y_test = train_test_split(X, y, test_size=0.10, random_state=555)\n",
    "X_train, X_val, y_train, y_val = train_test_split(X_train, y_train, test_size=0.30, random_state=555)\n"
   ]
  },
  {
   "cell_type": "code",
   "execution_count": 104,
   "metadata": {},
   "outputs": [
    {
     "data": {
      "text/plain": [
       "630"
      ]
     },
     "execution_count": 104,
     "metadata": {},
     "output_type": "execute_result"
    }
   ],
   "source": [
    "len(X_train)"
   ]
  },
  {
   "cell_type": "code",
   "execution_count": 105,
   "metadata": {},
   "outputs": [
    {
     "data": {
      "text/plain": [
       "270"
      ]
     },
     "execution_count": 105,
     "metadata": {},
     "output_type": "execute_result"
    }
   ],
   "source": [
    "len(X_val)"
   ]
  },
  {
   "cell_type": "code",
   "execution_count": 106,
   "metadata": {},
   "outputs": [],
   "source": [
    "import numpy as np\n",
    "\n",
    "from azure.core.credentials import AzureKeyCredential\n",
    "from azure.ai.textanalytics import TextAnalyticsClient\n",
    "\n",
    "credential = AzureKeyCredential(\"cb61d607e5c8402b9742b8aa40207593\")\n",
    "text_analytics_client = TextAnalyticsClient(endpoint=\"https://trumptweetanalysissentiment.cognitiveservices.azure.com/\", credential=credential)\n",
    "    \n",
    "def call_azure(list_text_only_ten_items):\n",
    "    response = text_analytics_client.analyze_sentiment(list_text_only_ten_items)\n",
    "    successful_responses = [doc for doc in response if not doc.is_error]\n",
    "    return list_text_only_ten_items, list(map(lambda x: x['sentiment'], successful_responses))\n",
    "    \n",
    "# treat mixed and neutral sentiment as neutral\n",
    "def combine_mixed_neutral(sentiments):\n",
    "    converted = []\n",
    "    for item in sentiments:\n",
    "        newitem = 'neutral' if item == 'mixed' else item\n",
    "        converted.append(newitem)\n",
    "    return converted\n",
    "           \n",
    "# this is ground truth.  Using Azure sentiment\n",
    "def calculate_groundtruth_sentiment(list_of_texts):\n",
    "    sublists = np.split(np.array(list_of_texts.tolist()), list_of_texts.size / 10)\n",
    "    retvalues = list(map(lambda ls: call_azure(list(ls)), sublists))\n",
    "    sentiments = []\n",
    "    for item in retvalues:\n",
    "        sentiments.append(item[1])    \n",
    "    sentiments = [item for items in sentiments for item in items]\n",
    "    return list_of_texts, combine_mixed_neutral(sentiments)\n"
   ]
  },
  {
   "cell_type": "code",
   "execution_count": 107,
   "metadata": {},
   "outputs": [],
   "source": [
    "X_test2, sentiments = calculate_groundtruth_sentiment(X_test)\n"
   ]
  },
  {
   "cell_type": "code",
   "execution_count": 108,
   "metadata": {},
   "outputs": [
    {
     "data": {
      "text/plain": [
       "['negative', 'neutral', 'positive', 'neutral', 'neutral']"
      ]
     },
     "execution_count": 108,
     "metadata": {},
     "output_type": "execute_result"
    }
   ],
   "source": [
    "Y_test_groundtruth = sentiments\n",
    "Y_test_groundtruth[:5]"
   ]
  },
  {
   "cell_type": "code",
   "execution_count": 109,
   "metadata": {},
   "outputs": [
    {
     "name": "stdout",
     "output_type": "stream",
     "text": [
      "accuracy_score is 0.61\n"
     ]
    }
   ],
   "source": [
    "from sklearn.metrics import accuracy_score, confusion_matrix, classification_report\n",
    "\n",
    "print(f'accuracy_score is {accuracy_score(Y_test_groundtruth, y_test)}')\n"
   ]
  },
  {
   "cell_type": "code",
   "execution_count": 110,
   "metadata": {},
   "outputs": [
    {
     "name": "stdout",
     "output_type": "stream",
     "text": [
      "confusion matrix is \n",
      "[[14  6  8]\n",
      " [ 4 26 14]\n",
      " [ 1  6 21]]\n"
     ]
    }
   ],
   "source": [
    "print(f'confusion matrix is \\n{confusion_matrix(Y_test_groundtruth, y_test)}')"
   ]
  },
  {
   "cell_type": "code",
   "execution_count": 111,
   "metadata": {},
   "outputs": [
    {
     "name": "stdout",
     "output_type": "stream",
     "text": [
      "classification report is \n",
      "              precision    recall  f1-score   support\n",
      "\n",
      "    negative       0.74      0.50      0.60        28\n",
      "     neutral       0.68      0.59      0.63        44\n",
      "    positive       0.49      0.75      0.59        28\n",
      "\n",
      "    accuracy                           0.61       100\n",
      "   macro avg       0.64      0.61      0.61       100\n",
      "weighted avg       0.64      0.61      0.61       100\n",
      "\n"
     ]
    }
   ],
   "source": [
    "print(f'classification report is \\n{classification_report(Y_test_groundtruth, y_test)}')"
   ]
  },
  {
   "cell_type": "code",
   "execution_count": null,
   "metadata": {},
   "outputs": [],
   "source": []
  },
  {
   "cell_type": "code",
   "execution_count": null,
   "metadata": {},
   "outputs": [],
   "source": []
  }
 ],
 "metadata": {
  "colab": {
   "authorship_tag": "ABX9TyPW+nXq5kNmMD0i1KQMwvga",
   "include_colab_link": true,
   "name": "Untitled1.ipynb",
   "provenance": []
  },
  "kernelspec": {
   "display_name": "Python 3.7 (dsc540)",
   "language": "python",
   "name": "dsc540"
  },
  "language_info": {
   "codemirror_mode": {
    "name": "ipython",
    "version": 3
   },
   "file_extension": ".py",
   "mimetype": "text/x-python",
   "name": "python",
   "nbconvert_exporter": "python",
   "pygments_lexer": "ipython3",
   "version": "3.7.0"
  }
 },
 "nbformat": 4,
 "nbformat_minor": 1
}
