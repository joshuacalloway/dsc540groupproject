{
 "cells": [
  {
   "cell_type": "markdown",
   "metadata": {
    "colab_type": "text",
    "id": "view-in-github"
   },
   "source": [
    "<a href=\"https://colab.research.google.com/github/joshuacalloway/dsc540groupproject/blob/main/StartingTrumpTweets.ipynb\" target=\"_parent\"><img src=\"https://colab.research.google.com/assets/colab-badge.svg\" alt=\"Open In Colab\"/></a>"
   ]
  },
  {
   "cell_type": "markdown",
   "metadata": {},
   "source": [
    "# Using NLP on Trump's Tweets\n",
    "- Joshua Calloway\n",
    "- DSC 540, Fall Quarter - DePaul\n"
   ]
  },
  {
   "cell_type": "markdown",
   "metadata": {},
   "source": [
    "# Motivation\n",
    "What problem are you tackling, and what's the setting you're considering? What data are you working on? Did anything change from the proposal regarding data, objectives, and methods that you will apply?\n",
    "\n",
    "\n",
    "We are looking Trump's tweets and applying NLP to see if we can determine the following\n",
    "- Sentiment Analysis\n",
    "- Subjectivity Analysis ( How objective or not are the tweets )\n",
    "- @readDonaldTrump contains tweets by Trump and also his publicity staff.  See if we can determine which are by Trump\n",
    "\n",
    "We are using tweets from thetrumparchive, which has about 50,0000 tweets and also another set with 1000 of Trump's latest tweets.  This is in alignment with the project proposal to use NLP on Trump"
   ]
  },
  {
   "cell_type": "markdown",
   "metadata": {},
   "source": [
    "# Next steps [10]: Given your preliminary results, what are the next steps that you're considering?\n",
    "- Improve accuracy by better tweet cleaning and or adding tweet specific language like emojis or shorthand\n",
    "- Use GPT-2 for tweet generation\n",
    "- Figure a way to measure accuracy and do cross validation to try to come up with better models\n",
    "- Hyper-parameter tuning of the models\n",
    "- Use models, methods on larger Trump tweets data of 50,0000 tweets"
   ]
  },
  {
   "cell_type": "markdown",
   "metadata": {},
   "source": [
    "## A. Fetch Trumps Trumps Tweets\n",
    "Here we use thetrumparchive to either fetch 1000 or larger set of 55,000 tweets.  The tweets come back as JSON in format of\n",
    "<code>\n",
    "{\n",
    "  id: 1\n",
    "  text: 'Lets win Michigan'\n",
    "  isRetweet: True\n",
    "  isDeleted: False\n",
    "  device: iPhone\n",
    "  favorites: 323,\n",
    "  retweets: 2\n",
    "  date: 2020-11-02\n",
    "}\n",
    "</code>"
   ]
  },
  {
   "cell_type": "code",
   "execution_count": 117,
   "metadata": {
    "id": "BikM0IG41OX0"
   },
   "outputs": [],
   "source": [
    "import urllib.request, json\n",
    "from sklearn.model_selection import train_test_split\n",
    "from pandas import DataFrame"
   ]
  },
  {
   "cell_type": "code",
   "execution_count": 118,
   "metadata": {
    "colab": {
     "base_uri": "https://localhost:8080/"
    },
    "id": "ZrZYjcyF1b5l",
    "outputId": "5869b244-d003-4a79-f451-1b3f26c9377c"
   },
   "outputs": [],
   "source": [
    "# If LargeData is True, then we fetch 55,0000 tweets\n",
    "def fetch_data(largeData=False):\n",
    "    if largeData:\n",
    "        with open('tweets_11-06-2020.json') as f:\n",
    "            data = json.load(f)  # fetch 50,0000 tweets\n",
    "    else:\n",
    "        with urllib.request.urlopen(\"https://www.thetrumparchive.com/latest-tweets\") as url:\n",
    "            data = json.loads(url.read().decode())\n",
    "    return DataFrame(data)\n",
    "\n",
    "# get_tweet_text = lambda tweet : tweet['text']\n"
   ]
  },
  {
   "cell_type": "code",
   "execution_count": 119,
   "metadata": {
    "colab": {
     "base_uri": "https://localhost:8080/",
     "height": 52
    },
    "id": "4U_YshEn1kFL",
    "outputId": "39a62dc0-c2e1-4b18-be0b-d1ded182e33e"
   },
   "outputs": [
    {
     "data": {
      "text/html": [
       "<div>\n",
       "<style scoped>\n",
       "    .dataframe tbody tr th:only-of-type {\n",
       "        vertical-align: middle;\n",
       "    }\n",
       "\n",
       "    .dataframe tbody tr th {\n",
       "        vertical-align: top;\n",
       "    }\n",
       "\n",
       "    .dataframe thead th {\n",
       "        text-align: right;\n",
       "    }\n",
       "</style>\n",
       "<table border=\"1\" class=\"dataframe\">\n",
       "  <thead>\n",
       "    <tr style=\"text-align: right;\">\n",
       "      <th></th>\n",
       "      <th>id</th>\n",
       "      <th>text</th>\n",
       "      <th>isRetweet</th>\n",
       "      <th>isDeleted</th>\n",
       "      <th>device</th>\n",
       "      <th>favorites</th>\n",
       "      <th>retweets</th>\n",
       "      <th>date</th>\n",
       "    </tr>\n",
       "  </thead>\n",
       "  <tbody>\n",
       "    <tr>\n",
       "      <th>0</th>\n",
       "      <td>1329233502139715586</td>\n",
       "      <td>Look at this in Wisconsin! A day AFTER the ele...</td>\n",
       "      <td>False</td>\n",
       "      <td>False</td>\n",
       "      <td>Twitter for iPhone</td>\n",
       "      <td>199249</td>\n",
       "      <td>67689</td>\n",
       "      <td>2020-11-19T01:22:17.000Z</td>\n",
       "    </tr>\n",
       "    <tr>\n",
       "      <th>1</th>\n",
       "      <td>1329200307453239297</td>\n",
       "      <td>RT @AndrewHittGOP: BREAKING: WI Elections Comm...</td>\n",
       "      <td>True</td>\n",
       "      <td>False</td>\n",
       "      <td>Twitter for iPhone</td>\n",
       "      <td>0</td>\n",
       "      <td>13679</td>\n",
       "      <td>2020-11-18T23:10:23.000Z</td>\n",
       "    </tr>\n",
       "    <tr>\n",
       "      <th>2</th>\n",
       "      <td>1329158254660898816</td>\n",
       "      <td>RT @aricnesbitt: This afternoon, I joined my c...</td>\n",
       "      <td>True</td>\n",
       "      <td>False</td>\n",
       "      <td>Twitter for iPhone</td>\n",
       "      <td>0</td>\n",
       "      <td>17227</td>\n",
       "      <td>2020-11-18T20:23:17.000Z</td>\n",
       "    </tr>\n",
       "    <tr>\n",
       "      <th>3</th>\n",
       "      <td>1329150897641951233</td>\n",
       "      <td>Thank you @DarrellIssa, so nice! \\nhttps://t.c...</td>\n",
       "      <td>False</td>\n",
       "      <td>False</td>\n",
       "      <td>Twitter for iPhone</td>\n",
       "      <td>103783</td>\n",
       "      <td>20416</td>\n",
       "      <td>2020-11-18T19:54:03.000Z</td>\n",
       "    </tr>\n",
       "    <tr>\n",
       "      <th>4</th>\n",
       "      <td>1329145487325339649</td>\n",
       "      <td>RT @realDonaldTrump: More reports of voting ma...</td>\n",
       "      <td>True</td>\n",
       "      <td>False</td>\n",
       "      <td>Twitter for iPhone</td>\n",
       "      <td>0</td>\n",
       "      <td>29076</td>\n",
       "      <td>2020-11-18T19:32:33.000Z</td>\n",
       "    </tr>\n",
       "  </tbody>\n",
       "</table>\n",
       "</div>"
      ],
      "text/plain": [
       "                    id                                               text  \\\n",
       "0  1329233502139715586  Look at this in Wisconsin! A day AFTER the ele...   \n",
       "1  1329200307453239297  RT @AndrewHittGOP: BREAKING: WI Elections Comm...   \n",
       "2  1329158254660898816  RT @aricnesbitt: This afternoon, I joined my c...   \n",
       "3  1329150897641951233  Thank you @DarrellIssa, so nice! \\nhttps://t.c...   \n",
       "4  1329145487325339649  RT @realDonaldTrump: More reports of voting ma...   \n",
       "\n",
       "   isRetweet  isDeleted              device favorites retweets  \\\n",
       "0      False      False  Twitter for iPhone    199249    67689   \n",
       "1       True      False  Twitter for iPhone         0    13679   \n",
       "2       True      False  Twitter for iPhone         0    17227   \n",
       "3      False      False  Twitter for iPhone    103783    20416   \n",
       "4       True      False  Twitter for iPhone         0    29076   \n",
       "\n",
       "                       date  \n",
       "0  2020-11-19T01:22:17.000Z  \n",
       "1  2020-11-18T23:10:23.000Z  \n",
       "2  2020-11-18T20:23:17.000Z  \n",
       "3  2020-11-18T19:54:03.000Z  \n",
       "4  2020-11-18T19:32:33.000Z  "
      ]
     },
     "execution_count": 119,
     "metadata": {},
     "output_type": "execute_result"
    }
   ],
   "source": [
    "# we r interested in the text for NLP\n",
    "data = fetch_data(largeData=False)\n",
    "data.head()"
   ]
  },
  {
   "cell_type": "code",
   "execution_count": 120,
   "metadata": {},
   "outputs": [
    {
     "data": {
      "text/plain": [
       "0      Look at this in Wisconsin! A day AFTER the ele...\n",
       "1      RT @AndrewHittGOP: BREAKING: WI Elections Comm...\n",
       "2      RT @aricnesbitt: This afternoon, I joined my c...\n",
       "3      Thank you @DarrellIssa, so nice! \\nhttps://t.c...\n",
       "4      RT @realDonaldTrump: More reports of voting ma...\n",
       "                             ...                        \n",
       "995    RT @TeamTrump: President @realDonaldTrump: How...\n",
       "996    RT @TeamTrump: President @realDonaldTrump: We ...\n",
       "997    RT @WhiteHouse: In Maine, Medicare health plan...\n",
       "998      https://t.co/gsFSgh2KPc https://t.co/KTe3etEKhs\n",
       "999    RT @TeamTrump: President @realDonaldTrump: In ...\n",
       "Name: text, Length: 1000, dtype: object"
      ]
     },
     "execution_count": 120,
     "metadata": {},
     "output_type": "execute_result"
    }
   ],
   "source": [
    "data['text']\n",
    "\n"
   ]
  },
  {
   "cell_type": "code",
   "execution_count": 121,
   "metadata": {},
   "outputs": [],
   "source": [
    "blank = data[(data['text'] == '') | (data['text'].str.isspace())]\n",
    "\n"
   ]
  },
  {
   "cell_type": "code",
   "execution_count": 122,
   "metadata": {},
   "outputs": [
    {
     "data": {
      "text/plain": [
       "0"
      ]
     },
     "execution_count": 122,
     "metadata": {},
     "output_type": "execute_result"
    }
   ],
   "source": [
    "(data['text'] == '').sum()\n"
   ]
  },
  {
   "cell_type": "code",
   "execution_count": 123,
   "metadata": {},
   "outputs": [
    {
     "data": {
      "text/plain": [
       "0"
      ]
     },
     "execution_count": 123,
     "metadata": {},
     "output_type": "execute_result"
    }
   ],
   "source": [
    "len(blank)"
   ]
  },
  {
   "cell_type": "code",
   "execution_count": 124,
   "metadata": {},
   "outputs": [
    {
     "data": {
      "text/plain": [
       "1000"
      ]
     },
     "execution_count": 124,
     "metadata": {},
     "output_type": "execute_result"
    }
   ],
   "source": [
    "len(data['text'])"
   ]
  },
  {
   "cell_type": "markdown",
   "metadata": {},
   "source": [
    "## B. Let's use a tweepy and TextBlob to add Sentiment to each Tweet\n",
    "\n",
    "Two blogs that use tweepy and TextBlob can be found at \n",
    "- https://www.earthdatascience.org/courses/use-data-open-source-python/intro-to-apis/analyze-tweet-sentiment-in-python/\n",
    "- https://medium.com/better-programming/twitter-sentiment-analysis-15d8892c0082\n",
    "\n"
   ]
  },
  {
   "cell_type": "markdown",
   "metadata": {},
   "source": [
    "# C. We compute Sentiment of Tweet using TextBlob\n",
    "- polarity is whether or not the tweet is positive, negative, or neutral ( scaled from 1 to -1 )"
   ]
  },
  {
   "cell_type": "code",
   "execution_count": 125,
   "metadata": {},
   "outputs": [
    {
     "data": {
      "text/html": [
       "<div>\n",
       "<style scoped>\n",
       "    .dataframe tbody tr th:only-of-type {\n",
       "        vertical-align: middle;\n",
       "    }\n",
       "\n",
       "    .dataframe tbody tr th {\n",
       "        vertical-align: top;\n",
       "    }\n",
       "\n",
       "    .dataframe thead th {\n",
       "        text-align: right;\n",
       "    }\n",
       "</style>\n",
       "<table border=\"1\" class=\"dataframe\">\n",
       "  <thead>\n",
       "    <tr style=\"text-align: right;\">\n",
       "      <th></th>\n",
       "      <th>id</th>\n",
       "      <th>text</th>\n",
       "      <th>isRetweet</th>\n",
       "      <th>isDeleted</th>\n",
       "      <th>device</th>\n",
       "      <th>favorites</th>\n",
       "      <th>retweets</th>\n",
       "      <th>date</th>\n",
       "      <th>sentiment</th>\n",
       "    </tr>\n",
       "  </thead>\n",
       "  <tbody>\n",
       "    <tr>\n",
       "      <th>0</th>\n",
       "      <td>1329233502139715586</td>\n",
       "      <td>Look at this in Wisconsin! A day AFTER the ele...</td>\n",
       "      <td>False</td>\n",
       "      <td>False</td>\n",
       "      <td>Twitter for iPhone</td>\n",
       "      <td>199249</td>\n",
       "      <td>67689</td>\n",
       "      <td>2020-11-19T01:22:17.000Z</td>\n",
       "      <td>negative</td>\n",
       "    </tr>\n",
       "    <tr>\n",
       "      <th>1</th>\n",
       "      <td>1329200307453239297</td>\n",
       "      <td>RT @AndrewHittGOP: BREAKING: WI Elections Comm...</td>\n",
       "      <td>True</td>\n",
       "      <td>False</td>\n",
       "      <td>Twitter for iPhone</td>\n",
       "      <td>0</td>\n",
       "      <td>13679</td>\n",
       "      <td>2020-11-18T23:10:23.000Z</td>\n",
       "      <td>neutral</td>\n",
       "    </tr>\n",
       "    <tr>\n",
       "      <th>2</th>\n",
       "      <td>1329158254660898816</td>\n",
       "      <td>RT @aricnesbitt: This afternoon, I joined my c...</td>\n",
       "      <td>True</td>\n",
       "      <td>False</td>\n",
       "      <td>Twitter for iPhone</td>\n",
       "      <td>0</td>\n",
       "      <td>17227</td>\n",
       "      <td>2020-11-18T20:23:17.000Z</td>\n",
       "      <td>positive</td>\n",
       "    </tr>\n",
       "    <tr>\n",
       "      <th>3</th>\n",
       "      <td>1329150897641951233</td>\n",
       "      <td>Thank you @DarrellIssa, so nice! \\nhttps://t.c...</td>\n",
       "      <td>False</td>\n",
       "      <td>False</td>\n",
       "      <td>Twitter for iPhone</td>\n",
       "      <td>103783</td>\n",
       "      <td>20416</td>\n",
       "      <td>2020-11-18T19:54:03.000Z</td>\n",
       "      <td>positive</td>\n",
       "    </tr>\n",
       "    <tr>\n",
       "      <th>4</th>\n",
       "      <td>1329145487325339649</td>\n",
       "      <td>RT @realDonaldTrump: More reports of voting ma...</td>\n",
       "      <td>True</td>\n",
       "      <td>False</td>\n",
       "      <td>Twitter for iPhone</td>\n",
       "      <td>0</td>\n",
       "      <td>29076</td>\n",
       "      <td>2020-11-18T19:32:33.000Z</td>\n",
       "      <td>positive</td>\n",
       "    </tr>\n",
       "    <tr>\n",
       "      <th>...</th>\n",
       "      <td>...</td>\n",
       "      <td>...</td>\n",
       "      <td>...</td>\n",
       "      <td>...</td>\n",
       "      <td>...</td>\n",
       "      <td>...</td>\n",
       "      <td>...</td>\n",
       "      <td>...</td>\n",
       "      <td>...</td>\n",
       "    </tr>\n",
       "    <tr>\n",
       "      <th>995</th>\n",
       "      <td>1320444583638163457</td>\n",
       "      <td>RT @TeamTrump: President @realDonaldTrump: How...</td>\n",
       "      <td>True</td>\n",
       "      <td>False</td>\n",
       "      <td>Twitter for iPhone</td>\n",
       "      <td>0</td>\n",
       "      <td>6504</td>\n",
       "      <td>2020-10-25T19:18:16.000Z</td>\n",
       "      <td>neutral</td>\n",
       "    </tr>\n",
       "    <tr>\n",
       "      <th>996</th>\n",
       "      <td>1320444583717777410</td>\n",
       "      <td>RT @TeamTrump: President @realDonaldTrump: We ...</td>\n",
       "      <td>True</td>\n",
       "      <td>False</td>\n",
       "      <td>Twitter for iPhone</td>\n",
       "      <td>0</td>\n",
       "      <td>6298</td>\n",
       "      <td>2020-10-25T19:18:16.000Z</td>\n",
       "      <td>negative</td>\n",
       "    </tr>\n",
       "    <tr>\n",
       "      <th>997</th>\n",
       "      <td>1320444583814156288</td>\n",
       "      <td>RT @WhiteHouse: In Maine, Medicare health plan...</td>\n",
       "      <td>True</td>\n",
       "      <td>False</td>\n",
       "      <td>Twitter for iPhone</td>\n",
       "      <td>0</td>\n",
       "      <td>7706</td>\n",
       "      <td>2020-10-25T19:18:16.000Z</td>\n",
       "      <td>negative</td>\n",
       "    </tr>\n",
       "    <tr>\n",
       "      <th>998</th>\n",
       "      <td>1320436393814806529</td>\n",
       "      <td>https://t.co/gsFSgh2KPc https://t.co/KTe3etEKhs</td>\n",
       "      <td>False</td>\n",
       "      <td>False</td>\n",
       "      <td>Twitter for iPhone</td>\n",
       "      <td>64516</td>\n",
       "      <td>11361</td>\n",
       "      <td>2020-10-25T18:45:43.000Z</td>\n",
       "      <td>neutral</td>\n",
       "    </tr>\n",
       "    <tr>\n",
       "      <th>999</th>\n",
       "      <td>1320435742200467457</td>\n",
       "      <td>RT @TeamTrump: President @realDonaldTrump: In ...</td>\n",
       "      <td>True</td>\n",
       "      <td>False</td>\n",
       "      <td>Twitter for iPhone</td>\n",
       "      <td>0</td>\n",
       "      <td>9175</td>\n",
       "      <td>2020-10-25T18:43:08.000Z</td>\n",
       "      <td>neutral</td>\n",
       "    </tr>\n",
       "  </tbody>\n",
       "</table>\n",
       "<p>1000 rows × 9 columns</p>\n",
       "</div>"
      ],
      "text/plain": [
       "                      id                                               text  \\\n",
       "0    1329233502139715586  Look at this in Wisconsin! A day AFTER the ele...   \n",
       "1    1329200307453239297  RT @AndrewHittGOP: BREAKING: WI Elections Comm...   \n",
       "2    1329158254660898816  RT @aricnesbitt: This afternoon, I joined my c...   \n",
       "3    1329150897641951233  Thank you @DarrellIssa, so nice! \\nhttps://t.c...   \n",
       "4    1329145487325339649  RT @realDonaldTrump: More reports of voting ma...   \n",
       "..                   ...                                                ...   \n",
       "995  1320444583638163457  RT @TeamTrump: President @realDonaldTrump: How...   \n",
       "996  1320444583717777410  RT @TeamTrump: President @realDonaldTrump: We ...   \n",
       "997  1320444583814156288  RT @WhiteHouse: In Maine, Medicare health plan...   \n",
       "998  1320436393814806529    https://t.co/gsFSgh2KPc https://t.co/KTe3etEKhs   \n",
       "999  1320435742200467457  RT @TeamTrump: President @realDonaldTrump: In ...   \n",
       "\n",
       "     isRetweet  isDeleted              device favorites retweets  \\\n",
       "0        False      False  Twitter for iPhone    199249    67689   \n",
       "1         True      False  Twitter for iPhone         0    13679   \n",
       "2         True      False  Twitter for iPhone         0    17227   \n",
       "3        False      False  Twitter for iPhone    103783    20416   \n",
       "4         True      False  Twitter for iPhone         0    29076   \n",
       "..         ...        ...                 ...       ...      ...   \n",
       "995       True      False  Twitter for iPhone         0     6504   \n",
       "996       True      False  Twitter for iPhone         0     6298   \n",
       "997       True      False  Twitter for iPhone         0     7706   \n",
       "998      False      False  Twitter for iPhone     64516    11361   \n",
       "999       True      False  Twitter for iPhone         0     9175   \n",
       "\n",
       "                         date sentiment  \n",
       "0    2020-11-19T01:22:17.000Z  negative  \n",
       "1    2020-11-18T23:10:23.000Z   neutral  \n",
       "2    2020-11-18T20:23:17.000Z  positive  \n",
       "3    2020-11-18T19:54:03.000Z  positive  \n",
       "4    2020-11-18T19:32:33.000Z  positive  \n",
       "..                        ...       ...  \n",
       "995  2020-10-25T19:18:16.000Z   neutral  \n",
       "996  2020-10-25T19:18:16.000Z  negative  \n",
       "997  2020-10-25T19:18:16.000Z  negative  \n",
       "998  2020-10-25T18:45:43.000Z   neutral  \n",
       "999  2020-10-25T18:43:08.000Z   neutral  \n",
       "\n",
       "[1000 rows x 9 columns]"
      ]
     },
     "execution_count": 125,
     "metadata": {},
     "output_type": "execute_result"
    }
   ],
   "source": [
    "# We r going to use tweepy and TextBlob for tweets\n",
    "import tweepy as tw\n",
    "from textblob import TextBlob\n",
    "\n",
    "# Create a function to get the subjectivity\n",
    "def getSubjectivity(text):\n",
    "    return TextBlob(text).sentiment.subjectivity\n",
    "\n",
    "# Create a function to get the polarity\n",
    "def getPolarity(text):\n",
    "    return  TextBlob(text).sentiment.polarity\n",
    "\n",
    "# We eliminate words less then 3 characters long and standardize all words to lowercase\n",
    "def filter_words(words):\n",
    "    words_filtered = [e.lower() for e in words.split() if len(e) >= 3]\n",
    "    return words_filtered\n",
    "\n",
    "\n",
    "# return neutral if small\n",
    "def calculateSentiment(text):\n",
    "    polarity = getPolarity(text)\n",
    "    if abs(polarity) < 0.05:\n",
    "        return 'neutral'\n",
    "    if polarity > 0:\n",
    "        return \"positive\"\n",
    "    else:\n",
    "        return \"negative\"\n",
    "    \n",
    "    \n",
    "# Create two new columns 'Subjectivity' & 'Polarity'\n",
    "data['sentiment'] = data['text'].apply(calculateSentiment)\n",
    "\n",
    "\n",
    "# Show the new dataframe with columns 'Subjectivity' & 'Polarity'\n",
    "data"
   ]
  },
  {
   "cell_type": "markdown",
   "metadata": {},
   "source": [
    "# We now split data into training, test, and validation"
   ]
  },
  {
   "cell_type": "code",
   "execution_count": 126,
   "metadata": {},
   "outputs": [],
   "source": [
    "from sklearn.model_selection import train_test_split\n",
    "\n",
    "X = data['text']\n",
    "y = data['sentiment']\n",
    "\n",
    "X_train, X_test, y_train, y_test = train_test_split(X, y, test_size=0.10, random_state=555)\n",
    "X_train, X_val, y_train, y_val = train_test_split(X_train, y_train, test_size=0.30, random_state=555)\n"
   ]
  },
  {
   "cell_type": "code",
   "execution_count": 127,
   "metadata": {},
   "outputs": [
    {
     "data": {
      "text/plain": [
       "630"
      ]
     },
     "execution_count": 127,
     "metadata": {},
     "output_type": "execute_result"
    }
   ],
   "source": [
    "len(X_train)"
   ]
  },
  {
   "cell_type": "code",
   "execution_count": 128,
   "metadata": {},
   "outputs": [
    {
     "data": {
      "text/plain": [
       "270"
      ]
     },
     "execution_count": 128,
     "metadata": {},
     "output_type": "execute_result"
    }
   ],
   "source": [
    "len(X_val)"
   ]
  },
  {
   "cell_type": "code",
   "execution_count": 129,
   "metadata": {},
   "outputs": [],
   "source": [
    "import numpy as np\n",
    "\n",
    "from azure.core.credentials import AzureKeyCredential\n",
    "from azure.ai.textanalytics import TextAnalyticsClient\n",
    "\n",
    "credential = AzureKeyCredential(\"cb61d607e5c8402b9742b8aa40207593\")\n",
    "text_analytics_client = TextAnalyticsClient(endpoint=\"https://trumptweetanalysissentiment.cognitiveservices.azure.com/\", credential=credential)\n",
    "    \n",
    "def call_azure(list_text_only_ten_items):\n",
    "    response = text_analytics_client.analyze_sentiment(list_text_only_ten_items)\n",
    "    successful_responses = [doc for doc in response if not doc.is_error]\n",
    "    return list_text_only_ten_items, list(map(lambda x: x['sentiment'], successful_responses))\n",
    "    \n",
    "# treat mixed and neutral sentiment as neutral\n",
    "def combine_mixed_neutral(sentiments):\n",
    "    converted = []\n",
    "    for item in sentiments:\n",
    "        newitem = 'neutral' if item == 'mixed' else item\n",
    "        converted.append(newitem)\n",
    "    return converted\n",
    "           \n",
    "# this is ground truth.  Using Azure sentiment\n",
    "def calculate_groundtruth_sentiment(list_of_texts):\n",
    "    sublists = np.split(np.array(list_of_texts.tolist()), list_of_texts.size / 10)\n",
    "    retvalues = list(map(lambda ls: call_azure(list(ls)), sublists))\n",
    "    sentiments = []\n",
    "    print(f'retvalues is {len(retvalues)}')\n",
    "    #print(f'retvalues = {retvalues}')\n",
    "    for item in retvalues:\n",
    "        print(f'item is {item}')\n",
    "        sentiments.append(item[1])    \n",
    "    sentiments = [item for items in sentiments for item in items]\n",
    "    print(f'len of sentiments is {len(sentiments)}')\n",
    "    return list_of_texts, combine_mixed_neutral(sentiments)\n"
   ]
  },
  {
   "cell_type": "code",
   "execution_count": 134,
   "metadata": {},
   "outputs": [
    {
     "name": "stdout",
     "output_type": "stream",
     "text": [
      "retvalues is 10\n",
      "item is (['https://t.co/EfYcyJtoJz', 'No way! https://t.co/Dwvb57mgMz', 'WHAT IS THIS ALL ABOUT? https://t.co/6487pYLZnL', '.@JakeLaTurner will be a phenomenal Congressman for the people of Kansas! He will help us Lower your Taxes, Support our Brave Law Enforcement, Build the Wall, and Protect and Defend your Second Amendment. Jake has my Complete and Total Endorsement! #KS02 https://t.co/Nzpbh7DqUN', 'THANK YOU! #MAGA https://t.co/EEmSU6uPAy', '“A Biden win would mean the end of Fracking in Pennsylvania, Texas, and everywhere else. Millions of jobs would be lost, and Energy prices would soar.” @OANN  And we would no longer be Energy Independent!!!', 'Flip Michigan back to TRUMP. Detroit, not surprisingly, has tremendous problems! https://t.co/RHhuoSMICg', 'Nate Simington, a very smart and qualified individual, is having his Senate hearing today. Republicans will hopefully confirm him to the FCC ASAP! We need action NOW on this very important nomination!!\\xa0@SenatorWicker @MarshaBlackburn @senatemajldr', '¡Mi #AmericanDreamPlan es una promesa para los hispanoamericanos de impulsar una economía próspera, proveer oportunidades de educación para todos, preservar la libertad y apoyar la fe, la familia y la comunidad!\\xa0https://t.co/RSuEyIFQ0W', 'RT @AndrewHittGOP: BREAKING: WI Elections Commission, after seeing President Trump’s recount petition and objections, is trying to change t…'], ['neutral', 'neutral', 'neutral', 'positive', 'positive', 'mixed', 'negative', 'positive', 'neutral', 'negative'])\n",
      "item is (['https://t.co/vTEBvG1Ucj', 'RT @DanScavino: https://t.co/u9mrFw0Xwm', 'https://t.co/ewR0TUgCtX', 'https://t.co/bo3vcckCCO', 'RT @SaraCarterDC: Read this biased @NYTimes story and then ask yourself if they treated @RealDonaldTrump in the same manner when they used…', 'RT @marklevinshow: Buzz Aldrin endorses Republican Martha McSally for Senate in Arizona. Rejects fellow astronaut and leftist Mark Kelly.\\nh…', 'He won because the Election was Rigged. NO VOTE WATCHERS OR OBSERVERS allowed, vote tabulated by a Radical Left privately owned company, Dominion, with a bad reputation &amp; bum equipment that couldn’t even qualify for Texas (which I won by a lot!), the Fake &amp; Silent Media, &amp; more! https://t.co/Exb3C1mAPg', 'Biden will repeal your Second Amendment and Pack the Court!', '“We should look at the votes. We’re just beginning the tabulation stage. We should look at these allegations. We’re seeing a number of affidavits that there has been voter fraud. We have a history in this country of election problems. In Pennsylvania you had an order by a...', 'RT @RichLowry: Congratulations to all involved. Trump made a great pick. McConnell played it shrewdly, as usual. Senate Republicans didn’t…'], ['neutral', 'neutral', 'neutral', 'neutral', 'negative', 'negative', 'negative', 'neutral', 'negative', 'mixed'])\n",
      "item is (['RT @realDonaldTrump: Joe Biden called me George yesterday. Couldn’t remember my name. Got some help from the anchor to get him through the…', 'We did not come this far, and fight this hard, only to surrender our Country back to the Washington Swamp—So get your friends, get your family, get your neighbors &amp; GET OUT &amp; VOTE! On November 3rd we must finish the job and Drain the Swamp once and for all.https://t.co/1HSPRkWMTg', \"RT @TrumpWarRoom: The liberal media says voter fraud doesn't happen. They're lying.\\n\\nSomeone used the identities of dead people to vote in…\", 'RT @swervinerv82: @catturd2 @gatewaypundit If Leland Vittert was anything but a CNN-esque hack...he’d at least be curious enough to ask que…', 'https://t.co/BlvIw1qaYu', 'Thank you Allentown, Pennsylvania! Together, we are going to MAKE AMERICA GREAT AGAIN! https://t.co/gsFSghkmdM https://t.co/aA0I8pBEGb https://t.co/ngUKFNhM0Q', '...Disasters. At every turn, Biden twisted his knife into the back of Michigan workers. In 2016, Michigan voted to FIRE this corrupt political establishment and you elected an outsider as President who is finally putting AMERICA FIRST!\\n\\n#VOTE #MAGA', 'https://t.co/gsFSghkmdM https://t.co/CgDeqKDXGH', 'Just landed in Wisconsin and passed this great sign, thank you! See everyone soon!! #MAGA https://t.co/l2G8JCXnqz', 'RT @SBANYPD: Another tape that will be blamed on the Russians...Max Rose does not work for his constituents he works for Max Rose. Vote him…'], ['mixed', 'negative', 'negative', 'negative', 'neutral', 'positive', 'negative', 'neutral', 'positive', 'mixed'])\n",
      "item is (['RT @dbongino: These errors only seem to ever happen in one direction. 👇 \\nhttps://t.co/tUxxxTbUJd', 'RT @PurpleBaptist: Stunning. Biden’s choice for chief of staff, Ron Klain, agreed that American “elections are rigged” in 2014 tweet. https…', 'https://t.co/x8OS4NpvHh', 'We need Genevieve Collins (@GCForCongress) in Congress for Texas! She is Strong on Jobs &amp; the Economy, National Security and Education, and she will always Defend your Second Amendment. Genevieve has my Complete and Total Endorsement! #TX32 https://t.co/7YwS3ZwTQe', 'The Supreme Court decision on voting in Pennsylvania is a VERY dangerous one. It will allow rampant and unchecked cheating and will undermine our entire systems of laws. It will also induce violence in the streets. Something must be done!', 'Thank you Goodyear, Arizona! Get out and VOTE — Together, we are going to MAKE AMERICA GREAT AGAIN! https://t.co/r7mVXvoFD2', 'Our prayers are with the people of Vienna after yet another vile act of terrorism in Europe. These evil attacks against innocent people must stop. The U.S. stands with Austria, France, and all of Europe in the fight against terrorists, including radical Islamic terrorists.', 'https://t.co/J99jQjt2wY', 'Thank you Dan! https://t.co/Y5Dc7In245', 'RT @realDonaldTrump: https://t.co/f97adSPs5K'], ['negative', 'mixed', 'neutral', 'positive', 'negative', 'positive', 'negative', 'neutral', 'positive', 'neutral'])\n",
      "item is (['https://t.co/gsFSgh2KPc https://t.co/j7Z5jC05wP', 'If you need information on how or where to VOTE, click below! #MAGA https://t.co/gsFSghkmdM', 'Thank you Newtown, Pennsylvania! #MAGA \\nhttps://t.co/0y7W5oRMom', 'RT @Reuters: Pfizer and BioNTech say their COVID-19 vaccine is more than 90% effective https://t.co/opdJE7dgjF https://t.co/CxMTk4WDBr', 'RT @Jim_Jordan: First win for election integrity!', 'Radical Left ANTIFA SCUM was easily rebuffed today by the big D.C. MAGA Rally crowd, only to return at night, after 99% of the crowd had left, to assault elderly people and families. Police got there, but late. Mayor is not doing her job!', 'RT @KimStrassel: 1) On this question of Joe Biden being somehow exonerated on the China deal, how so? WSJ news story correctly notes that h…', 'RT @josepheschmitz: True Electoral Count Shows Trump Winning | https://t.co/BxH22yEHhR https://t.co/yMDO2hG1OI via @Newsmax', 'RT @jmclghln: BREAKING EXCLUSIVE: Analysis of Election Night Data from All States Shows MILLIONS OF VOTES Either Switched from President Tr…', 'https://t.co/gsFSgh2KPc'], ['neutral', 'neutral', 'positive', 'neutral', 'positive', 'negative', 'negative', 'neutral', 'neutral', 'neutral'])\n",
      "item is (['Spirit like never before! https://t.co/2B7OCW6Rxc', 'RT @BreitbartNews: Ouch. https://t.co/uwCChJoX2V', 'RT @FLOTUS: This is admin will never stop fighting for the health &amp; safety of the American people. This is another big step in defeating th…', 'RT @washingtonpost: Senate confirms Amy Coney Barrett to Supreme Court, cementing a 6-3 conservative majority with Trump’s third justice ht…', 'Republicans, don’t let Andrew McCabe continue to get away with totally criminal activity. What he did should never be allowed to happen to our Country again. FIGHT FOR JUSTICE!', 'Volunteer to be a Trump Election Poll Watcher. Sign up today! #MAGA \\nhttps://t.co/3AnrRUPTtZ', 'https://t.co/PRSxtZNspW', \"RT @GregGutfeldShow: WATCH: Greg's latest monologue. #Gutfeld https://t.co/FSwXZmzXzX\", 'RT @TeamTrump: President @realDonaldTrump: The media asks Biden questions about ice cream, they don’t ask me questions like that! https://t…', 'Thank you Matt! https://t.co/hWiyWpvf8o'], ['neutral', 'neutral', 'negative', 'neutral', 'mixed', 'neutral', 'neutral', 'neutral', 'neutral', 'positive'])\n",
      "item is (['Joe Biden is a globalist who spent 47 years outsourcing your jobs, opening your borders, and sacrificing American blood and treasure in endless foreign wars. He shuttered your steel mills, annihilated your coal jobs, and supported every disastrous trade deal for half a century...', 'https://t.co/JxzM7kThko', 'Biden can never negotiate with China. They would own the U.S. if he were ever President!', 'I LOVE TEXAS! https://t.co/EP7P3AvE8L', 'SUPREME COURT!', 'Thank you @DarrellIssa, so nice!\\xa0\\nhttps://t.co/FlUfzV7pSQ', 'RT @DanScavino: https://t.co/SUshlvbkS2', 'RT @realDonaldTrump: https://t.co/gsFSghkmdM https://t.co/ao85KjMeBW', 'https://t.co/UPt8DZQC4N', 'The @US_FDA and the Democrats didn’t want to have me get a Vaccine WIN, prior to the election, so instead it came out five days later – As I’ve said all along!'], ['negative', 'neutral', 'neutral', 'positive', 'positive', 'positive', 'neutral', 'neutral', 'neutral', 'positive'])\n",
      "item is (['I am asking you to go VOTE for your favorite president, we still have work to do! Let’s WIN, WIN, WIN! https://t.co/ysLmOS689V', 'GDP number just announced. Biggest and Best in the History of our Country, and not even close. Next year will be FANTASTIC!!! However, Sleepy Joe Biden and his proposed record setting tax increase, would kill it all. So glad this great GDP number came out before November 3rd.', 'RT @jeffmason1: Rally crowd for @realDonaldTrump in Omaha, Nebraska. https://t.co/xlXuXGKfXi', 'RT @alexbruesewitz: 🚨🚨🚨\\n\\nFake News @BBCWorld reached out for an interview.\\n\\nI agreed.\\n\\nI let them know that their country’s opinion stopped…', 'https://t.co/Zh8KZ5v2sI', 'https://t.co/RjtXxzjuuo', 'https://t.co/6jKLxRTIPJ', 'They are working hard to make up 500,000 vote advantage in Pennsylvania disappear — ASAP. Likewise, Michigan and others!', 'The threshold identification of Ballots is turning out to be even bigger than originally anticipated. A very large number of Ballots are impacted. Stay tuned!', 'RT @joecollins43rd: 💯💯'], ['positive', 'mixed', 'neutral', 'negative', 'neutral', 'neutral', 'neutral', 'positive', 'neutral', 'neutral'])\n",
      "item is (['People will not accept this Rigged Election! https://t.co/XQAOIt5ZwU', 'Big problems and discrepancies with Mail In Ballots all over the USA. Must have final total on November 3rd.', 'THANK YOU PENNSYLVANIA!\\nhttps://t.co/pI55IZbmJ1', 'https://t.co/aqAf0KkoYn', 'This is why @FoxNews daytime and weekend daytime have lost their ratings. They are abysmal having @alfredenewman1 (Mayor Pete of Indiana’s most unsuccessful city, by far!) on more than Republicans. Many great alternatives are forming &amp; exist. Try @OANN &amp; @newsmax, among others! https://t.co/ewHE8GBRNy', 'Incredible evening, incredible people. Love Nebraska, and there were plenty of great people from Iowa there also! $28 Billion for Farmers!!! https://t.co/S7tn3krGdz', 'Doing a great job in Georgia. Their recount is a scam, means nothing. Must see fraudulent signatures which is prohibited by stupidly signed &amp; unconstitutional consent decree. @BrianKempGA https://t.co/UtEp3FN22S', 'Nothing! https://t.co/OurKkatwbE', 'https://t.co/aHEqP4fmIf', 'Joe Biden will PACK THE COURT. Also, he never gave the answer who his Radical Left Justices will be!'], ['negative', 'mixed', 'positive', 'neutral', 'mixed', 'positive', 'mixed', 'negative', 'neutral', 'negative'])\n",
      "item is (['Joe Biden is a corrupt politician who has done nothing but betray you for 47 long years - selling out to lobbyists, China, big pharma &amp; foreign countries. He will stab you in the back. He only cares about political power &amp; he will use that power to hurt you &amp; enrich his cronies! https://t.co/8B9kZ5sdEJ', 'The Fake News Media is riding COVID, COVID, COVID, all the way to the Election. Losers!', '.@DerrickVanOrden will be a terrific Congressman for Wisconsin! A former Navy SEAL, he will stand for Law &amp; Order, Jobs, the Wall, and he will always Protect Life and the Second Amendment. Derrick has my Complete and Total Endorsement! #WI03 https://t.co/wFd72N7LI9', 'RT @DanScavino: https://t.co/kSLgvNZarP', 'Joe Biden is promising to delay the vaccine and turn America into a prison state—locking you in your home while letting far-left rioters roam free. The Biden Lockdown will mean no school, no graduations, no weddings, no Thanksgiving, no Christmas, no Fourth of July, and...', 'Rigged? https://t.co/KX5S0IrouV', 'The only thing secure about our 2020 Election was that it was virtually\\xa0impenetrable\\xa0by foreign powers. On that, the Trump Administration takes great credit. Unfortunately, the Radical Left Democrats, Dominion, and others, were perhaps more successful!', 'The Fake News Media hardly even discussed the tens of thousands of people that came to D.C. Formed organically, and in many parts of the Country! https://t.co/wVsDx6GeGc', 'Landing in North Carolina. See you soon!', 'Thank you to the most incredible people on earth. I stand with you 100%. Get that great Officer back to work! https://t.co/nMH3MlBCqU'], ['negative', 'negative', 'positive', 'neutral', 'neutral', 'negative', 'mixed', 'negative', 'neutral', 'positive'])\n",
      "len of sentiments is 100\n"
     ]
    }
   ],
   "source": [
    "X_test, Y_test_groundtruth = calculate_groundtruth_sentiment(X_test)\n"
   ]
  },
  {
   "cell_type": "code",
   "execution_count": 135,
   "metadata": {},
   "outputs": [
    {
     "name": "stdout",
     "output_type": "stream",
     "text": [
      "accuracy_score is 0.65\n"
     ]
    }
   ],
   "source": [
    "from sklearn.metrics import accuracy_score, confusion_matrix, classification_report\n",
    "\n",
    "print(f'accuracy_score is {accuracy_score(Y_test_groundtruth, y_test)}')\n"
   ]
  },
  {
   "cell_type": "code",
   "execution_count": 136,
   "metadata": {},
   "outputs": [
    {
     "name": "stdout",
     "output_type": "stream",
     "text": [
      "confusion matrix is \n",
      "[[12 13  0]\n",
      " [ 1 40 13]\n",
      " [ 1  7 13]]\n"
     ]
    }
   ],
   "source": [
    "print(f'confusion matrix is \\n{confusion_matrix(Y_test_groundtruth, y_test)}')"
   ]
  },
  {
   "cell_type": "code",
   "execution_count": 137,
   "metadata": {},
   "outputs": [
    {
     "name": "stdout",
     "output_type": "stream",
     "text": [
      "classification report is \n",
      "              precision    recall  f1-score   support\n",
      "\n",
      "    negative       0.86      0.48      0.62        25\n",
      "     neutral       0.67      0.74      0.70        54\n",
      "    positive       0.50      0.62      0.55        21\n",
      "\n",
      "    accuracy                           0.65       100\n",
      "   macro avg       0.67      0.61      0.62       100\n",
      "weighted avg       0.68      0.65      0.65       100\n",
      "\n"
     ]
    }
   ],
   "source": [
    "print(f'classification report is \\n{classification_report(Y_test_groundtruth, y_test)}')"
   ]
  },
  {
   "cell_type": "markdown",
   "metadata": {},
   "source": [
    "# Let try cleaning the Tweets to see if we can get a better ground truth"
   ]
  },
  {
   "cell_type": "code",
   "execution_count": 181,
   "metadata": {},
   "outputs": [],
   "source": [
    "# Let's try to get better accuracy by cleaning the tweets text\n",
    "# Define some cleaning methods for the Tweet Text\n",
    "# Create a function to clean the tweets\n",
    "import re\n",
    "import string\n",
    "\n",
    "def remove_punct(text):\n",
    "    text  = \"\".join([char for char in text if char not in string.punctuation])\n",
    "    text = re.sub('[0-9]+', '', text)\n",
    "    return text\n",
    "\n",
    "def remove_doublespace(text):\n",
    "    text = re.sub('  +', ' ', text)\n",
    "    return text"
   ]
  },
  {
   "cell_type": "code",
   "execution_count": 182,
   "metadata": {},
   "outputs": [
    {
     "data": {
      "text/plain": [
       "True"
      ]
     },
     "execution_count": 182,
     "metadata": {},
     "output_type": "execute_result"
    }
   ],
   "source": [
    "remove_doublespace('    ') == ' '"
   ]
  },
  {
   "cell_type": "code",
   "execution_count": 183,
   "metadata": {},
   "outputs": [
    {
     "data": {
      "text/plain": [
       "True"
      ]
     },
     "execution_count": 183,
     "metadata": {},
     "output_type": "execute_result"
    }
   ],
   "source": [
    "remove_punct(\"Hello this is josh!!!\") == \"Hello this is josh\""
   ]
  },
  {
   "cell_type": "code",
   "execution_count": 184,
   "metadata": {},
   "outputs": [],
   "source": [
    "data['text'] = data['text'].apply(remove_punct)\n",
    "data['text'] = data['text'].apply(remove_doublespace)\n",
    "\n",
    "data['sentiment'] = data['text'].apply(calculateSentiment)\n",
    "X = data['text']\n",
    "y = data['sentiment']\n",
    "\n",
    "X_train, X_test, y_train, y_test = train_test_split(X, y, test_size=0.10, random_state=555)\n",
    "X_train, X_val, y_train, y_val = train_test_split(X_train, y_train, test_size=0.30, random_state=555)\n"
   ]
  },
  {
   "cell_type": "code",
   "execution_count": 185,
   "metadata": {},
   "outputs": [
    {
     "name": "stdout",
     "output_type": "stream",
     "text": [
      "retvalues is 10\n",
      "item is (['httpstcoEfYcyJtoJz', 'No way httpstcoDwvbmgMz', 'WHAT IS THIS ALL ABOUT httpstcopYLZnL', 'JakeLaTurner will be a phenomenal Congressman for the people of Kansas He will help us Lower your Taxes Support our Brave Law Enforcement Build the Wall and Protect and Defend your Second Amendment Jake has my Complete and Total Endorsement KS httpstcoNzpbhDqUN', 'THANK YOU MAGA httpstcoEEmSUuPAy', '“A Biden win would mean the end of Fracking in Pennsylvania Texas and everywhere else Millions of jobs would be lost and Energy prices would soar” OANN And we would no longer be Energy Independent', 'Flip Michigan back to TRUMP Detroit not surprisingly has tremendous problems httpstcoRHhuoSMICg', 'Nate Simington a very smart and qualified individual is having his Senate hearing today Republicans will hopefully confirm him to the FCC ASAP We need action NOW on this very important nomination\\xa0SenatorWicker MarshaBlackburn senatemajldr', '¡Mi AmericanDreamPlan es una promesa para los hispanoamericanos de impulsar una economía próspera proveer oportunidades de educación para todos preservar la libertad y apoyar la fe la familia y la comunidad\\xa0httpstcoRSuEyIFQW', 'RT AndrewHittGOP BREAKING WI Elections Commission after seeing President Trump’s recount petition and objections is trying to change t…'], ['neutral', 'neutral', 'neutral', 'neutral', 'positive', 'negative', 'negative', 'positive', 'neutral', 'negative'])\n",
      "item is (['httpstcovTEBvGUcj', 'RT DanScavino httpstcoumrFwXwm', 'httpstcoewRTUgCtX', 'httpstcobovcckCCO', 'RT SaraCarterDC Read this biased NYTimes story and then ask yourself if they treated RealDonaldTrump in the same manner when they used…', 'RT marklevinshow Buzz Aldrin endorses Republican Martha McSally for Senate in Arizona Rejects fellow astronaut and leftist Mark Kelly\\nh…', 'He won because the Election was Rigged NO VOTE WATCHERS OR OBSERVERS allowed vote tabulated by a Radical Left privately owned company Dominion with a bad reputation amp bum equipment that couldn’t even qualify for Texas which I won by a lot the Fake amp Silent Media amp more httpstcoExbCmAPg', 'Biden will repeal your Second Amendment and Pack the Court', '“We should look at the votes We’re just beginning the tabulation stage We should look at these allegations We’re seeing a number of affidavits that there has been voter fraud We have a history in this country of election problems In Pennsylvania you had an order by a', 'RT RichLowry Congratulations to all involved Trump made a great pick McConnell played it shrewdly as usual Senate Republicans didn’t…'], ['neutral', 'neutral', 'neutral', 'neutral', 'negative', 'neutral', 'negative', 'neutral', 'negative', 'positive'])\n",
      "item is (['RT realDonaldTrump Joe Biden called me George yesterday Couldn’t remember my name Got some help from the anchor to get him through the…', 'We did not come this far and fight this hard only to surrender our Country back to the Washington Swamp—So get your friends get your family get your neighbors amp GET OUT amp VOTE On November rd we must finish the job and Drain the Swamp once and for allhttpstcoHSPRkWMTg', 'RT TrumpWarRoom The liberal media says voter fraud doesnt happen Theyre lying\\n\\nSomeone used the identities of dead people to vote in…', 'RT swervinerv catturd gatewaypundit If Leland Vittert was anything but a CNNesque hackhe’d at least be curious enough to ask que…', 'httpstcoBlvIwqaYu', 'Thank you Allentown Pennsylvania Together we are going to MAKE AMERICA GREAT AGAIN httpstcogsFSghkmdM httpstcoaAIpBEGb httpstcongUKFNhMQ', 'Disasters At every turn Biden twisted his knife into the back of Michigan workers In Michigan voted to FIRE this corrupt political establishment and you elected an outsider as President who is finally putting AMERICA FIRST\\n\\nVOTE MAGA', 'httpstcogsFSghkmdM httpstcoCgDeqKDXGH', 'Just landed in Wisconsin and passed this great sign thank you See everyone soon MAGA httpstcolGJCXnqz', 'RT SBANYPD Another tape that will be blamed on the RussiansMax Rose does not work for his constituents he works for Max Rose Vote him…'], ['positive', 'negative', 'negative', 'neutral', 'neutral', 'positive', 'negative', 'neutral', 'positive', 'negative'])\n",
      "item is (['RT dbongino These errors only seem to ever happen in one direction 👇 \\nhttpstcotUxxxTbUJd', 'RT PurpleBaptist Stunning Biden’s choice for chief of staff Ron Klain agreed that American “elections are rigged” in tweet https…', 'httpstcoxOSNpvHh', 'We need Genevieve Collins GCForCongress in Congress for Texas She is Strong on Jobs amp the Economy National Security and Education and she will always Defend your Second Amendment Genevieve has my Complete and Total Endorsement TX httpstcoYwSZwTQe', 'The Supreme Court decision on voting in Pennsylvania is a VERY dangerous one It will allow rampant and unchecked cheating and will undermine our entire systems of laws It will also induce violence in the streets Something must be done', 'Thank you Goodyear Arizona Get out and VOTE — Together we are going to MAKE AMERICA GREAT AGAIN httpstcormVXvoFD', 'Our prayers are with the people of Vienna after yet another vile act of terrorism in Europe These evil attacks against innocent people must stop The US stands with Austria France and all of Europe in the fight against terrorists including radical Islamic terrorists', 'httpstcoJjQjtwY', 'Thank you Dan httpstcoYDcIn', 'RT realDonaldTrump httpstcofadSPsK'], ['negative', 'positive', 'neutral', 'positive', 'negative', 'positive', 'negative', 'positive', 'positive', 'neutral'])\n",
      "item is (['httpstcogsFSghKPc httpstcojZjCwP', 'If you need information on how or where to VOTE click below MAGA httpstcogsFSghkmdM', 'Thank you Newtown Pennsylvania MAGA \\nhttpstcoyWoRMom', 'RT Reuters Pfizer and BioNTech say their COVID vaccine is more than effective httpstcoopdJEdgjF httpstcoCxMTkWDBr', 'RT JimJordan First win for election integrity', 'Radical Left ANTIFA SCUM was easily rebuffed today by the big DC MAGA Rally crowd only to return at night after of the crowd had left to assault elderly people and families Police got there but late Mayor is not doing her job', 'RT KimStrassel On this question of Joe Biden being somehow exonerated on the China deal how so WSJ news story correctly notes that h…', 'RT josepheschmitz True Electoral Count Shows Trump Winning httpstcoBxHyEHhR httpstcoyMDOhGOI via Newsmax', 'RT jmclghln BREAKING EXCLUSIVE Analysis of Election Night Data from All States Shows MILLIONS OF VOTES Either Switched from President Tr…', 'httpstcogsFSghKPc'], ['neutral', 'neutral', 'positive', 'neutral', 'positive', 'negative', 'negative', 'neutral', 'neutral', 'neutral'])\n",
      "item is (['Spirit like never before httpstcoBOCWRxc', 'RT BreitbartNews Ouch httpstcouwCChJoXV', 'RT FLOTUS This is admin will never stop fighting for the health amp safety of the American people This is another big step in defeating th…', 'RT washingtonpost Senate confirms Amy Coney Barrett to Supreme Court cementing a conservative majority with Trump’s third justice ht…', 'Republicans don’t let Andrew McCabe continue to get away with totally criminal activity What he did should never be allowed to happen to our Country again FIGHT FOR JUSTICE', 'Volunteer to be a Trump Election Poll Watcher Sign up today MAGA \\nhttpstcoAnrRUPTtZ', 'httpstcoPRSxtZNspW', 'RT GregGutfeldShow WATCH Gregs latest monologue Gutfeld httpstcoFSwXZmzXzX', 'RT TeamTrump President realDonaldTrump The media asks Biden questions about ice cream they don’t ask me questions like that httpst…', 'Thank you Matt httpstcohWiyWpvfo'], ['neutral', 'neutral', 'negative', 'neutral', 'negative', 'neutral', 'neutral', 'neutral', 'neutral', 'positive'])\n",
      "item is (['Joe Biden is a globalist who spent years outsourcing your jobs opening your borders and sacrificing American blood and treasure in endless foreign wars He shuttered your steel mills annihilated your coal jobs and supported every disastrous trade deal for half a century', 'httpstcoJxzMkThko', 'Biden can never negotiate with China They would own the US if he were ever President', 'I LOVE TEXAS httpstcoEPPAvEL', 'SUPREME COURT', 'Thank you DarrellIssa so nice\\xa0\\nhttpstcoFlUfzVpSQ', 'RT DanScavino httpstcoSUshlvbkS', 'RT realDonaldTrump httpstcogsFSghkmdM httpstcoaoKjMeBW', 'httpstcoUPtDZQCN', 'The USFDA and the Democrats didn’t want to have me get a Vaccine WIN prior to the election so instead it came out five days later – As I’ve said all along'], ['neutral', 'neutral', 'neutral', 'positive', 'positive', 'positive', 'neutral', 'neutral', 'neutral', 'positive'])\n",
      "item is (['I am asking you to go VOTE for your favorite president we still have work to do Let’s WIN WIN WIN httpstcoysLmOSV', 'GDP number just announced Biggest and Best in the History of our Country and not even close Next year will be FANTASTIC However Sleepy Joe Biden and his proposed record setting tax increase would kill it all So glad this great GDP number came out before November rd', 'RT jeffmason Rally crowd for realDonaldTrump in Omaha Nebraska httpstcoxlXuXGKfXi', 'RT alexbruesewitz 🚨🚨🚨\\n\\nFake News BBCWorld reached out for an interview\\n\\nI agreed\\n\\nI let them know that their country’s opinion stopped…', 'httpstcoZhKZvsI', 'httpstcoRjtXxzjuuo', 'httpstcojKLxRTIPJ', 'They are working hard to make up vote advantage in Pennsylvania disappear — ASAP Likewise Michigan and others', 'The threshold identification of Ballots is turning out to be even bigger than originally anticipated A very large number of Ballots are impacted Stay tuned', 'RT joecollinsrd 💯💯'], ['positive', 'positive', 'neutral', 'negative', 'neutral', 'neutral', 'neutral', 'positive', 'negative', 'neutral'])\n",
      "item is (['People will not accept this Rigged Election httpstcoXQAOItZwU', 'Big problems and discrepancies with Mail In Ballots all over the USA Must have final total on November rd', 'THANK YOU PENNSYLVANIA\\nhttpstcopIIZbmJ', 'httpstcoaqAfKkoYn', 'This is why FoxNews daytime and weekend daytime have lost their ratings They are abysmal having alfredenewman Mayor Pete of Indiana’s most unsuccessful city by far on more than Republicans Many great alternatives are forming amp exist Try OANN amp newsmax among others httpstcoewHEGBRNy', 'Incredible evening incredible people Love Nebraska and there were plenty of great people from Iowa there also Billion for Farmers httpstcoStnkrGdz', 'Doing a great job in Georgia Their recount is a scam means nothing Must see fraudulent signatures which is prohibited by stupidly signed amp unconstitutional consent decree BrianKempGA httpstcoUtEpFNS', 'Nothing httpstcoOurKkatwbE', 'httpstcoaHEqPfmIf', 'Joe Biden will PACK THE COURT Also he never gave the answer who his Radical Left Justices will be'], ['negative', 'negative', 'positive', 'neutral', 'negative', 'positive', 'negative', 'neutral', 'neutral', 'negative'])\n",
      "item is (['Joe Biden is a corrupt politician who has done nothing but betray you for long years selling out to lobbyists China big pharma amp foreign countries He will stab you in the back He only cares about political power amp he will use that power to hurt you amp enrich his cronies httpstcoBkZsdEJ', 'The Fake News Media is riding COVID COVID COVID all the way to the Election Losers', 'DerrickVanOrden will be a terrific Congressman for Wisconsin A former Navy SEAL he will stand for Law amp Order Jobs the Wall and he will always Protect Life and the Second Amendment Derrick has my Complete and Total Endorsement WI httpstcowFdNLI', 'RT DanScavino httpstcokSLgvNZarP', 'Joe Biden is promising to delay the vaccine and turn America into a prison state—locking you in your home while letting farleft rioters roam free The Biden Lockdown will mean no school no graduations no weddings no Thanksgiving no Christmas no Fourth of July and', 'Rigged httpstcoKXSIrouV', 'The only thing secure about our Election was that it was virtually\\xa0impenetrable\\xa0by foreign powers On that the Trump Administration takes great credit Unfortunately the Radical Left Democrats Dominion and others were perhaps more successful', 'The Fake News Media hardly even discussed the tens of thousands of people that came to DC Formed organically and in many parts of the Country httpstcowVsDxGeGc', 'Landing in North Carolina See you soon', 'Thank you to the most incredible people on earth I stand with you Get that great Officer back to work httpstconMHMlBCqU'], ['negative', 'negative', 'positive', 'neutral', 'neutral', 'neutral', 'positive', 'negative', 'neutral', 'positive'])\n",
      "len of sentiments is 100\n"
     ]
    }
   ],
   "source": [
    "X_test, Y_test_groundtruth = calculate_groundtruth_sentiment(X_test)\n"
   ]
  },
  {
   "cell_type": "code",
   "execution_count": 186,
   "metadata": {},
   "outputs": [
    {
     "data": {
      "text/plain": [
       "100"
      ]
     },
     "execution_count": 186,
     "metadata": {},
     "output_type": "execute_result"
    }
   ],
   "source": [
    "len(X_test)"
   ]
  },
  {
   "cell_type": "code",
   "execution_count": 187,
   "metadata": {},
   "outputs": [
    {
     "data": {
      "text/plain": [
       "100"
      ]
     },
     "execution_count": 187,
     "metadata": {},
     "output_type": "execute_result"
    }
   ],
   "source": [
    "len(y_test)"
   ]
  },
  {
   "cell_type": "code",
   "execution_count": 188,
   "metadata": {},
   "outputs": [
    {
     "data": {
      "text/plain": [
       "100"
      ]
     },
     "execution_count": 188,
     "metadata": {},
     "output_type": "execute_result"
    }
   ],
   "source": [
    "len(Y_test_groundtruth)"
   ]
  },
  {
   "cell_type": "code",
   "execution_count": 189,
   "metadata": {},
   "outputs": [
    {
     "name": "stdout",
     "output_type": "stream",
     "text": [
      "accuracy_score is 0.64\n"
     ]
    }
   ],
   "source": [
    "print(f'accuracy_score is {accuracy_score(Y_test_groundtruth, y_test)}')\n"
   ]
  },
  {
   "cell_type": "code",
   "execution_count": 190,
   "metadata": {},
   "outputs": [
    {
     "data": {
      "text/plain": [
       "357                                   httpstcoEfYcyJtoJz\n",
       "81                               No way httpstcoDwvbmgMz\n",
       "436                WHAT IS THIS ALL ABOUT httpstcopYLZnL\n",
       "657    JakeLaTurner will be a phenomenal Congressman ...\n",
       "654                     THANK YOU MAGA httpstcoEEmSUuPAy\n",
       "                             ...                        \n",
       "742                              Rigged httpstcoKXSIrouV\n",
       "34     The only thing secure about our Election was t...\n",
       "132    The Fake News Media hardly even discussed the ...\n",
       "530               Landing in North Carolina See you soon\n",
       "886    Thank you to the most incredible people on ear...\n",
       "Name: text, Length: 100, dtype: object"
      ]
     },
     "execution_count": 190,
     "metadata": {},
     "output_type": "execute_result"
    }
   ],
   "source": [
    "X_test"
   ]
  },
  {
   "cell_type": "code",
   "execution_count": 178,
   "metadata": {},
   "outputs": [
    {
     "data": {
      "text/plain": [
       "'httpstcoEfYcyJtoJz'"
      ]
     },
     "execution_count": 178,
     "metadata": {},
     "output_type": "execute_result"
    }
   ],
   "source": [
    "X_test[357]"
   ]
  },
  {
   "cell_type": "code",
   "execution_count": 179,
   "metadata": {},
   "outputs": [
    {
     "data": {
      "text/plain": [
       "''"
      ]
     },
     "execution_count": 179,
     "metadata": {},
     "output_type": "execute_result"
    }
   ],
   "source": [
    "mystr = ''\n",
    "mystr"
   ]
  },
  {
   "cell_type": "code",
   "execution_count": 164,
   "metadata": {},
   "outputs": [
    {
     "data": {
      "text/plain": [
       "False"
      ]
     },
     "execution_count": 164,
     "metadata": {},
     "output_type": "execute_result"
    }
   ],
   "source": [
    "X_test[357] == mystr"
   ]
  },
  {
   "cell_type": "code",
   "execution_count": 149,
   "metadata": {},
   "outputs": [
    {
     "data": {
      "text/plain": [
       "True"
      ]
     },
     "execution_count": 149,
     "metadata": {},
     "output_type": "execute_result"
    }
   ],
   "source": [
    "not ''"
   ]
  },
  {
   "cell_type": "code",
   "execution_count": 150,
   "metadata": {},
   "outputs": [],
   "source": [
    "import pandas as pd\n",
    "\n",
    "d = {'text': ['hello', '', ' ']}\n",
    "df = pd.DataFrame(data=d)"
   ]
  },
  {
   "cell_type": "code",
   "execution_count": 151,
   "metadata": {},
   "outputs": [
    {
     "data": {
      "text/html": [
       "<div>\n",
       "<style scoped>\n",
       "    .dataframe tbody tr th:only-of-type {\n",
       "        vertical-align: middle;\n",
       "    }\n",
       "\n",
       "    .dataframe tbody tr th {\n",
       "        vertical-align: top;\n",
       "    }\n",
       "\n",
       "    .dataframe thead th {\n",
       "        text-align: right;\n",
       "    }\n",
       "</style>\n",
       "<table border=\"1\" class=\"dataframe\">\n",
       "  <thead>\n",
       "    <tr style=\"text-align: right;\">\n",
       "      <th></th>\n",
       "      <th>text</th>\n",
       "    </tr>\n",
       "  </thead>\n",
       "  <tbody>\n",
       "    <tr>\n",
       "      <th>0</th>\n",
       "      <td>hello</td>\n",
       "    </tr>\n",
       "    <tr>\n",
       "      <th>1</th>\n",
       "      <td></td>\n",
       "    </tr>\n",
       "    <tr>\n",
       "      <th>2</th>\n",
       "      <td></td>\n",
       "    </tr>\n",
       "  </tbody>\n",
       "</table>\n",
       "</div>"
      ],
      "text/plain": [
       "    text\n",
       "0  hello\n",
       "1       \n",
       "2       "
      ]
     },
     "execution_count": 151,
     "metadata": {},
     "output_type": "execute_result"
    }
   ],
   "source": [
    "df"
   ]
  },
  {
   "cell_type": "code",
   "execution_count": 152,
   "metadata": {},
   "outputs": [],
   "source": [
    "blank = df[(df['text'] == '') | (df['text'].str.isspace())]\n"
   ]
  },
  {
   "cell_type": "code",
   "execution_count": 153,
   "metadata": {},
   "outputs": [
    {
     "data": {
      "text/html": [
       "<div>\n",
       "<style scoped>\n",
       "    .dataframe tbody tr th:only-of-type {\n",
       "        vertical-align: middle;\n",
       "    }\n",
       "\n",
       "    .dataframe tbody tr th {\n",
       "        vertical-align: top;\n",
       "    }\n",
       "\n",
       "    .dataframe thead th {\n",
       "        text-align: right;\n",
       "    }\n",
       "</style>\n",
       "<table border=\"1\" class=\"dataframe\">\n",
       "  <thead>\n",
       "    <tr style=\"text-align: right;\">\n",
       "      <th></th>\n",
       "      <th>text</th>\n",
       "    </tr>\n",
       "  </thead>\n",
       "  <tbody>\n",
       "    <tr>\n",
       "      <th>1</th>\n",
       "      <td></td>\n",
       "    </tr>\n",
       "    <tr>\n",
       "      <th>2</th>\n",
       "      <td></td>\n",
       "    </tr>\n",
       "  </tbody>\n",
       "</table>\n",
       "</div>"
      ],
      "text/plain": [
       "  text\n",
       "1     \n",
       "2     "
      ]
     },
     "execution_count": 153,
     "metadata": {},
     "output_type": "execute_result"
    }
   ],
   "source": [
    "blank"
   ]
  },
  {
   "cell_type": "code",
   "execution_count": 197,
   "metadata": {},
   "outputs": [],
   "source": [
    "from sklearn.feature_extraction.text import CountVectorizer\n",
    "\n",
    "vectorizer = CountVectorizer(\n",
    "    analyzer = 'word',\n",
    "    lowercase = False,\n",
    ")\n",
    "features = vectorizer.fit_transform(\n",
    "    data\n",
    ")\n",
    "features_nd = features.toarray() # for easy usage"
   ]
  },
  {
   "cell_type": "code",
   "execution_count": 204,
   "metadata": {},
   "outputs": [
    {
     "data": {
      "text/plain": [
       "array([[0, 0, 0, 1, 0, 0, 0, 0, 0],\n",
       "       [0, 0, 0, 0, 0, 0, 0, 0, 1],\n",
       "       [0, 0, 0, 0, 0, 1, 0, 0, 0],\n",
       "       [0, 0, 0, 0, 1, 0, 0, 0, 0],\n",
       "       [0, 1, 0, 0, 0, 0, 0, 0, 0],\n",
       "       [0, 0, 1, 0, 0, 0, 0, 0, 0],\n",
       "       [0, 0, 0, 0, 0, 0, 1, 0, 0],\n",
       "       [1, 0, 0, 0, 0, 0, 0, 0, 0],\n",
       "       [0, 0, 0, 0, 0, 0, 0, 1, 0]])"
      ]
     },
     "execution_count": 204,
     "metadata": {},
     "output_type": "execute_result"
    }
   ],
   "source": [
    "features_nd"
   ]
  },
  {
   "cell_type": "code",
   "execution_count": 198,
   "metadata": {},
   "outputs": [],
   "source": [
    "# https://www.twilio.com/blog/2017/12/sentiment-analysis-scikit-learn.html\n",
    "from sklearn.linear_model import LogisticRegression\n",
    "log_model = LogisticRegression()"
   ]
  },
  {
   "cell_type": "code",
   "execution_count": 206,
   "metadata": {},
   "outputs": [
    {
     "ename": "ValueError",
     "evalue": "Found input variables with inconsistent numbers of samples: [9, 3]",
     "output_type": "error",
     "traceback": [
      "\u001b[0;31m---------------------------------------------------------------------------\u001b[0m",
      "\u001b[0;31mValueError\u001b[0m                                Traceback (most recent call last)",
      "\u001b[0;32m<ipython-input-206-2250bfc82946>\u001b[0m in \u001b[0;36m<module>\u001b[0;34m\u001b[0m\n\u001b[1;32m      5\u001b[0m         \u001b[0;34m[\u001b[0m\u001b[0;34m'positive'\u001b[0m\u001b[0;34m,\u001b[0m \u001b[0;34m'neutral'\u001b[0m\u001b[0;34m,\u001b[0m \u001b[0;34m'negative'\u001b[0m\u001b[0;34m]\u001b[0m\u001b[0;34m,\u001b[0m\u001b[0;34m\u001b[0m\u001b[0m\n\u001b[1;32m      6\u001b[0m         \u001b[0mtrain_size\u001b[0m\u001b[0;34m=\u001b[0m\u001b[0;36m0.80\u001b[0m\u001b[0;34m,\u001b[0m\u001b[0;34m\u001b[0m\u001b[0m\n\u001b[0;32m----> 7\u001b[0;31m         random_state=1234)\n\u001b[0m",
      "\u001b[0;32m~/opt/miniconda3/envs/dsc540/lib/python3.7/site-packages/sklearn/model_selection/_split.py\u001b[0m in \u001b[0;36mtrain_test_split\u001b[0;34m(*arrays, **options)\u001b[0m\n\u001b[1;32m   2125\u001b[0m         \u001b[0;32mraise\u001b[0m \u001b[0mTypeError\u001b[0m\u001b[0;34m(\u001b[0m\u001b[0;34m\"Invalid parameters passed: %s\"\u001b[0m \u001b[0;34m%\u001b[0m \u001b[0mstr\u001b[0m\u001b[0;34m(\u001b[0m\u001b[0moptions\u001b[0m\u001b[0;34m)\u001b[0m\u001b[0;34m)\u001b[0m\u001b[0;34m\u001b[0m\u001b[0m\n\u001b[1;32m   2126\u001b[0m \u001b[0;34m\u001b[0m\u001b[0m\n\u001b[0;32m-> 2127\u001b[0;31m     \u001b[0marrays\u001b[0m \u001b[0;34m=\u001b[0m \u001b[0mindexable\u001b[0m\u001b[0;34m(\u001b[0m\u001b[0;34m*\u001b[0m\u001b[0marrays\u001b[0m\u001b[0;34m)\u001b[0m\u001b[0;34m\u001b[0m\u001b[0m\n\u001b[0m\u001b[1;32m   2128\u001b[0m \u001b[0;34m\u001b[0m\u001b[0m\n\u001b[1;32m   2129\u001b[0m     \u001b[0mn_samples\u001b[0m \u001b[0;34m=\u001b[0m \u001b[0m_num_samples\u001b[0m\u001b[0;34m(\u001b[0m\u001b[0marrays\u001b[0m\u001b[0;34m[\u001b[0m\u001b[0;36m0\u001b[0m\u001b[0;34m]\u001b[0m\u001b[0;34m)\u001b[0m\u001b[0;34m\u001b[0m\u001b[0m\n",
      "\u001b[0;32m~/opt/miniconda3/envs/dsc540/lib/python3.7/site-packages/sklearn/utils/validation.py\u001b[0m in \u001b[0;36mindexable\u001b[0;34m(*iterables)\u001b[0m\n\u001b[1;32m    290\u001b[0m     \"\"\"\n\u001b[1;32m    291\u001b[0m     \u001b[0mresult\u001b[0m \u001b[0;34m=\u001b[0m \u001b[0;34m[\u001b[0m\u001b[0m_make_indexable\u001b[0m\u001b[0;34m(\u001b[0m\u001b[0mX\u001b[0m\u001b[0;34m)\u001b[0m \u001b[0;32mfor\u001b[0m \u001b[0mX\u001b[0m \u001b[0;32min\u001b[0m \u001b[0miterables\u001b[0m\u001b[0;34m]\u001b[0m\u001b[0;34m\u001b[0m\u001b[0m\n\u001b[0;32m--> 292\u001b[0;31m     \u001b[0mcheck_consistent_length\u001b[0m\u001b[0;34m(\u001b[0m\u001b[0;34m*\u001b[0m\u001b[0mresult\u001b[0m\u001b[0;34m)\u001b[0m\u001b[0;34m\u001b[0m\u001b[0m\n\u001b[0m\u001b[1;32m    293\u001b[0m     \u001b[0;32mreturn\u001b[0m \u001b[0mresult\u001b[0m\u001b[0;34m\u001b[0m\u001b[0m\n\u001b[1;32m    294\u001b[0m \u001b[0;34m\u001b[0m\u001b[0m\n",
      "\u001b[0;32m~/opt/miniconda3/envs/dsc540/lib/python3.7/site-packages/sklearn/utils/validation.py\u001b[0m in \u001b[0;36mcheck_consistent_length\u001b[0;34m(*arrays)\u001b[0m\n\u001b[1;32m    254\u001b[0m     \u001b[0;32mif\u001b[0m \u001b[0mlen\u001b[0m\u001b[0;34m(\u001b[0m\u001b[0muniques\u001b[0m\u001b[0;34m)\u001b[0m \u001b[0;34m>\u001b[0m \u001b[0;36m1\u001b[0m\u001b[0;34m:\u001b[0m\u001b[0;34m\u001b[0m\u001b[0m\n\u001b[1;32m    255\u001b[0m         raise ValueError(\"Found input variables with inconsistent numbers of\"\n\u001b[0;32m--> 256\u001b[0;31m                          \" samples: %r\" % [int(l) for l in lengths])\n\u001b[0m\u001b[1;32m    257\u001b[0m \u001b[0;34m\u001b[0m\u001b[0m\n\u001b[1;32m    258\u001b[0m \u001b[0;34m\u001b[0m\u001b[0m\n",
      "\u001b[0;31mValueError\u001b[0m: Found input variables with inconsistent numbers of samples: [9, 3]"
     ]
    }
   ],
   "source": [
    "from sklearn.model_selection import train_test_split\n",
    "\n",
    "X_train, X_test, y_train, y_test  = train_test_split(\n",
    "        features_nd, \n",
    "        ['positive', 'neutral', 'negative'],\n",
    "        train_size=0.80, \n",
    "        random_state=1234)"
   ]
  },
  {
   "cell_type": "code",
   "execution_count": 193,
   "metadata": {},
   "outputs": [
    {
     "ename": "ValueError",
     "evalue": "could not convert string to float: 'WATCH DC Cops Direct TrumpSupporters into Gauntlet of Protesters Do Nothing When They Are Assaulted httpstcoyDCbZou via BreitbartNews These thugs and lowlifes only stalked and attacked when most of the tens of thousands of people had left town Ran away earlier'",
     "output_type": "error",
     "traceback": [
      "\u001b[0;31m---------------------------------------------------------------------------\u001b[0m",
      "\u001b[0;31mValueError\u001b[0m                                Traceback (most recent call last)",
      "\u001b[0;32m<ipython-input-193-9a80f2bd3c3c>\u001b[0m in \u001b[0;36m<module>\u001b[0;34m\u001b[0m\n\u001b[0;32m----> 1\u001b[0;31m \u001b[0mlog_model\u001b[0m \u001b[0;34m=\u001b[0m \u001b[0mlog_model\u001b[0m\u001b[0;34m.\u001b[0m\u001b[0mfit\u001b[0m\u001b[0;34m(\u001b[0m\u001b[0mX\u001b[0m\u001b[0;34m=\u001b[0m\u001b[0mX_train\u001b[0m\u001b[0;34m,\u001b[0m \u001b[0my\u001b[0m\u001b[0;34m=\u001b[0m\u001b[0my_train\u001b[0m\u001b[0;34m)\u001b[0m\u001b[0;34m\u001b[0m\u001b[0m\n\u001b[0m",
      "\u001b[0;32m~/opt/miniconda3/envs/dsc540/lib/python3.7/site-packages/sklearn/linear_model/_logistic.py\u001b[0m in \u001b[0;36mfit\u001b[0;34m(self, X, y, sample_weight)\u001b[0m\n\u001b[1;32m   1342\u001b[0m         X, y = self._validate_data(X, y, accept_sparse='csr', dtype=_dtype,\n\u001b[1;32m   1343\u001b[0m                                    \u001b[0morder\u001b[0m\u001b[0;34m=\u001b[0m\u001b[0;34m\"C\"\u001b[0m\u001b[0;34m,\u001b[0m\u001b[0;34m\u001b[0m\u001b[0m\n\u001b[0;32m-> 1344\u001b[0;31m                                    accept_large_sparse=solver != 'liblinear')\n\u001b[0m\u001b[1;32m   1345\u001b[0m         \u001b[0mcheck_classification_targets\u001b[0m\u001b[0;34m(\u001b[0m\u001b[0my\u001b[0m\u001b[0;34m)\u001b[0m\u001b[0;34m\u001b[0m\u001b[0m\n\u001b[1;32m   1346\u001b[0m         \u001b[0mself\u001b[0m\u001b[0;34m.\u001b[0m\u001b[0mclasses_\u001b[0m \u001b[0;34m=\u001b[0m \u001b[0mnp\u001b[0m\u001b[0;34m.\u001b[0m\u001b[0munique\u001b[0m\u001b[0;34m(\u001b[0m\u001b[0my\u001b[0m\u001b[0;34m)\u001b[0m\u001b[0;34m\u001b[0m\u001b[0m\n",
      "\u001b[0;32m~/opt/miniconda3/envs/dsc540/lib/python3.7/site-packages/sklearn/base.py\u001b[0m in \u001b[0;36m_validate_data\u001b[0;34m(self, X, y, reset, validate_separately, **check_params)\u001b[0m\n\u001b[1;32m    430\u001b[0m                 \u001b[0my\u001b[0m \u001b[0;34m=\u001b[0m \u001b[0mcheck_array\u001b[0m\u001b[0;34m(\u001b[0m\u001b[0my\u001b[0m\u001b[0;34m,\u001b[0m \u001b[0;34m**\u001b[0m\u001b[0mcheck_y_params\u001b[0m\u001b[0;34m)\u001b[0m\u001b[0;34m\u001b[0m\u001b[0m\n\u001b[1;32m    431\u001b[0m             \u001b[0;32melse\u001b[0m\u001b[0;34m:\u001b[0m\u001b[0;34m\u001b[0m\u001b[0m\n\u001b[0;32m--> 432\u001b[0;31m                 \u001b[0mX\u001b[0m\u001b[0;34m,\u001b[0m \u001b[0my\u001b[0m \u001b[0;34m=\u001b[0m \u001b[0mcheck_X_y\u001b[0m\u001b[0;34m(\u001b[0m\u001b[0mX\u001b[0m\u001b[0;34m,\u001b[0m \u001b[0my\u001b[0m\u001b[0;34m,\u001b[0m \u001b[0;34m**\u001b[0m\u001b[0mcheck_params\u001b[0m\u001b[0;34m)\u001b[0m\u001b[0;34m\u001b[0m\u001b[0m\n\u001b[0m\u001b[1;32m    433\u001b[0m             \u001b[0mout\u001b[0m \u001b[0;34m=\u001b[0m \u001b[0mX\u001b[0m\u001b[0;34m,\u001b[0m \u001b[0my\u001b[0m\u001b[0;34m\u001b[0m\u001b[0m\n\u001b[1;32m    434\u001b[0m \u001b[0;34m\u001b[0m\u001b[0m\n",
      "\u001b[0;32m~/opt/miniconda3/envs/dsc540/lib/python3.7/site-packages/sklearn/utils/validation.py\u001b[0m in \u001b[0;36minner_f\u001b[0;34m(*args, **kwargs)\u001b[0m\n\u001b[1;32m     70\u001b[0m                           FutureWarning)\n\u001b[1;32m     71\u001b[0m         \u001b[0mkwargs\u001b[0m\u001b[0;34m.\u001b[0m\u001b[0mupdate\u001b[0m\u001b[0;34m(\u001b[0m\u001b[0;34m{\u001b[0m\u001b[0mk\u001b[0m\u001b[0;34m:\u001b[0m \u001b[0marg\u001b[0m \u001b[0;32mfor\u001b[0m \u001b[0mk\u001b[0m\u001b[0;34m,\u001b[0m \u001b[0marg\u001b[0m \u001b[0;32min\u001b[0m \u001b[0mzip\u001b[0m\u001b[0;34m(\u001b[0m\u001b[0msig\u001b[0m\u001b[0;34m.\u001b[0m\u001b[0mparameters\u001b[0m\u001b[0;34m,\u001b[0m \u001b[0margs\u001b[0m\u001b[0;34m)\u001b[0m\u001b[0;34m}\u001b[0m\u001b[0;34m)\u001b[0m\u001b[0;34m\u001b[0m\u001b[0m\n\u001b[0;32m---> 72\u001b[0;31m         \u001b[0;32mreturn\u001b[0m \u001b[0mf\u001b[0m\u001b[0;34m(\u001b[0m\u001b[0;34m**\u001b[0m\u001b[0mkwargs\u001b[0m\u001b[0;34m)\u001b[0m\u001b[0;34m\u001b[0m\u001b[0m\n\u001b[0m\u001b[1;32m     73\u001b[0m     \u001b[0;32mreturn\u001b[0m \u001b[0minner_f\u001b[0m\u001b[0;34m\u001b[0m\u001b[0m\n\u001b[1;32m     74\u001b[0m \u001b[0;34m\u001b[0m\u001b[0m\n",
      "\u001b[0;32m~/opt/miniconda3/envs/dsc540/lib/python3.7/site-packages/sklearn/utils/validation.py\u001b[0m in \u001b[0;36mcheck_X_y\u001b[0;34m(X, y, accept_sparse, accept_large_sparse, dtype, order, copy, force_all_finite, ensure_2d, allow_nd, multi_output, ensure_min_samples, ensure_min_features, y_numeric, estimator)\u001b[0m\n\u001b[1;32m    800\u001b[0m                     \u001b[0mensure_min_samples\u001b[0m\u001b[0;34m=\u001b[0m\u001b[0mensure_min_samples\u001b[0m\u001b[0;34m,\u001b[0m\u001b[0;34m\u001b[0m\u001b[0m\n\u001b[1;32m    801\u001b[0m                     \u001b[0mensure_min_features\u001b[0m\u001b[0;34m=\u001b[0m\u001b[0mensure_min_features\u001b[0m\u001b[0;34m,\u001b[0m\u001b[0;34m\u001b[0m\u001b[0m\n\u001b[0;32m--> 802\u001b[0;31m                     estimator=estimator)\n\u001b[0m\u001b[1;32m    803\u001b[0m     \u001b[0;32mif\u001b[0m \u001b[0mmulti_output\u001b[0m\u001b[0;34m:\u001b[0m\u001b[0;34m\u001b[0m\u001b[0m\n\u001b[1;32m    804\u001b[0m         y = check_array(y, accept_sparse='csr', force_all_finite=True,\n",
      "\u001b[0;32m~/opt/miniconda3/envs/dsc540/lib/python3.7/site-packages/sklearn/utils/validation.py\u001b[0m in \u001b[0;36minner_f\u001b[0;34m(*args, **kwargs)\u001b[0m\n\u001b[1;32m     70\u001b[0m                           FutureWarning)\n\u001b[1;32m     71\u001b[0m         \u001b[0mkwargs\u001b[0m\u001b[0;34m.\u001b[0m\u001b[0mupdate\u001b[0m\u001b[0;34m(\u001b[0m\u001b[0;34m{\u001b[0m\u001b[0mk\u001b[0m\u001b[0;34m:\u001b[0m \u001b[0marg\u001b[0m \u001b[0;32mfor\u001b[0m \u001b[0mk\u001b[0m\u001b[0;34m,\u001b[0m \u001b[0marg\u001b[0m \u001b[0;32min\u001b[0m \u001b[0mzip\u001b[0m\u001b[0;34m(\u001b[0m\u001b[0msig\u001b[0m\u001b[0;34m.\u001b[0m\u001b[0mparameters\u001b[0m\u001b[0;34m,\u001b[0m \u001b[0margs\u001b[0m\u001b[0;34m)\u001b[0m\u001b[0;34m}\u001b[0m\u001b[0;34m)\u001b[0m\u001b[0;34m\u001b[0m\u001b[0m\n\u001b[0;32m---> 72\u001b[0;31m         \u001b[0;32mreturn\u001b[0m \u001b[0mf\u001b[0m\u001b[0;34m(\u001b[0m\u001b[0;34m**\u001b[0m\u001b[0mkwargs\u001b[0m\u001b[0;34m)\u001b[0m\u001b[0;34m\u001b[0m\u001b[0m\n\u001b[0m\u001b[1;32m     73\u001b[0m     \u001b[0;32mreturn\u001b[0m \u001b[0minner_f\u001b[0m\u001b[0;34m\u001b[0m\u001b[0m\n\u001b[1;32m     74\u001b[0m \u001b[0;34m\u001b[0m\u001b[0m\n",
      "\u001b[0;32m~/opt/miniconda3/envs/dsc540/lib/python3.7/site-packages/sklearn/utils/validation.py\u001b[0m in \u001b[0;36mcheck_array\u001b[0;34m(array, accept_sparse, accept_large_sparse, dtype, order, copy, force_all_finite, ensure_2d, allow_nd, ensure_min_samples, ensure_min_features, estimator)\u001b[0m\n\u001b[1;32m    596\u001b[0m                     \u001b[0marray\u001b[0m \u001b[0;34m=\u001b[0m \u001b[0marray\u001b[0m\u001b[0;34m.\u001b[0m\u001b[0mastype\u001b[0m\u001b[0;34m(\u001b[0m\u001b[0mdtype\u001b[0m\u001b[0;34m,\u001b[0m \u001b[0mcasting\u001b[0m\u001b[0;34m=\u001b[0m\u001b[0;34m\"unsafe\"\u001b[0m\u001b[0;34m,\u001b[0m \u001b[0mcopy\u001b[0m\u001b[0;34m=\u001b[0m\u001b[0;32mFalse\u001b[0m\u001b[0;34m)\u001b[0m\u001b[0;34m\u001b[0m\u001b[0m\n\u001b[1;32m    597\u001b[0m                 \u001b[0;32melse\u001b[0m\u001b[0;34m:\u001b[0m\u001b[0;34m\u001b[0m\u001b[0m\n\u001b[0;32m--> 598\u001b[0;31m                     \u001b[0marray\u001b[0m \u001b[0;34m=\u001b[0m \u001b[0mnp\u001b[0m\u001b[0;34m.\u001b[0m\u001b[0masarray\u001b[0m\u001b[0;34m(\u001b[0m\u001b[0marray\u001b[0m\u001b[0;34m,\u001b[0m \u001b[0morder\u001b[0m\u001b[0;34m=\u001b[0m\u001b[0morder\u001b[0m\u001b[0;34m,\u001b[0m \u001b[0mdtype\u001b[0m\u001b[0;34m=\u001b[0m\u001b[0mdtype\u001b[0m\u001b[0;34m)\u001b[0m\u001b[0;34m\u001b[0m\u001b[0m\n\u001b[0m\u001b[1;32m    599\u001b[0m             \u001b[0;32mexcept\u001b[0m \u001b[0mComplexWarning\u001b[0m\u001b[0;34m:\u001b[0m\u001b[0;34m\u001b[0m\u001b[0m\n\u001b[1;32m    600\u001b[0m                 raise ValueError(\"Complex data not supported\\n\"\n",
      "\u001b[0;32m~/opt/miniconda3/envs/dsc540/lib/python3.7/site-packages/numpy/core/_asarray.py\u001b[0m in \u001b[0;36masarray\u001b[0;34m(a, dtype, order)\u001b[0m\n\u001b[1;32m     81\u001b[0m \u001b[0;34m\u001b[0m\u001b[0m\n\u001b[1;32m     82\u001b[0m     \"\"\"\n\u001b[0;32m---> 83\u001b[0;31m     \u001b[0;32mreturn\u001b[0m \u001b[0marray\u001b[0m\u001b[0;34m(\u001b[0m\u001b[0ma\u001b[0m\u001b[0;34m,\u001b[0m \u001b[0mdtype\u001b[0m\u001b[0;34m,\u001b[0m \u001b[0mcopy\u001b[0m\u001b[0;34m=\u001b[0m\u001b[0;32mFalse\u001b[0m\u001b[0;34m,\u001b[0m \u001b[0morder\u001b[0m\u001b[0;34m=\u001b[0m\u001b[0morder\u001b[0m\u001b[0;34m)\u001b[0m\u001b[0;34m\u001b[0m\u001b[0m\n\u001b[0m\u001b[1;32m     84\u001b[0m \u001b[0;34m\u001b[0m\u001b[0m\n\u001b[1;32m     85\u001b[0m \u001b[0;34m\u001b[0m\u001b[0m\n",
      "\u001b[0;32m~/opt/miniconda3/envs/dsc540/lib/python3.7/site-packages/pandas/core/series.py\u001b[0m in \u001b[0;36m__array__\u001b[0;34m(self, dtype)\u001b[0m\n\u001b[1;32m    795\u001b[0m               dtype='datetime64[ns]')\n\u001b[1;32m    796\u001b[0m         \"\"\"\n\u001b[0;32m--> 797\u001b[0;31m         \u001b[0;32mreturn\u001b[0m \u001b[0mnp\u001b[0m\u001b[0;34m.\u001b[0m\u001b[0masarray\u001b[0m\u001b[0;34m(\u001b[0m\u001b[0mself\u001b[0m\u001b[0;34m.\u001b[0m\u001b[0marray\u001b[0m\u001b[0;34m,\u001b[0m \u001b[0mdtype\u001b[0m\u001b[0;34m)\u001b[0m\u001b[0;34m\u001b[0m\u001b[0m\n\u001b[0m\u001b[1;32m    798\u001b[0m \u001b[0;34m\u001b[0m\u001b[0m\n\u001b[1;32m    799\u001b[0m     \u001b[0;31m# ----------------------------------------------------------------------\u001b[0m\u001b[0;34m\u001b[0m\u001b[0;34m\u001b[0m\u001b[0m\n",
      "\u001b[0;32m~/opt/miniconda3/envs/dsc540/lib/python3.7/site-packages/numpy/core/_asarray.py\u001b[0m in \u001b[0;36masarray\u001b[0;34m(a, dtype, order)\u001b[0m\n\u001b[1;32m     81\u001b[0m \u001b[0;34m\u001b[0m\u001b[0m\n\u001b[1;32m     82\u001b[0m     \"\"\"\n\u001b[0;32m---> 83\u001b[0;31m     \u001b[0;32mreturn\u001b[0m \u001b[0marray\u001b[0m\u001b[0;34m(\u001b[0m\u001b[0ma\u001b[0m\u001b[0;34m,\u001b[0m \u001b[0mdtype\u001b[0m\u001b[0;34m,\u001b[0m \u001b[0mcopy\u001b[0m\u001b[0;34m=\u001b[0m\u001b[0;32mFalse\u001b[0m\u001b[0;34m,\u001b[0m \u001b[0morder\u001b[0m\u001b[0;34m=\u001b[0m\u001b[0morder\u001b[0m\u001b[0;34m)\u001b[0m\u001b[0;34m\u001b[0m\u001b[0m\n\u001b[0m\u001b[1;32m     84\u001b[0m \u001b[0;34m\u001b[0m\u001b[0m\n\u001b[1;32m     85\u001b[0m \u001b[0;34m\u001b[0m\u001b[0m\n",
      "\u001b[0;32m~/opt/miniconda3/envs/dsc540/lib/python3.7/site-packages/pandas/core/arrays/numpy_.py\u001b[0m in \u001b[0;36m__array__\u001b[0;34m(self, dtype)\u001b[0m\n\u001b[1;32m    209\u001b[0m \u001b[0;34m\u001b[0m\u001b[0m\n\u001b[1;32m    210\u001b[0m     \u001b[0;32mdef\u001b[0m \u001b[0m__array__\u001b[0m\u001b[0;34m(\u001b[0m\u001b[0mself\u001b[0m\u001b[0;34m,\u001b[0m \u001b[0mdtype\u001b[0m\u001b[0;34m=\u001b[0m\u001b[0;32mNone\u001b[0m\u001b[0;34m)\u001b[0m \u001b[0;34m->\u001b[0m \u001b[0mnp\u001b[0m\u001b[0;34m.\u001b[0m\u001b[0mndarray\u001b[0m\u001b[0;34m:\u001b[0m\u001b[0;34m\u001b[0m\u001b[0m\n\u001b[0;32m--> 211\u001b[0;31m         \u001b[0;32mreturn\u001b[0m \u001b[0mnp\u001b[0m\u001b[0;34m.\u001b[0m\u001b[0masarray\u001b[0m\u001b[0;34m(\u001b[0m\u001b[0mself\u001b[0m\u001b[0;34m.\u001b[0m\u001b[0m_ndarray\u001b[0m\u001b[0;34m,\u001b[0m \u001b[0mdtype\u001b[0m\u001b[0;34m=\u001b[0m\u001b[0mdtype\u001b[0m\u001b[0;34m)\u001b[0m\u001b[0;34m\u001b[0m\u001b[0m\n\u001b[0m\u001b[1;32m    212\u001b[0m \u001b[0;34m\u001b[0m\u001b[0m\n\u001b[1;32m    213\u001b[0m     \u001b[0m_HANDLED_TYPES\u001b[0m \u001b[0;34m=\u001b[0m \u001b[0;34m(\u001b[0m\u001b[0mnp\u001b[0m\u001b[0;34m.\u001b[0m\u001b[0mndarray\u001b[0m\u001b[0;34m,\u001b[0m \u001b[0mnumbers\u001b[0m\u001b[0;34m.\u001b[0m\u001b[0mNumber\u001b[0m\u001b[0;34m)\u001b[0m\u001b[0;34m\u001b[0m\u001b[0m\n",
      "\u001b[0;32m~/opt/miniconda3/envs/dsc540/lib/python3.7/site-packages/numpy/core/_asarray.py\u001b[0m in \u001b[0;36masarray\u001b[0;34m(a, dtype, order)\u001b[0m\n\u001b[1;32m     81\u001b[0m \u001b[0;34m\u001b[0m\u001b[0m\n\u001b[1;32m     82\u001b[0m     \"\"\"\n\u001b[0;32m---> 83\u001b[0;31m     \u001b[0;32mreturn\u001b[0m \u001b[0marray\u001b[0m\u001b[0;34m(\u001b[0m\u001b[0ma\u001b[0m\u001b[0;34m,\u001b[0m \u001b[0mdtype\u001b[0m\u001b[0;34m,\u001b[0m \u001b[0mcopy\u001b[0m\u001b[0;34m=\u001b[0m\u001b[0;32mFalse\u001b[0m\u001b[0;34m,\u001b[0m \u001b[0morder\u001b[0m\u001b[0;34m=\u001b[0m\u001b[0morder\u001b[0m\u001b[0;34m)\u001b[0m\u001b[0;34m\u001b[0m\u001b[0m\n\u001b[0m\u001b[1;32m     84\u001b[0m \u001b[0;34m\u001b[0m\u001b[0m\n\u001b[1;32m     85\u001b[0m \u001b[0;34m\u001b[0m\u001b[0m\n",
      "\u001b[0;31mValueError\u001b[0m: could not convert string to float: 'WATCH DC Cops Direct TrumpSupporters into Gauntlet of Protesters Do Nothing When They Are Assaulted httpstcoyDCbZou via BreitbartNews These thugs and lowlifes only stalked and attacked when most of the tens of thousands of people had left town Ran away earlier'"
     ]
    }
   ],
   "source": [
    "log_model = log_model.fit(X=X_train, y=y_train)"
   ]
  },
  {
   "cell_type": "code",
   "execution_count": null,
   "metadata": {},
   "outputs": [],
   "source": []
  }
 ],
 "metadata": {
  "colab": {
   "authorship_tag": "ABX9TyPW+nXq5kNmMD0i1KQMwvga",
   "include_colab_link": true,
   "name": "Untitled1.ipynb",
   "provenance": []
  },
  "kernelspec": {
   "display_name": "Python 3.7 (dsc540)",
   "language": "python",
   "name": "dsc540"
  },
  "language_info": {
   "codemirror_mode": {
    "name": "ipython",
    "version": 3
   },
   "file_extension": ".py",
   "mimetype": "text/x-python",
   "name": "python",
   "nbconvert_exporter": "python",
   "pygments_lexer": "ipython3",
   "version": "3.7.0"
  }
 },
 "nbformat": 4,
 "nbformat_minor": 1
}
