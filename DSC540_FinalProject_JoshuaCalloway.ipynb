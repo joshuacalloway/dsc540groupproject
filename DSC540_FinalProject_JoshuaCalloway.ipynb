{
 "cells": [
  {
   "cell_type": "markdown",
   "metadata": {
    "colab_type": "text",
    "id": "view-in-github"
   },
   "source": [
    "<a href=\"https://colab.research.google.com/github/joshuacalloway/dsc540groupproject/blob/main/StartingTrumpTweets.ipynb\" target=\"_parent\"><img src=\"https://colab.research.google.com/assets/colab-badge.svg\" alt=\"Open In Colab\"/></a>"
   ]
  },
  {
   "cell_type": "markdown",
   "metadata": {},
   "source": [
    "# Using Natural Language Processing on Trump's Tweets\n",
    "- Joshua Calloway\n",
    "- DSC 540, Fall Quarter - DePaul\n"
   ]
  },
  {
   "cell_type": "markdown",
   "metadata": {},
   "source": [
    "# Summary of Project\n",
    "We are looking Trump's tweets and applying NLP to see if we can build a classifier to predict sentiment on new tweets.\n",
    "Trump tweets are widely available, and we can run the project on either small set of 1000 tweets or larger set of 55,000 tweets.  All of these tweets are available on thetrumparchive and @realDonaldTrump twitter handle\n",
    "\n",
    "I selected the [Azure Predictive Analysis](https://azure.microsoft.com/en-us/services/cognitive-services/text-analytics/) to create the **ground truth** sentiment labels.  Azure produces labels of **neutral, positive, negative**.\n",
    "\n",
    "with the tweets, we then split it into training and validation ( 90 percent of data ) and test data ( 10 percent of data ). With the training data, we apply the various methods\n",
    "\n",
    "- [Tweepy](https://www.tweepy.org/) and [TextBlob](https://textblob.readthedocs.io/en/dev/) for analyzing sentiment\n",
    "- Tuning of Tweepy/TextBlob by trying different neutral cutoff values to distinguish a tweet as neutral\n",
    "- [LogisticRegression](https://www.twilio.com/blog/2017/12/sentiment-analysis-scikit-learn.html) using the Tweepy/TextBlob to train the model\n",
    "- [NLTK toolkit and NaiveBayesClassifier](https://www.twilio.com/blog/2017/12/sentiment-analysis-scikit-learn.html) using the Tweepy/TextBlob to train the model\n",
    "- [FastText](https://fasttext.cc) with single label sentiment using the Tweepy/TextBlob to train the model\n",
    "    - FastText with hyper-parameter tuning of epochs, learning rate, ngrams using the [fasttext autotune](https://fasttext.cc/docs/en/autotune.html) against the validation file\n",
    "    \n",
    "## The Findings\n",
    "\n",
    "|the method| accuracy | Notes |\n",
    "|----------|--------------|---|\n",
    "|Tweepy/TextBlob| 0.6| seems slightly better coin flip |\n",
    "|Tweepy/TextBlob with optimal neutralCutoff at 0.22 | 0.67 | some improvement with tuning |\n",
    "|Logistic Regression trained by Tweepy/TextBlob| 0.46| terrible, worse then coin flip |\n",
    "|NLTK Toolkit and NaiveBayes classifier trained with Tweepy/TextBlob| 0.45 | again, terrible |\n",
    "|FastText trained with Tweepy/TextBlob | 0.54 | Ok with default hyper-parameters tuning | \n",
    "|FastText hyper-parameter tuned trained with Tweepy/TextBlob | 0.56 | slightly better with autotuned hyper parameters|\n",
    "  \n"
   ]
  },
  {
   "cell_type": "markdown",
   "metadata": {},
   "source": [
    "# The Data, Trump Tweets ( either 1000 or 55,0000 tweets )\n",
    "Here we use thetrumparchive to either fetch 1000 or larger set of 55,000 tweets.  The tweets come back as JSON in format of\n",
    "<code>\n",
    "{\n",
    "  id: 1\n",
    "  text: 'Lets win Michigan'\n",
    "  isRetweet: True\n",
    "  isDeleted: False\n",
    "  device: iPhone\n",
    "  favorites: 323,\n",
    "  retweets: 2\n",
    "  date: 2020-11-02\n",
    "}\n",
    "</code>"
   ]
  },
  {
   "cell_type": "code",
   "execution_count": null,
   "metadata": {},
   "outputs": [],
   "source": [
    "# azure, nltk and fasttext libraries\n",
    "!pip install -r otherreq.txt\n"
   ]
  },
  {
   "cell_type": "code",
   "execution_count": 3,
   "metadata": {
    "id": "BikM0IG41OX0"
   },
   "outputs": [],
   "source": [
    "import urllib.request, json\n",
    "from sklearn.model_selection import train_test_split\n",
    "from pandas import DataFrame"
   ]
  },
  {
   "cell_type": "code",
   "execution_count": 4,
   "metadata": {
    "colab": {
     "base_uri": "https://localhost:8080/"
    },
    "id": "ZrZYjcyF1b5l",
    "outputId": "5869b244-d003-4a79-f451-1b3f26c9377c"
   },
   "outputs": [],
   "source": [
    "# If LargeData is True, then we fetch 55,0000 tweets\n",
    "def fetch_data(largeData=False):\n",
    "    if largeData:\n",
    "        with open('tweets_11-06-2020.json') as f:\n",
    "            data = json.load(f)  # fetch 50,0000 tweets\n",
    "    else:\n",
    "        with urllib.request.urlopen(\"https://www.thetrumparchive.com/latest-tweets\") as url:\n",
    "            data = json.loads(url.read().decode())\n",
    "    return DataFrame(data)\n"
   ]
  },
  {
   "cell_type": "markdown",
   "metadata": {},
   "source": [
    "### We can either fetch 1000 or 55,000 tweets by switching the flag largeData"
   ]
  },
  {
   "cell_type": "code",
   "execution_count": 5,
   "metadata": {
    "colab": {
     "base_uri": "https://localhost:8080/",
     "height": 52
    },
    "id": "4U_YshEn1kFL",
    "outputId": "39a62dc0-c2e1-4b18-be0b-d1ded182e33e",
    "scrolled": true
   },
   "outputs": [
    {
     "data": {
      "text/html": [
       "<div>\n",
       "<style scoped>\n",
       "    .dataframe tbody tr th:only-of-type {\n",
       "        vertical-align: middle;\n",
       "    }\n",
       "\n",
       "    .dataframe tbody tr th {\n",
       "        vertical-align: top;\n",
       "    }\n",
       "\n",
       "    .dataframe thead th {\n",
       "        text-align: right;\n",
       "    }\n",
       "</style>\n",
       "<table border=\"1\" class=\"dataframe\">\n",
       "  <thead>\n",
       "    <tr style=\"text-align: right;\">\n",
       "      <th></th>\n",
       "      <th>id</th>\n",
       "      <th>text</th>\n",
       "      <th>isRetweet</th>\n",
       "      <th>isDeleted</th>\n",
       "      <th>device</th>\n",
       "      <th>favorites</th>\n",
       "      <th>retweets</th>\n",
       "      <th>date</th>\n",
       "    </tr>\n",
       "  </thead>\n",
       "  <tbody>\n",
       "    <tr>\n",
       "      <th>0</th>\n",
       "      <td>1329963571250335744</td>\n",
       "      <td>https://t.co/YHscjY6G8t</td>\n",
       "      <td>False</td>\n",
       "      <td>False</td>\n",
       "      <td>Twitter for iPhone</td>\n",
       "      <td>105034</td>\n",
       "      <td>29537</td>\n",
       "      <td>2020-11-21T01:43:19.000Z</td>\n",
       "    </tr>\n",
       "    <tr>\n",
       "      <th>1</th>\n",
       "      <td>1329963296854847492</td>\n",
       "      <td>https://t.co/OLZnCJq93Y</td>\n",
       "      <td>False</td>\n",
       "      <td>False</td>\n",
       "      <td>Twitter for iPhone</td>\n",
       "      <td>78420</td>\n",
       "      <td>20742</td>\n",
       "      <td>2020-11-21T01:42:14.000Z</td>\n",
       "    </tr>\n",
       "    <tr>\n",
       "      <th>2</th>\n",
       "      <td>1329963239170564098</td>\n",
       "      <td>https://t.co/cwOQLhQNFq</td>\n",
       "      <td>False</td>\n",
       "      <td>False</td>\n",
       "      <td>Twitter for iPhone</td>\n",
       "      <td>126359</td>\n",
       "      <td>32853</td>\n",
       "      <td>2020-11-21T01:42:00.000Z</td>\n",
       "    </tr>\n",
       "    <tr>\n",
       "      <th>3</th>\n",
       "      <td>1329871920607744001</td>\n",
       "      <td>RT @WhiteHouse: LIVE: President @realDonaldTru...</td>\n",
       "      <td>True</td>\n",
       "      <td>False</td>\n",
       "      <td>Twitter for iPhone</td>\n",
       "      <td>0</td>\n",
       "      <td>18564</td>\n",
       "      <td>2020-11-20T19:39:08.000Z</td>\n",
       "    </tr>\n",
       "    <tr>\n",
       "      <th>4</th>\n",
       "      <td>1329871776889925636</td>\n",
       "      <td>...Why won’t they do it, and why are they so f...</td>\n",
       "      <td>False</td>\n",
       "      <td>False</td>\n",
       "      <td>Twitter for iPhone</td>\n",
       "      <td>152441</td>\n",
       "      <td>25486</td>\n",
       "      <td>2020-11-20T19:38:34.000Z</td>\n",
       "    </tr>\n",
       "  </tbody>\n",
       "</table>\n",
       "</div>"
      ],
      "text/plain": [
       "                    id                                               text  \\\n",
       "0  1329963571250335744                            https://t.co/YHscjY6G8t   \n",
       "1  1329963296854847492                            https://t.co/OLZnCJq93Y   \n",
       "2  1329963239170564098                            https://t.co/cwOQLhQNFq   \n",
       "3  1329871920607744001  RT @WhiteHouse: LIVE: President @realDonaldTru...   \n",
       "4  1329871776889925636  ...Why won’t they do it, and why are they so f...   \n",
       "\n",
       "   isRetweet  isDeleted              device favorites retweets  \\\n",
       "0      False      False  Twitter for iPhone    105034    29537   \n",
       "1      False      False  Twitter for iPhone     78420    20742   \n",
       "2      False      False  Twitter for iPhone    126359    32853   \n",
       "3       True      False  Twitter for iPhone         0    18564   \n",
       "4      False      False  Twitter for iPhone    152441    25486   \n",
       "\n",
       "                       date  \n",
       "0  2020-11-21T01:43:19.000Z  \n",
       "1  2020-11-21T01:42:14.000Z  \n",
       "2  2020-11-21T01:42:00.000Z  \n",
       "3  2020-11-20T19:39:08.000Z  \n",
       "4  2020-11-20T19:38:34.000Z  "
      ]
     },
     "execution_count": 5,
     "metadata": {},
     "output_type": "execute_result"
    }
   ],
   "source": [
    "# we r interested in the text for NLP\n",
    "data = fetch_data(largeData=False)\n",
    "data.head()"
   ]
  },
  {
   "cell_type": "markdown",
   "metadata": {},
   "source": [
    "# We split the data into training, validation and test\n"
   ]
  },
  {
   "cell_type": "code",
   "execution_count": 6,
   "metadata": {},
   "outputs": [],
   "source": [
    "# we create a Y with unknown value\n",
    "data['sentiment'] = 'unknown'"
   ]
  },
  {
   "cell_type": "code",
   "execution_count": 7,
   "metadata": {},
   "outputs": [],
   "source": [
    "from sklearn.model_selection import train_test_split\n",
    "\n",
    "X = data['text']\n",
    "y = data['sentiment']\n",
    "\n",
    "X_train, X_test, y_train, y_test = train_test_split(X, y, test_size=0.10, random_state=555)\n",
    "X_train, X_val, y_train, y_val = train_test_split(X_train, y_train, test_size=0.30, random_state=555)"
   ]
  },
  {
   "cell_type": "markdown",
   "metadata": {},
   "source": [
    "# We use Azure Predictive Analysis to create the ground truth sentiment"
   ]
  },
  {
   "cell_type": "code",
   "execution_count": 8,
   "metadata": {},
   "outputs": [],
   "source": [
    "import numpy as np\n",
    "\n",
    "from azure.core.credentials import AzureKeyCredential\n",
    "from azure.ai.textanalytics import TextAnalyticsClient\n",
    "\n",
    "credential = AzureKeyCredential(\"cb61d607e5c8402b9742b8aa40207593\")\n",
    "text_analytics_client = TextAnalyticsClient(endpoint=\"https://trumptweetanalysissentiment.cognitiveservices.azure.com/\", credential=credential)\n",
    "    \n",
    "def call_azure(list_text_only_ten_items):\n",
    "    response = text_analytics_client.analyze_sentiment(list_text_only_ten_items)\n",
    "    successful_responses = [doc for doc in response if not doc.is_error]\n",
    "    return list_text_only_ten_items, list(map(lambda x: x['sentiment'], successful_responses))\n",
    "    \n",
    "# treat mixed and neutral sentiment as neutral\n",
    "def combine_mixed_neutral(sentiments):\n",
    "    converted = []\n",
    "    for item in sentiments:\n",
    "        newitem = 'neutral' if item == 'mixed' else item\n",
    "        converted.append(newitem)\n",
    "    return converted\n",
    "           \n",
    "# this is ground truth.  Using Azure sentiment\n",
    "def calculate_groundtruth_sentiment(list_of_texts):\n",
    "    sublists = np.split(np.array(list_of_texts.tolist()), list_of_texts.size / 10)\n",
    "    retvalues = list(map(lambda ls: call_azure(list(ls)), sublists))\n",
    "    sentiments = []\n",
    "    for item in retvalues:\n",
    "        sentiments.append(item[1])    \n",
    "    sentiments = [item for items in sentiments for item in items]\n",
    "    return list_of_texts, combine_mixed_neutral(sentiments)"
   ]
  },
  {
   "cell_type": "code",
   "execution_count": 9,
   "metadata": {},
   "outputs": [],
   "source": [
    "X_test, Y_test_groundtruth = calculate_groundtruth_sentiment(X_test)\n"
   ]
  },
  {
   "cell_type": "markdown",
   "metadata": {},
   "source": [
    "# Now that we have groundtruth sentiment labels on test tweets, we will then try various methods and train on the test data."
   ]
  },
  {
   "cell_type": "markdown",
   "metadata": {},
   "source": [
    "# 1. Let's try tweepy and TextBlob to add Sentiment to each Tweet\n"
   ]
  },
  {
   "cell_type": "markdown",
   "metadata": {},
   "source": [
    "## B. Let's use a tweepy and TextBlob to add Sentiment to each Tweet\n",
    "\n",
    "Two blogs that use tweepy and TextBlob can be found at \n",
    "- https://www.earthdatascience.org/courses/use-data-open-source-python/intro-to-apis/analyze-tweet-sentiment-in-python/\n",
    "- https://medium.com/better-programming/twitter-sentiment-analysis-15d8892c0082\n",
    "\n"
   ]
  },
  {
   "cell_type": "markdown",
   "metadata": {},
   "source": [
    "# C. We compute Sentiment of Tweet using TextBlob\n",
    "- polarity is whether or not the tweet is positive, negative, or neutral ( scaled from 1 to -1 )"
   ]
  },
  {
   "cell_type": "code",
   "execution_count": 10,
   "metadata": {},
   "outputs": [],
   "source": [
    "# We r going to use tweepy and TextBlob for tweets\n",
    "import tweepy as tw\n",
    "from textblob import TextBlob\n",
    "\n",
    "# Create a function to get the subjectivity\n",
    "def getSubjectivity(text):\n",
    "    return TextBlob(text).sentiment.subjectivity\n",
    "\n",
    "# Create a function to get the polarity\n",
    "def getPolarity(text):\n",
    "    return  TextBlob(text).sentiment.polarity\n",
    "\n",
    "# We eliminate words less then 3 characters long and standardize all words to lowercase\n",
    "def filter_words(words):\n",
    "    words_filtered = [e.lower() for e in words.split() if len(e) >= 3]\n",
    "    return words_filtered\n",
    "\n",
    "\n",
    "# return neutral if small\n",
    "def calculateSentiment(text, neutralCutoff = 0.05):\n",
    "    polarity = getPolarity(text)\n",
    "    if abs(polarity) < neutralCutoff:\n",
    "        return 'neutral'\n",
    "    if polarity > 0:\n",
    "        return \"positive\"\n",
    "    else:\n",
    "        return \"negative\"\n",
    "    "
   ]
  },
  {
   "cell_type": "code",
   "execution_count": 11,
   "metadata": {},
   "outputs": [],
   "source": [
    "y_test = X_test.apply(calculateSentiment)"
   ]
  },
  {
   "cell_type": "code",
   "execution_count": 12,
   "metadata": {},
   "outputs": [
    {
     "name": "stdout",
     "output_type": "stream",
     "text": [
      "accuracy_score is 0.6\n"
     ]
    }
   ],
   "source": [
    "from sklearn.metrics import accuracy_score, confusion_matrix, classification_report\n",
    "\n",
    "print(f'accuracy_score is {accuracy_score(Y_test_groundtruth, y_test)}')\n"
   ]
  },
  {
   "cell_type": "markdown",
   "metadata": {},
   "source": [
    "# Here we get 0.6 accuracy by guessing the neutralCutoff = 0.05.  Let's try to see if we can do better by trying different neutralCutoffs"
   ]
  },
  {
   "cell_type": "code",
   "execution_count": 13,
   "metadata": {},
   "outputs": [
    {
     "name": "stdout",
     "output_type": "stream",
     "text": [
      "bestAccuracy is at 0.67 with neutralCutoff at 0.22\n"
     ]
    }
   ],
   "source": [
    "from numpy import arange\n",
    "\n",
    "bestCutoff = 0.05\n",
    "bestAccuracy = 0.6\n",
    "\n",
    "for i in arange(0.0, 0.5, 0.02):\n",
    "    y_test_i = X_test.apply(calculateSentiment, neutralCutoff=i)\n",
    "    accuracy_i = accuracy_score(Y_test_groundtruth, y_test_i)\n",
    "    if accuracy_i > bestAccuracy:\n",
    "        bestAccuracy = accuracy_i\n",
    "        bestCutoff = i\n",
    "\n",
    "print(f'bestAccuracy is at {bestAccuracy} with neutralCutoff at {bestCutoff}')\n"
   ]
  },
  {
   "cell_type": "code",
   "execution_count": 14,
   "metadata": {},
   "outputs": [],
   "source": [
    "# let's recalculate the y_test with best neutralCutoff at 0.22\n",
    "y_test = X_test.apply(calculateSentiment, neutralCutoff=0.22)"
   ]
  },
  {
   "cell_type": "code",
   "execution_count": 15,
   "metadata": {},
   "outputs": [
    {
     "name": "stdout",
     "output_type": "stream",
     "text": [
      "confusion matrix is \n",
      "[[ 4 15  2]\n",
      " [ 2 48  4]\n",
      " [ 0 10 15]]\n"
     ]
    }
   ],
   "source": [
    "print(f'confusion matrix is \\n{confusion_matrix(Y_test_groundtruth, y_test)}')"
   ]
  },
  {
   "cell_type": "code",
   "execution_count": 16,
   "metadata": {},
   "outputs": [
    {
     "name": "stdout",
     "output_type": "stream",
     "text": [
      "classification report is \n",
      "              precision    recall  f1-score   support\n",
      "\n",
      "    negative       0.67      0.19      0.30        21\n",
      "     neutral       0.66      0.89      0.76        54\n",
      "    positive       0.71      0.60      0.65        25\n",
      "\n",
      "    accuracy                           0.67       100\n",
      "   macro avg       0.68      0.56      0.57       100\n",
      "weighted avg       0.67      0.67      0.63       100\n",
      "\n"
     ]
    }
   ],
   "source": [
    "print(f'classification report is \\n{classification_report(Y_test_groundtruth, y_test)}')"
   ]
  },
  {
   "cell_type": "markdown",
   "metadata": {},
   "source": [
    "# 2. Let's try LogisticRegression"
   ]
  },
  {
   "cell_type": "code",
   "execution_count": 17,
   "metadata": {},
   "outputs": [],
   "source": [
    "import pandas as pd\n",
    "\n",
    "y = np.array([calculateSentiment(xi, neutralCutoff=0.22) for xi in X])"
   ]
  },
  {
   "cell_type": "code",
   "execution_count": 18,
   "metadata": {},
   "outputs": [],
   "source": [
    "from sklearn.feature_extraction.text import CountVectorizer\n",
    "\n",
    "vectorizer = CountVectorizer(\n",
    "    analyzer = 'word',\n",
    "    lowercase = False,\n",
    ")\n",
    "features = vectorizer.fit_transform(\n",
    "    data['text']\n",
    ")\n",
    "features_nd = features.toarray() # for easy usage"
   ]
  },
  {
   "cell_type": "code",
   "execution_count": 19,
   "metadata": {},
   "outputs": [],
   "source": [
    "# https://www.twilio.com/blog/2017/12/sentiment-analysis-scikit-learn.html\n",
    "from sklearn.linear_model import LogisticRegression\n",
    "log_model = LogisticRegression()"
   ]
  },
  {
   "cell_type": "code",
   "execution_count": 20,
   "metadata": {},
   "outputs": [],
   "source": [
    "from sklearn.model_selection import train_test_split\n",
    "\n",
    "X_train_logistic, X_test_logistic, y_train_logistic, y_test_logistic  = train_test_split(\n",
    "        features_nd, \n",
    "        y,\n",
    "        train_size=0.90, \n",
    "        random_state=1234)"
   ]
  },
  {
   "cell_type": "code",
   "execution_count": 21,
   "metadata": {},
   "outputs": [],
   "source": [
    "log_model = log_model.fit(X=X_train_logistic, y=y_train_logistic)"
   ]
  },
  {
   "cell_type": "code",
   "execution_count": 22,
   "metadata": {},
   "outputs": [],
   "source": [
    "y_pred = log_model.predict(X_test_logistic)"
   ]
  },
  {
   "cell_type": "code",
   "execution_count": 23,
   "metadata": {},
   "outputs": [
    {
     "name": "stdout",
     "output_type": "stream",
     "text": [
      "accuracy_score is 0.46\n"
     ]
    }
   ],
   "source": [
    "print(f'accuracy_score is {accuracy_score(Y_test_groundtruth, y_pred)}')\n"
   ]
  },
  {
   "cell_type": "code",
   "execution_count": 24,
   "metadata": {},
   "outputs": [
    {
     "name": "stdout",
     "output_type": "stream",
     "text": [
      "              precision    recall  f1-score   support\n",
      "\n",
      "    negative       0.00      0.00      0.00         6\n",
      "     neutral       0.74      0.86      0.80        73\n",
      "    positive       0.18      0.10      0.12        21\n",
      "\n",
      "    accuracy                           0.65       100\n",
      "   macro avg       0.31      0.32      0.31       100\n",
      "weighted avg       0.58      0.65      0.61       100\n",
      "\n"
     ]
    }
   ],
   "source": [
    "print(classification_report(y_test, y_pred))"
   ]
  },
  {
   "cell_type": "markdown",
   "metadata": {},
   "source": [
    "# 3. We can try the NLTK toolkit"
   ]
  },
  {
   "cell_type": "code",
   "execution_count": 25,
   "metadata": {},
   "outputs": [
    {
     "name": "stdout",
     "output_type": "stream",
     "text": [
      "['The', 'cat', 'is', 'very', 'cute']\n"
     ]
    }
   ],
   "source": [
    "import nltk\n",
    "nltk.download('punkt')\n",
    "\n",
    "def format_sentence(sent):\n",
    "    return({word: True for word in nltk.word_tokenize(sent)})\n",
    "\n",
    "print(nltk.word_tokenize(\"The cat is very cute\"))\n",
    "\n",
    "def format_sentence_with_sentiment(sent):\n",
    "    formatted = format_sentence(sent)\n",
    "    sentiment = calculateSentiment(sent, neutralCutoff = 0.22)\n",
    "    return [formatted, sentiment]"
   ]
  },
  {
   "cell_type": "code",
   "execution_count": 26,
   "metadata": {},
   "outputs": [
    {
     "data": {
      "text/plain": [
       "[{'Stars': True, 'are': True, 'great': True, '!': True}, 'positive']"
      ]
     },
     "execution_count": 26,
     "metadata": {},
     "output_type": "execute_result"
    }
   ],
   "source": [
    "format_sentence_with_sentiment(\"Stars are great!\")"
   ]
  },
  {
   "cell_type": "code",
   "execution_count": 27,
   "metadata": {},
   "outputs": [
    {
     "data": {
      "text/plain": [
       "[{'Rats': True, 'smell': True, 'very': True, 'bad': True}, 'negative']"
      ]
     },
     "execution_count": 27,
     "metadata": {},
     "output_type": "execute_result"
    }
   ],
   "source": [
    "format_sentence_with_sentiment(\"Rats smell very bad\")"
   ]
  },
  {
   "cell_type": "code",
   "execution_count": 28,
   "metadata": {},
   "outputs": [
    {
     "name": "stderr",
     "output_type": "stream",
     "text": [
      "[nltk_data] Downloading package punkt to /Users/jc487/nltk_data...\n",
      "[nltk_data]   Package punkt is already up-to-date!\n"
     ]
    },
    {
     "data": {
      "text/plain": [
       "True"
      ]
     },
     "execution_count": 28,
     "metadata": {},
     "output_type": "execute_result"
    }
   ],
   "source": [
    "nltk.download('punkt')"
   ]
  },
  {
   "cell_type": "code",
   "execution_count": 29,
   "metadata": {},
   "outputs": [
    {
     "data": {
      "text/plain": [
       "0                                https://t.co/YHscjY6G8t\n",
       "1                                https://t.co/OLZnCJq93Y\n",
       "2                                https://t.co/cwOQLhQNFq\n",
       "3      RT @WhiteHouse: LIVE: President @realDonaldTru...\n",
       "4      ...Why won’t they do it, and why are they so f...\n",
       "                             ...                        \n",
       "995    RT @chefjclark: Amen ⁦@bkirkland7⁩! https://t....\n",
       "996      https://t.co/gsFSghkmdM https://t.co/zNoPFsTnn3\n",
       "997    Big problems and discrepancies with Mail In Ba...\n",
       "998    RT @realDonaldTrump: The Fake News Media is ri...\n",
       "999    RT @realDonaldTrump: Joe Biden called me Georg...\n",
       "Name: text, Length: 1000, dtype: object"
      ]
     },
     "execution_count": 29,
     "metadata": {},
     "output_type": "execute_result"
    }
   ],
   "source": [
    "X"
   ]
  },
  {
   "cell_type": "code",
   "execution_count": 30,
   "metadata": {},
   "outputs": [],
   "source": [
    "X_nltk = X.apply(format_sentence_with_sentiment)"
   ]
  },
  {
   "cell_type": "code",
   "execution_count": 31,
   "metadata": {},
   "outputs": [
    {
     "data": {
      "text/plain": [
       "0    [{'https': True, ':': True, '//t.co/YHscjY6G8t...\n",
       "1    [{'https': True, ':': True, '//t.co/OLZnCJq93Y...\n",
       "2    [{'https': True, ':': True, '//t.co/cwOQLhQNFq...\n",
       "3    [{'RT': True, '@': True, 'WhiteHouse': True, '...\n",
       "4    [{'...': True, 'Why': True, 'won': True, '’': ...\n",
       "Name: text, dtype: object"
      ]
     },
     "execution_count": 31,
     "metadata": {},
     "output_type": "execute_result"
    }
   ],
   "source": [
    "X_nltk.head()"
   ]
  },
  {
   "cell_type": "code",
   "execution_count": 32,
   "metadata": {},
   "outputs": [],
   "source": [
    "training = X_nltk[:int((.9)*len(X_nltk))]\n",
    "test =  X_nltk[int((.1)*len( X_nltk)):] \n"
   ]
  },
  {
   "cell_type": "code",
   "execution_count": 33,
   "metadata": {},
   "outputs": [
    {
     "name": "stdout",
     "output_type": "stream",
     "text": [
      "Most Informative Features\n",
      "                     WIN = True           positi : neutra =     28.6 : 1.0\n",
      "                    Fake = True           negati : positi =     26.1 : 1.0\n",
      "                 Corrupt = True           negati : neutra =     25.0 : 1.0\n",
      "                decision = True           negati : neutra =     25.0 : 1.0\n",
      "                  things = True           negati : neutra =     25.0 : 1.0\n",
      "                   Great = True           positi : neutra =     24.4 : 1.0\n",
      "                   place = True           negati : neutra =     19.3 : 1.0\n",
      "                       * = True           negati : neutra =     17.9 : 1.0\n",
      "                  Andrew = True           negati : neutra =     17.9 : 1.0\n",
      "                     FOR = True           negati : neutra =     17.9 : 1.0\n"
     ]
    }
   ],
   "source": [
    "from nltk.classify import NaiveBayesClassifier\n",
    "\n",
    "classifier = NaiveBayesClassifier.train(training)\n",
    "classifier.show_most_informative_features()"
   ]
  },
  {
   "cell_type": "code",
   "execution_count": 34,
   "metadata": {},
   "outputs": [
    {
     "name": "stdout",
     "output_type": "stream",
     "text": [
      "positive\n"
     ]
    }
   ],
   "source": [
    "example1 = \"America is great\"\n",
    "\n",
    "print(classifier.classify(format_sentence(example1)))"
   ]
  },
  {
   "cell_type": "code",
   "execution_count": 35,
   "metadata": {},
   "outputs": [
    {
     "name": "stdout",
     "output_type": "stream",
     "text": [
      "negative\n"
     ]
    }
   ],
   "source": [
    "example1 = \"Mail in ballots are fraudelent\"\n",
    "\n",
    "print(classifier.classify(format_sentence(example1)))"
   ]
  },
  {
   "cell_type": "code",
   "execution_count": 36,
   "metadata": {},
   "outputs": [
    {
     "name": "stdout",
     "output_type": "stream",
     "text": [
      "0.45555555555555555\n"
     ]
    }
   ],
   "source": [
    "from nltk.classify.util import accuracy\n",
    "print(accuracy(classifier, test))"
   ]
  },
  {
   "cell_type": "markdown",
   "metadata": {},
   "source": [
    "## Let's see the accuracy vs Ground Truth"
   ]
  },
  {
   "cell_type": "code",
   "execution_count": 37,
   "metadata": {},
   "outputs": [],
   "source": [
    "\n",
    "def nltk_predict(sent):\n",
    "    return classifier.classify(format_sentence(sent))\n",
    "\n",
    "y_pred_nltk = X_test.apply(nltk_predict)"
   ]
  },
  {
   "cell_type": "code",
   "execution_count": 38,
   "metadata": {},
   "outputs": [
    {
     "name": "stdout",
     "output_type": "stream",
     "text": [
      "accuracy_score is 0.51\n"
     ]
    }
   ],
   "source": [
    "print(f'accuracy_score is {accuracy_score(Y_test_groundtruth, y_pred_nltk)}')\n"
   ]
  },
  {
   "cell_type": "code",
   "execution_count": 39,
   "metadata": {},
   "outputs": [
    {
     "name": "stdout",
     "output_type": "stream",
     "text": [
      "              precision    recall  f1-score   support\n",
      "\n",
      "    negative       0.28      0.81      0.42        21\n",
      "     neutral       0.92      0.41      0.56        54\n",
      "    positive       0.75      0.48      0.59        25\n",
      "\n",
      "    accuracy                           0.51       100\n",
      "   macro avg       0.65      0.57      0.52       100\n",
      "weighted avg       0.74      0.51      0.54       100\n",
      "\n"
     ]
    }
   ],
   "source": [
    "print(classification_report(Y_test_groundtruth, y_pred_nltk))\n"
   ]
  },
  {
   "cell_type": "markdown",
   "metadata": {},
   "source": [
    "# 4. We train a FaceBook FastText model to build a classifier"
   ]
  },
  {
   "cell_type": "code",
   "execution_count": 40,
   "metadata": {},
   "outputs": [],
   "source": [
    "import fasttext"
   ]
  },
  {
   "cell_type": "code",
   "execution_count": 52,
   "metadata": {},
   "outputs": [],
   "source": [
    "def create_fasttext_record(sent):\n",
    "    sentiment = calculateSentiment(sent, neutralCutoff = 0.22)\n",
    "    return f'__label__{sentiment} {sent}'\n",
    "\n",
    "def write_fasttext_sentiment_to_file(sent, fileName):\n",
    "    file = open(fileName, \"a+\")  \n",
    "    record = create_fasttext_record(sent)\n",
    "    file.write(f'{record}\\n')\n",
    "    file.close()\n"
   ]
  },
  {
   "cell_type": "code",
   "execution_count": 64,
   "metadata": {},
   "outputs": [],
   "source": [
    "from myutils import clean_file\n"
   ]
  },
  {
   "cell_type": "code",
   "execution_count": 66,
   "metadata": {},
   "outputs": [
    {
     "data": {
      "text/plain": [
       "96     None\n",
       "471    None\n",
       "312    None\n",
       "449    None\n",
       "882    None\n",
       "       ... \n",
       "759    None\n",
       "861    None\n",
       "42     None\n",
       "555    None\n",
       "367    None\n",
       "Name: text, Length: 630, dtype: object"
      ]
     },
     "execution_count": 66,
     "metadata": {},
     "output_type": "execute_result"
    }
   ],
   "source": [
    "trainFile = \"trumpsentiment.train\"\n",
    "\n",
    "clean_file(trainFile)\n",
    "X_train.apply(write_fasttext_sentiment_to_file, fileName=trainFile)"
   ]
  },
  {
   "cell_type": "code",
   "execution_count": 67,
   "metadata": {},
   "outputs": [
    {
     "data": {
      "text/plain": [
       "875    None\n",
       "377    None\n",
       "412    None\n",
       "274    None\n",
       "763    None\n",
       "       ... \n",
       "346    None\n",
       "282    None\n",
       "323    None\n",
       "803    None\n",
       "58     None\n",
       "Name: text, Length: 270, dtype: object"
      ]
     },
     "execution_count": 67,
     "metadata": {},
     "output_type": "execute_result"
    }
   ],
   "source": [
    "validationFile = \"trumpsentiment.valid\"\n",
    "clean_file(validationFile)\n",
    "X_val.apply(write_fasttext_sentiment_to_file, fileName=validationFile)"
   ]
  },
  {
   "cell_type": "code",
   "execution_count": 75,
   "metadata": {},
   "outputs": [
    {
     "data": {
      "text/plain": [
       "357    None\n",
       "81     None\n",
       "436    None\n",
       "657    None\n",
       "654    None\n",
       "       ... \n",
       "742    None\n",
       "34     None\n",
       "132    None\n",
       "530    None\n",
       "886    None\n",
       "Name: text, Length: 100, dtype: object"
      ]
     },
     "execution_count": 75,
     "metadata": {},
     "output_type": "execute_result"
    }
   ],
   "source": [
    "testFile = \"trumpsentiment.test\"\n",
    "clean_file(testFile)\n",
    "X_test.apply(write_fasttext_sentiment_to_file, fileName=testFile)"
   ]
  },
  {
   "cell_type": "code",
   "execution_count": null,
   "metadata": {},
   "outputs": [],
   "source": []
  },
  {
   "cell_type": "code",
   "execution_count": 68,
   "metadata": {},
   "outputs": [
    {
     "data": {
      "text/plain": [
       "630"
      ]
     },
     "execution_count": 68,
     "metadata": {},
     "output_type": "execute_result"
    }
   ],
   "source": [
    "len(X_train)"
   ]
  },
  {
   "cell_type": "code",
   "execution_count": 69,
   "metadata": {},
   "outputs": [],
   "source": [
    "model = fasttext.train_supervised(input=trainFile)"
   ]
  },
  {
   "cell_type": "code",
   "execution_count": 72,
   "metadata": {},
   "outputs": [
    {
     "data": {
      "text/plain": [
       "(('__label__neutral',), array([0.90248114]))"
      ]
     },
     "execution_count": 72,
     "metadata": {},
     "output_type": "execute_result"
    }
   ],
   "source": [
    "model.predict(\"Trump will is awesome\")"
   ]
  },
  {
   "cell_type": "code",
   "execution_count": 73,
   "metadata": {},
   "outputs": [
    {
     "data": {
      "text/plain": [
       "(270, 0.6666666666666666, 0.6666666666666666)"
      ]
     },
     "execution_count": 73,
     "metadata": {},
     "output_type": "execute_result"
    }
   ],
   "source": [
    " model.test(validationFile)"
   ]
  },
  {
   "cell_type": "code",
   "execution_count": 76,
   "metadata": {},
   "outputs": [
    {
     "data": {
      "text/plain": [
       "(100, 0.73, 0.73)"
      ]
     },
     "execution_count": 76,
     "metadata": {},
     "output_type": "execute_result"
    }
   ],
   "source": [
    " model.test(testFile)"
   ]
  },
  {
   "cell_type": "markdown",
   "metadata": {},
   "source": [
    "## Performance on validation with 270 records, the precision is 0.666666 and the recall is 0.6666\n",
    "## Performance on the test with 100 records, the precision is 0.73 and the recall is 0.73\n"
   ]
  },
  {
   "cell_type": "markdown",
   "metadata": {},
   "source": [
    "## Hmm, let's try to do better with hyperparameter tuning.  FastText has various hyperparameters such as epochs, learning rate, and ngrams.  This made available to us via trial and error or we can try the autotune feature.\n"
   ]
  },
  {
   "cell_type": "code",
   "execution_count": 74,
   "metadata": {},
   "outputs": [],
   "source": [
    "model_autotuned = fasttext.train_supervised(input=trainFile, autotuneValidationFile=validationFile)"
   ]
  },
  {
   "cell_type": "code",
   "execution_count": 77,
   "metadata": {},
   "outputs": [
    {
     "data": {
      "text/plain": [
       "(270, 0.7518518518518519, 0.7518518518518519)"
      ]
     },
     "execution_count": 77,
     "metadata": {},
     "output_type": "execute_result"
    }
   ],
   "source": [
    "model_autotuned.test(validationFile)"
   ]
  },
  {
   "cell_type": "code",
   "execution_count": 78,
   "metadata": {},
   "outputs": [
    {
     "data": {
      "text/plain": [
       "(100, 0.73, 0.73)"
      ]
     },
     "execution_count": 78,
     "metadata": {},
     "output_type": "execute_result"
    }
   ],
   "source": [
    "model_autotuned.test(testFile)"
   ]
  },
  {
   "cell_type": "markdown",
   "metadata": {},
   "source": [
    "## So even though we got better performance on the validation file with precision/recall at 0.75, the performance was the same on the testFile at 0.73.\n",
    "\n",
    "## Let's now calculate the accuracy against the test data so that we can compare against previous models"
   ]
  },
  {
   "cell_type": "code",
   "execution_count": 94,
   "metadata": {},
   "outputs": [
    {
     "name": "stdout",
     "output_type": "stream",
     "text": [
      "sent_without_linebreaks is hello today is sunny\n"
     ]
    },
    {
     "data": {
      "text/plain": [
       "'neutral'"
      ]
     },
     "execution_count": 94,
     "metadata": {},
     "output_type": "execute_result"
    }
   ],
   "source": [
    "def fasttext_predict(sent, model):\n",
    "    sent_without_linebreaks = sent.replace(\"\\n\", \".  \")\n",
    "    print(f'sent_without_linebreaks is {sent_without_linebreaks}')\n",
    "    sentiment_label = model.predict(sent_without_linebreaks)[0]\n",
    "    fasttext_dict = {\n",
    "      \"__label__neutral\": \"neutral\",\n",
    "      \"__label__negative\": \"negative\",\n",
    "      \"__label__positive\": \"positive\"\n",
    "    }\n",
    "    return fasttext_dict[sentiment_label[0]]\n",
    "\n",
    "fasttext_predict(\"hello today is sunny\", model)"
   ]
  },
  {
   "cell_type": "code",
   "execution_count": 95,
   "metadata": {},
   "outputs": [
    {
     "data": {
      "text/plain": [
       "357    Pennsylvania Party Leadership votes are this w...\n",
       "81     RT @Jim_Jordan: In Oregon, you can be jailed f...\n",
       "436    RT @paulsperry_: ‘Blindsided’: GOP elections b...\n",
       "657    RT @GOP: The GREAT @CoachLouHoltz88 joined @re...\n",
       "654    Our numbers are looking VERY good all over. Sl...\n",
       "                             ...                        \n",
       "742    President Obama used to say that “if you wante...\n",
       "34     “Evidence of voter fraud continues to grow, in...\n",
       "132                      No way! https://t.co/Dwvb57mgMz\n",
       "530                              https://t.co/JXkiePOLMb\n",
       "886                              https://t.co/xgVRpP2Tjc\n",
       "Name: text, Length: 100, dtype: object"
      ]
     },
     "execution_count": 95,
     "metadata": {},
     "output_type": "execute_result"
    }
   ],
   "source": [
    "X_test"
   ]
  },
  {
   "cell_type": "code",
   "execution_count": 96,
   "metadata": {},
   "outputs": [
    {
     "name": "stdout",
     "output_type": "stream",
     "text": [
      "sent_without_linebreaks is Pennsylvania Party Leadership votes are this week. I hope they pick very tough and smart fighters. We will WIN!!\n",
      "sent_without_linebreaks is RT @Jim_Jordan: In Oregon, you can be jailed for having too many people over for Thanksgiving. .  .  But if you want to riot and loot in Portla…\n",
      "sent_without_linebreaks is RT @paulsperry_: ‘Blindsided’: GOP elections board members in NC resign in protest over irregular absentee ballots.  .  Democrats insisted on l…\n",
      "sent_without_linebreaks is RT @GOP: The GREAT @CoachLouHoltz88 joined @realDonaldTrump on stage tonight in Butler, PA! https://t.co/M09iebjZBu\n",
      "sent_without_linebreaks is Our numbers are looking VERY good all over. Sleepy Joe is already beginning to pull out of certain states. The Radical Left is going down!\n",
      "sent_without_linebreaks is I LOVE TEXAS! https://t.co/EP7P3AvE8L\n",
      "sent_without_linebreaks is Look at this in Michigan! A day AFTER the election, Biden receives a dump of 134,886 votes at 6:31AM! https://t.co/CTDaWTNs29 https://t.co/nSmc2olraF\n",
      "sent_without_linebreaks is RT @PhillyGOP: Voters in Allentown, PA are receiving blank ballots!! WIDESPREAD! .  .  🚨🚨Have you received a blank ballot? Email us photos at e…\n",
      "sent_without_linebreaks is RT @GOP: There is still time to get out and cast your vote!.   .  Find your polling location &amp; vote @realDonaldTrump to #MakeAmericaGreatAgainA…\n",
      "sent_without_linebreaks is https://t.co/OLZnCJq93Y\n",
      "sent_without_linebreaks is RT @realDonaldTrump: Republicans, don’t let Andrew McCabe continue to get away with totally criminal activity. What he did should never be…\n",
      "sent_without_linebreaks is RT @DanScavino: https://t.co/uqTZnrC7vO\n",
      "sent_without_linebreaks is I ran for office 4 years ago because I could not sit by &amp; watch any longer as a small group of Washington Insiders continued to get rich bleeding America Dry. No one embodies this betrayal &amp; treachery more than Joe Biden. Joe profited from the misery he unleashed on PA workers! https://t.co/2A9Ma5gCQX\n",
      "sent_without_linebreaks is https://t.co/RV5obxT9aG\n",
      "sent_without_linebreaks is https://t.co/sOxdRHa4el\n",
      "sent_without_linebreaks is In Lufkin, Texas — someone was stealing Trump signs, so an anonymous tree climber put up 30 of them throughout the community. Love it, thank you! #MAGA https://t.co/Ixx7iBxiYM\n",
      "sent_without_linebreaks is RT @AndrewPollackFL: Would you ever hear Biden supporters saying this? #MillionMAGAMarch https://t.co/ajE6l8QgjU\n",
      "sent_without_linebreaks is Yesterday, I was thrilled to be endorsed by the Pittsburgh Post-Gazette, the first time the paper has endorsed a Republican for president in half a century. Thank you! #MAGA https://t.co/hwwazi2SQY\n",
      "sent_without_linebreaks is “President Trump told us for some time we would be getting a Vaccine by the end of the year and people laughed at him, and here we are with Pfizer getting FDA approval by the end of this month. He was right.” @MariaBartiromo\n",
      "sent_without_linebreaks is https://t.co/OINMUQvdRo\n",
      "sent_without_linebreaks is RT @SaraCarterDC: 👇👇👇👇 absolutely @AdamMilstein\n",
      "sent_without_linebreaks is Gallup: 56% of the U.S. is more satisfied with conditions now, even during a pandemic (we are rounding the turn!), than they were 4 years ago under Obama/Biden. Hasn’t been equaled in recent times!\n",
      "sent_without_linebreaks is RT @TheMasters: This morning Jack Nicklaus and Gary Player continued the Honorary Starter tradition that began in 1963. #themasters https:/…\n",
      "sent_without_linebreaks is Wow! Michigan just refused to certify the election results! Having courage is a beautiful thing. The USA stands proud!\n",
      "sent_without_linebreaks is Over the next 4 years, we will make America into the Manufacturing Superpower of the World &amp; end our reliance on China. We will end surprise medical billing, require price transparency, lower drug prices even more, and we will always protect patients with pre-existing conditions! https://t.co/rXDakq3lp1\n",
      "sent_without_linebreaks is RT @marklevinshow: Outstanding video. Please share everywhere!\n",
      "sent_without_linebreaks is Steve Negron (@SteveNegronNH) will be a tireless advocate in Congress for the State of New Hampshire! An Air Force Veteran, he is Strong on the Economy, our Brave Law Enforcement and your Second Amendment. Steve has my Complete and Total Endorsement! #NH02 https://t.co/9Zq8LQXZkn\n",
      "sent_without_linebreaks is RT @marklevinshow: Congratulations to Amy Coney Barrett, and President Trump who nominated her!\n",
      "sent_without_linebreaks is RT @realannapaulina: My new commercial is out! .  .  Vote LUNA early on your absentee ballot or in-person November 3rd! https://t.co/CVJ1GHsjjM\n",
      "sent_without_linebreaks is Under my leadership, we achieved the most Secure Border in U.S. History! My opponent’s insane immigration plan completely eliminates U.S. borders by implementing nationwide catch-and-release. Joe Biden would make every community into a Sanctuary City for violent criminals. #VOTE\n",
      "sent_without_linebreaks is Nevada is turning out to be a cesspool of Fake Votes. @mschlapp &amp; @AdamLaxalt are finding things that, when released, will be absolutely shocking!\n",
      "sent_without_linebreaks is RT @JudgeJeanine: .@Jim_Jordan says, “The Democrats spent four years investigating the Russia hoax, but they don’t want to take four weeks…\n",
      "sent_without_linebreaks is https://t.co/pcPu2cohJI\n",
      "sent_without_linebreaks is https://t.co/jbTqhBQtmy\n",
      "sent_without_linebreaks is Wow! It looks like Michigan has now found the ballots necessary to keep a wonderful young man, John James, out of the U.S. Senate. What a terrible thing is happening!\n",
      "sent_without_linebreaks is MAKE AMERICA GREAT AGAIN. VOTE!!!\n",
      "sent_without_linebreaks is Jobless Claims Dip to 751,000, Lowest Since March https://t.co/dzuJpS78nb via @BreitbartNews\n",
      "sent_without_linebreaks is RT @TrumpWarRoom: A headline from six months ago, in May..  .  Trump was right. The media and the “experts” were wrong. Again. https://t.co/Zvu…\n",
      "sent_without_linebreaks is John Bolton was one of the dumbest people in government that I’ve had the “pleasure” to work with. A sullen, dull and quiet guy, he added nothing to National Security except, “Gee, let’s go to war.” Also, illegally released much Classified Information. A real dope!\n",
      "sent_without_linebreaks is Progress! https://t.co/K0NrpChXuI\n",
      "sent_without_linebreaks is 33.1% GDP - BEST IN USA HISTORY. IF I AM ELECTED, NEXT YEAR WILL BE OUR BEST EVER!\n",
      "sent_without_linebreaks is My #AmericanDreamPlan is a promise to Hispanic Americans to fuel a thriving economy, provide education opportunity for all, preserve freedom, and support faith, family, and community! .  https://t.co/5VPkbZPavC\n",
      "sent_without_linebreaks is Biden wants to LOCKDOWN our Country, maybe for years. Crazy! There will be NO LOCKDOWNS. The great American Comeback is underway!!!\n",
      "sent_without_linebreaks is That’s why Mike was number one in his class at West Point! https://t.co/hldYAphqmM\n",
      "sent_without_linebreaks is I am pleased to announce that Christopher C. Miller, the highly respected Director of the National Counterterrorism Center (unanimously confirmed by the Senate), will be Acting Secretary of Defense, effective immediately..\n",
      "sent_without_linebreaks is Why does the Fake News Media continuously assume that Joe Biden will ascend to the Presidency, not even allowing our side to show, which we are just getting ready to do, how badly shattered and violated our great Constitution has been in the 2020 Election. It was attacked,..\n",
      "sent_without_linebreaks is Let New York’s Finest finally do their job! https://t.co/XqURHZxCxP\n",
      "sent_without_linebreaks is RT @TeamTrump: LIVE: Press Conference with Kayleigh McEnany and RNC Chairwoman Ronna McDaniel https://t.co/tBiNKGRKIy\n",
      "sent_without_linebreaks is RT @realDonaldTrump: https://t.co/RV5obxT9aG\n",
      "sent_without_linebreaks is RT @marklevinshow: Israeli PM Netanyahu praises President Trump for 3 peace deals in 6 weeks!.  https://t.co/Ivk61DVPIk\n",
      "sent_without_linebreaks is https://t.co/Nf8mnRLhy5\n",
      "sent_without_linebreaks is Everyone is asking why the recent presidential polls were so inaccurate when it came to me. Because they are FAKE, just like much of the Lamestream Media!\n",
      "sent_without_linebreaks is THANK YOU NEBRASKA! Get your friends, get your family, get your neighbors &amp; co-workers &amp; GET OUT AND VOTE! We didn’t come this far and fight this hard to surrender our Country back to the Corrupt Washington Swamp. On 11/3 we must finish the job &amp; Drain the Swamp once and for all! https://t.co/G8Oqvi5YSa\n",
      "sent_without_linebreaks is RT @SBANYPD: Another tape that will be blamed on the Russians...Max Rose does not work for his constituents he works for Max Rose. Vote him…\n",
      "sent_without_linebreaks is It attempted to alter our election and got caught? https://t.co/J8mcH4SpxG\n",
      "sent_without_linebreaks is Maria is badly needed in Washington. She is an outstanding person who truly loves her Country and her State. Her opponent, @DonnaShalala, is a political hack who is a puppet of Nancy Pelosi. She does nothing for Florida. Maria has my Complete &amp; Total Endorsement! https://t.co/4GumAgOA3J\n",
      "sent_without_linebreaks is https://t.co/zvfI1eOKj6\n",
      "sent_without_linebreaks is I strongly stand with Kelly &amp; David. They are both great and MUST WIN! https://t.co/eqr95Lc2aC\n",
      "sent_without_linebreaks is RT @KellyannePolls: An increasingly negative &amp; unmasked @JoeBiden yells to a mostly empty lot, coughs into his bare hand, calls millions of…\n",
      "sent_without_linebreaks is https://t.co/11BmRoMKa3\n",
      "sent_without_linebreaks is https://t.co/SMaOF79kPV\n",
      "sent_without_linebreaks is RT @SamySabbagh: @OSeanessyTweet @greggutfeld How can you get OANN? App, Cable, dish?\n",
      "sent_without_linebreaks is https://t.co/hLuyRy0WNU\n",
      "sent_without_linebreaks is Michigan was GREAT! Landing now in Dubuque, Iowa. See you soon.\n",
      "sent_without_linebreaks is https://t.co/B8m4mhNvct\n",
      "sent_without_linebreaks is RT @WhiteHouse: LIVE: President @realDonaldTrump gives remarks on delivering lower prescription drug prices https://t.co/7ake5jCbKv\n",
      "sent_without_linebreaks is Thank you Mark, but the Fake News Media will never say it! https://t.co/e2V05JPmlx\n",
      "sent_without_linebreaks is Jack, this is a Great Honor. Thank you! https://t.co/60WWISm5hs\n",
      "sent_without_linebreaks is RT @IngrahamAngle: The New York Post endorses President Donald J. Trump for re-election. .  .  https://t.co/IyB7N1lfr1 https://t.co/4TdLiJpA7t\n",
      "sent_without_linebreaks is https://t.co/SHY5Hz66eJ\n",
      "sent_without_linebreaks is Demands Arise for PA Attorney General to ‘Step Aside‘ https://t.co/jrED09zpK1 via @BreitbartNews\n",
      "sent_without_linebreaks is RT @GOP: “When I promised to stand for the forgotten men and women of this country—whether they live in Chicago or Charlotte, Detroit or Du…\n",
      "sent_without_linebreaks is Forced to move our Rally tonight in Fayetteville, North Carolina, to Monday, due to high speed winds and bad weather. I love you North Carolina. Stay safe, see you on Monday!!!\n",
      "sent_without_linebreaks is Well, it’s really quite simple. You just can’t have more votes than people! https://t.co/kVtop3WsLp\n",
      "sent_without_linebreaks is https://t.co/cnRzJEwXKO\n",
      "sent_without_linebreaks is RT @SaraCarterDC: Yes @MariaBartiromo it is shocking that these media giants that we believed brought the truth and were watchdogs are noth…\n",
      "sent_without_linebreaks is https://t.co/PRSxtZNspW\n",
      "sent_without_linebreaks is RT @BuckSexton: Does anyone even try to make an argument why there is a good faith reason to block GOP poll watchers, or are we just suppos…\n",
      "sent_without_linebreaks is I Was In Philadelphia Watching Fraud Happen. Here’s How It Went Down https://t.co/fRMw3ilbYG They shut out our Poll Watchers and Observers. Those hundreds of thousands of votes should not be allowed. Corrupt politics.\n",
      "sent_without_linebreaks is In my opinion, these patriots did nothing wrong. Instead, the FBI &amp; Justice should be investigating the terrorists, anarchists, and agitators of ANTIFA, who run around burning down our Democrat run cities and hurting our people! https://t.co/of6Lna3HMU\n",
      "sent_without_linebreaks is Now 73,000,000 Votes! https://t.co/VSNfdzoFkK\n",
      "sent_without_linebreaks is 7 DAYS!!!\n",
      "sent_without_linebreaks is https://t.co/oLOa4kC1i0\n",
      "sent_without_linebreaks is RT @DanScavino: https://t.co/akTxwqHAoi\n",
      "sent_without_linebreaks is RT @1776Stonewall: Sidney Powell: 'Dominion machines engineered by China, Venezuela, Cuba'\n",
      "sent_without_linebreaks is If I don’t sound like a typical Washington politician, it’s because I’m NOT a politician. If I don’t always play by the rules of the Washington Establishment, it’s because I was elected to fight for YOU, harder than anyone ever has before! https://t.co/gsFSgh2KPc https://t.co/kCtPkRWdY4\n",
      "sent_without_linebreaks is Thank you Andrew! https://t.co/lnFIJb64YA\n",
      "sent_without_linebreaks is Nobody wants to report that Pennsylvania and Michigan didn’t allow our Poll Watchers and/or Vote Observers to Watch or Observe. This is responsible for hundreds of thousands of votes that should not be allowed to count. Therefore, I easily win both states. Report the News!\n",
      "sent_without_linebreaks is Over the next four years, we will stop the radical indoctrination of our students, and restore PATRIOTIC EDUCATION to our schools. We will teach our children to love our Country, honor our history, and always respect our great American Flag. https://t.co/gsFSgh2KPc https://t.co/RcQg0Vtk7V\n",
      "sent_without_linebreaks is Joe Biden has vowed to ABOLISH American Oil and Natural Gas. Today I signed an order to strongly protect Pennsylvania's energy &amp; fracking industry. If Biden &amp; Harris get in, they will terminate this order and implement the Green New Deal. Get out and VOTE! https://t.co/gsFSghkmdM https://t.co/VJMr2IeIgo\n",
      "sent_without_linebreaks is Just signed an order to protect fracking and the oil and gas industry. This means JOBS, low energy bills, and continued AMERICAN ENERGY INDEPENDENCE! Sleepy Joe would BAN fracking and destroy American energy jobs! He has NO clue!!\n",
      "sent_without_linebreaks is RT @marklevinshow: Shepard Smith crashes and burns.  https://t.co/j7zySz8mYX\n",
      "sent_without_linebreaks is RT @joecollins43rd: GET OUT AND VOTE EARLY! .  .  Avoid the lines on Election Day. .  .  Let’s beat Maxine Waters and take back our district.\n",
      "sent_without_linebreaks is The Fake News Media hardly even discussed the tens of thousands of people that came to D.C. Formed organically, and in many parts of the Country! https://t.co/wVsDx6GeGc\n",
      "sent_without_linebreaks is RT @realDonaldTrump: https://t.co/voxNnIYMpe\n",
      "sent_without_linebreaks is President Obama used to say that “if you wanted to see something really screwed up, give it to Joe Biden to do.” In fact, he tried to keep Joe from running, “you don’t have to do this Joe”, and then wouldn’t endorse him until long after the Primaries ended. “Joe is lost!”.\n",
      "sent_without_linebreaks is “Evidence of voter fraud continues to grow, including 20,000 dead people on the Pennsylvania voters roll and many thousands all over the Country. Now, there has been an artificial number of votes in favor of Joe Biden.” @OANN\n",
      "sent_without_linebreaks is No way! https://t.co/Dwvb57mgMz\n",
      "sent_without_linebreaks is https://t.co/JXkiePOLMb\n",
      "sent_without_linebreaks is https://t.co/xgVRpP2Tjc\n"
     ]
    }
   ],
   "source": [
    "y_pred_model = X_test.apply(fasttext_predict, model=model)"
   ]
  },
  {
   "cell_type": "code",
   "execution_count": 98,
   "metadata": {},
   "outputs": [
    {
     "name": "stdout",
     "output_type": "stream",
     "text": [
      "accuracy_score is 0.54\n"
     ]
    }
   ],
   "source": [
    "print(f'accuracy_score is {accuracy_score(Y_test_groundtruth, y_pred_model)}')\n"
   ]
  },
  {
   "cell_type": "code",
   "execution_count": 99,
   "metadata": {},
   "outputs": [
    {
     "name": "stdout",
     "output_type": "stream",
     "text": [
      "              precision    recall  f1-score   support\n",
      "\n",
      "    negative       0.00      0.00      0.00        21\n",
      "     neutral       0.54      1.00      0.70        54\n",
      "    positive       0.00      0.00      0.00        25\n",
      "\n",
      "    accuracy                           0.54       100\n",
      "   macro avg       0.18      0.33      0.23       100\n",
      "weighted avg       0.29      0.54      0.38       100\n",
      "\n"
     ]
    },
    {
     "name": "stderr",
     "output_type": "stream",
     "text": [
      "/Users/jc487/opt/miniconda3/envs/dsc540/lib/python3.7/site-packages/sklearn/metrics/_classification.py:1221: UndefinedMetricWarning: Precision and F-score are ill-defined and being set to 0.0 in labels with no predicted samples. Use `zero_division` parameter to control this behavior.\n",
      "  _warn_prf(average, modifier, msg_start, len(result))\n"
     ]
    }
   ],
   "source": [
    "print(classification_report(Y_test_groundtruth, y_pred_model))"
   ]
  },
  {
   "cell_type": "markdown",
   "metadata": {},
   "source": [
    "### and now the autotuned fasttext model accuracy"
   ]
  },
  {
   "cell_type": "code",
   "execution_count": 100,
   "metadata": {},
   "outputs": [
    {
     "name": "stdout",
     "output_type": "stream",
     "text": [
      "sent_without_linebreaks is Pennsylvania Party Leadership votes are this week. I hope they pick very tough and smart fighters. We will WIN!!\n",
      "sent_without_linebreaks is RT @Jim_Jordan: In Oregon, you can be jailed for having too many people over for Thanksgiving. .  .  But if you want to riot and loot in Portla…\n",
      "sent_without_linebreaks is RT @paulsperry_: ‘Blindsided’: GOP elections board members in NC resign in protest over irregular absentee ballots.  .  Democrats insisted on l…\n",
      "sent_without_linebreaks is RT @GOP: The GREAT @CoachLouHoltz88 joined @realDonaldTrump on stage tonight in Butler, PA! https://t.co/M09iebjZBu\n",
      "sent_without_linebreaks is Our numbers are looking VERY good all over. Sleepy Joe is already beginning to pull out of certain states. The Radical Left is going down!\n",
      "sent_without_linebreaks is I LOVE TEXAS! https://t.co/EP7P3AvE8L\n",
      "sent_without_linebreaks is Look at this in Michigan! A day AFTER the election, Biden receives a dump of 134,886 votes at 6:31AM! https://t.co/CTDaWTNs29 https://t.co/nSmc2olraF\n",
      "sent_without_linebreaks is RT @PhillyGOP: Voters in Allentown, PA are receiving blank ballots!! WIDESPREAD! .  .  🚨🚨Have you received a blank ballot? Email us photos at e…\n",
      "sent_without_linebreaks is RT @GOP: There is still time to get out and cast your vote!.   .  Find your polling location &amp; vote @realDonaldTrump to #MakeAmericaGreatAgainA…\n",
      "sent_without_linebreaks is https://t.co/OLZnCJq93Y\n",
      "sent_without_linebreaks is RT @realDonaldTrump: Republicans, don’t let Andrew McCabe continue to get away with totally criminal activity. What he did should never be…\n",
      "sent_without_linebreaks is RT @DanScavino: https://t.co/uqTZnrC7vO\n",
      "sent_without_linebreaks is I ran for office 4 years ago because I could not sit by &amp; watch any longer as a small group of Washington Insiders continued to get rich bleeding America Dry. No one embodies this betrayal &amp; treachery more than Joe Biden. Joe profited from the misery he unleashed on PA workers! https://t.co/2A9Ma5gCQX\n",
      "sent_without_linebreaks is https://t.co/RV5obxT9aG\n",
      "sent_without_linebreaks is https://t.co/sOxdRHa4el\n",
      "sent_without_linebreaks is In Lufkin, Texas — someone was stealing Trump signs, so an anonymous tree climber put up 30 of them throughout the community. Love it, thank you! #MAGA https://t.co/Ixx7iBxiYM\n",
      "sent_without_linebreaks is RT @AndrewPollackFL: Would you ever hear Biden supporters saying this? #MillionMAGAMarch https://t.co/ajE6l8QgjU\n",
      "sent_without_linebreaks is Yesterday, I was thrilled to be endorsed by the Pittsburgh Post-Gazette, the first time the paper has endorsed a Republican for president in half a century. Thank you! #MAGA https://t.co/hwwazi2SQY\n",
      "sent_without_linebreaks is “President Trump told us for some time we would be getting a Vaccine by the end of the year and people laughed at him, and here we are with Pfizer getting FDA approval by the end of this month. He was right.” @MariaBartiromo\n",
      "sent_without_linebreaks is https://t.co/OINMUQvdRo\n",
      "sent_without_linebreaks is RT @SaraCarterDC: 👇👇👇👇 absolutely @AdamMilstein\n",
      "sent_without_linebreaks is Gallup: 56% of the U.S. is more satisfied with conditions now, even during a pandemic (we are rounding the turn!), than they were 4 years ago under Obama/Biden. Hasn’t been equaled in recent times!\n",
      "sent_without_linebreaks is RT @TheMasters: This morning Jack Nicklaus and Gary Player continued the Honorary Starter tradition that began in 1963. #themasters https:/…\n",
      "sent_without_linebreaks is Wow! Michigan just refused to certify the election results! Having courage is a beautiful thing. The USA stands proud!\n",
      "sent_without_linebreaks is Over the next 4 years, we will make America into the Manufacturing Superpower of the World &amp; end our reliance on China. We will end surprise medical billing, require price transparency, lower drug prices even more, and we will always protect patients with pre-existing conditions! https://t.co/rXDakq3lp1\n",
      "sent_without_linebreaks is RT @marklevinshow: Outstanding video. Please share everywhere!\n",
      "sent_without_linebreaks is Steve Negron (@SteveNegronNH) will be a tireless advocate in Congress for the State of New Hampshire! An Air Force Veteran, he is Strong on the Economy, our Brave Law Enforcement and your Second Amendment. Steve has my Complete and Total Endorsement! #NH02 https://t.co/9Zq8LQXZkn\n",
      "sent_without_linebreaks is RT @marklevinshow: Congratulations to Amy Coney Barrett, and President Trump who nominated her!\n",
      "sent_without_linebreaks is RT @realannapaulina: My new commercial is out! .  .  Vote LUNA early on your absentee ballot or in-person November 3rd! https://t.co/CVJ1GHsjjM\n",
      "sent_without_linebreaks is Under my leadership, we achieved the most Secure Border in U.S. History! My opponent’s insane immigration plan completely eliminates U.S. borders by implementing nationwide catch-and-release. Joe Biden would make every community into a Sanctuary City for violent criminals. #VOTE\n",
      "sent_without_linebreaks is Nevada is turning out to be a cesspool of Fake Votes. @mschlapp &amp; @AdamLaxalt are finding things that, when released, will be absolutely shocking!\n",
      "sent_without_linebreaks is RT @JudgeJeanine: .@Jim_Jordan says, “The Democrats spent four years investigating the Russia hoax, but they don’t want to take four weeks…\n",
      "sent_without_linebreaks is https://t.co/pcPu2cohJI\n",
      "sent_without_linebreaks is https://t.co/jbTqhBQtmy\n",
      "sent_without_linebreaks is Wow! It looks like Michigan has now found the ballots necessary to keep a wonderful young man, John James, out of the U.S. Senate. What a terrible thing is happening!\n",
      "sent_without_linebreaks is MAKE AMERICA GREAT AGAIN. VOTE!!!\n",
      "sent_without_linebreaks is Jobless Claims Dip to 751,000, Lowest Since March https://t.co/dzuJpS78nb via @BreitbartNews\n",
      "sent_without_linebreaks is RT @TrumpWarRoom: A headline from six months ago, in May..  .  Trump was right. The media and the “experts” were wrong. Again. https://t.co/Zvu…\n",
      "sent_without_linebreaks is John Bolton was one of the dumbest people in government that I’ve had the “pleasure” to work with. A sullen, dull and quiet guy, he added nothing to National Security except, “Gee, let’s go to war.” Also, illegally released much Classified Information. A real dope!\n",
      "sent_without_linebreaks is Progress! https://t.co/K0NrpChXuI\n",
      "sent_without_linebreaks is 33.1% GDP - BEST IN USA HISTORY. IF I AM ELECTED, NEXT YEAR WILL BE OUR BEST EVER!\n",
      "sent_without_linebreaks is My #AmericanDreamPlan is a promise to Hispanic Americans to fuel a thriving economy, provide education opportunity for all, preserve freedom, and support faith, family, and community! .  https://t.co/5VPkbZPavC\n",
      "sent_without_linebreaks is Biden wants to LOCKDOWN our Country, maybe for years. Crazy! There will be NO LOCKDOWNS. The great American Comeback is underway!!!\n",
      "sent_without_linebreaks is That’s why Mike was number one in his class at West Point! https://t.co/hldYAphqmM\n",
      "sent_without_linebreaks is I am pleased to announce that Christopher C. Miller, the highly respected Director of the National Counterterrorism Center (unanimously confirmed by the Senate), will be Acting Secretary of Defense, effective immediately..\n",
      "sent_without_linebreaks is Why does the Fake News Media continuously assume that Joe Biden will ascend to the Presidency, not even allowing our side to show, which we are just getting ready to do, how badly shattered and violated our great Constitution has been in the 2020 Election. It was attacked,..\n",
      "sent_without_linebreaks is Let New York’s Finest finally do their job! https://t.co/XqURHZxCxP\n",
      "sent_without_linebreaks is RT @TeamTrump: LIVE: Press Conference with Kayleigh McEnany and RNC Chairwoman Ronna McDaniel https://t.co/tBiNKGRKIy\n",
      "sent_without_linebreaks is RT @realDonaldTrump: https://t.co/RV5obxT9aG\n",
      "sent_without_linebreaks is RT @marklevinshow: Israeli PM Netanyahu praises President Trump for 3 peace deals in 6 weeks!.  https://t.co/Ivk61DVPIk\n",
      "sent_without_linebreaks is https://t.co/Nf8mnRLhy5\n",
      "sent_without_linebreaks is Everyone is asking why the recent presidential polls were so inaccurate when it came to me. Because they are FAKE, just like much of the Lamestream Media!\n",
      "sent_without_linebreaks is THANK YOU NEBRASKA! Get your friends, get your family, get your neighbors &amp; co-workers &amp; GET OUT AND VOTE! We didn’t come this far and fight this hard to surrender our Country back to the Corrupt Washington Swamp. On 11/3 we must finish the job &amp; Drain the Swamp once and for all! https://t.co/G8Oqvi5YSa\n",
      "sent_without_linebreaks is RT @SBANYPD: Another tape that will be blamed on the Russians...Max Rose does not work for his constituents he works for Max Rose. Vote him…\n",
      "sent_without_linebreaks is It attempted to alter our election and got caught? https://t.co/J8mcH4SpxG\n",
      "sent_without_linebreaks is Maria is badly needed in Washington. She is an outstanding person who truly loves her Country and her State. Her opponent, @DonnaShalala, is a political hack who is a puppet of Nancy Pelosi. She does nothing for Florida. Maria has my Complete &amp; Total Endorsement! https://t.co/4GumAgOA3J\n",
      "sent_without_linebreaks is https://t.co/zvfI1eOKj6\n",
      "sent_without_linebreaks is I strongly stand with Kelly &amp; David. They are both great and MUST WIN! https://t.co/eqr95Lc2aC\n",
      "sent_without_linebreaks is RT @KellyannePolls: An increasingly negative &amp; unmasked @JoeBiden yells to a mostly empty lot, coughs into his bare hand, calls millions of…\n",
      "sent_without_linebreaks is https://t.co/11BmRoMKa3\n",
      "sent_without_linebreaks is https://t.co/SMaOF79kPV\n",
      "sent_without_linebreaks is RT @SamySabbagh: @OSeanessyTweet @greggutfeld How can you get OANN? App, Cable, dish?\n",
      "sent_without_linebreaks is https://t.co/hLuyRy0WNU\n",
      "sent_without_linebreaks is Michigan was GREAT! Landing now in Dubuque, Iowa. See you soon.\n",
      "sent_without_linebreaks is https://t.co/B8m4mhNvct\n",
      "sent_without_linebreaks is RT @WhiteHouse: LIVE: President @realDonaldTrump gives remarks on delivering lower prescription drug prices https://t.co/7ake5jCbKv\n",
      "sent_without_linebreaks is Thank you Mark, but the Fake News Media will never say it! https://t.co/e2V05JPmlx\n",
      "sent_without_linebreaks is Jack, this is a Great Honor. Thank you! https://t.co/60WWISm5hs\n",
      "sent_without_linebreaks is RT @IngrahamAngle: The New York Post endorses President Donald J. Trump for re-election. .  .  https://t.co/IyB7N1lfr1 https://t.co/4TdLiJpA7t\n",
      "sent_without_linebreaks is https://t.co/SHY5Hz66eJ\n",
      "sent_without_linebreaks is Demands Arise for PA Attorney General to ‘Step Aside‘ https://t.co/jrED09zpK1 via @BreitbartNews\n",
      "sent_without_linebreaks is RT @GOP: “When I promised to stand for the forgotten men and women of this country—whether they live in Chicago or Charlotte, Detroit or Du…\n",
      "sent_without_linebreaks is Forced to move our Rally tonight in Fayetteville, North Carolina, to Monday, due to high speed winds and bad weather. I love you North Carolina. Stay safe, see you on Monday!!!\n",
      "sent_without_linebreaks is Well, it’s really quite simple. You just can’t have more votes than people! https://t.co/kVtop3WsLp\n",
      "sent_without_linebreaks is https://t.co/cnRzJEwXKO\n",
      "sent_without_linebreaks is RT @SaraCarterDC: Yes @MariaBartiromo it is shocking that these media giants that we believed brought the truth and were watchdogs are noth…\n",
      "sent_without_linebreaks is https://t.co/PRSxtZNspW\n",
      "sent_without_linebreaks is RT @BuckSexton: Does anyone even try to make an argument why there is a good faith reason to block GOP poll watchers, or are we just suppos…\n",
      "sent_without_linebreaks is I Was In Philadelphia Watching Fraud Happen. Here’s How It Went Down https://t.co/fRMw3ilbYG They shut out our Poll Watchers and Observers. Those hundreds of thousands of votes should not be allowed. Corrupt politics.\n",
      "sent_without_linebreaks is In my opinion, these patriots did nothing wrong. Instead, the FBI &amp; Justice should be investigating the terrorists, anarchists, and agitators of ANTIFA, who run around burning down our Democrat run cities and hurting our people! https://t.co/of6Lna3HMU\n",
      "sent_without_linebreaks is Now 73,000,000 Votes! https://t.co/VSNfdzoFkK\n",
      "sent_without_linebreaks is 7 DAYS!!!\n",
      "sent_without_linebreaks is https://t.co/oLOa4kC1i0\n",
      "sent_without_linebreaks is RT @DanScavino: https://t.co/akTxwqHAoi\n",
      "sent_without_linebreaks is RT @1776Stonewall: Sidney Powell: 'Dominion machines engineered by China, Venezuela, Cuba'\n",
      "sent_without_linebreaks is If I don’t sound like a typical Washington politician, it’s because I’m NOT a politician. If I don’t always play by the rules of the Washington Establishment, it’s because I was elected to fight for YOU, harder than anyone ever has before! https://t.co/gsFSgh2KPc https://t.co/kCtPkRWdY4\n",
      "sent_without_linebreaks is Thank you Andrew! https://t.co/lnFIJb64YA\n",
      "sent_without_linebreaks is Nobody wants to report that Pennsylvania and Michigan didn’t allow our Poll Watchers and/or Vote Observers to Watch or Observe. This is responsible for hundreds of thousands of votes that should not be allowed to count. Therefore, I easily win both states. Report the News!\n",
      "sent_without_linebreaks is Over the next four years, we will stop the radical indoctrination of our students, and restore PATRIOTIC EDUCATION to our schools. We will teach our children to love our Country, honor our history, and always respect our great American Flag. https://t.co/gsFSgh2KPc https://t.co/RcQg0Vtk7V\n",
      "sent_without_linebreaks is Joe Biden has vowed to ABOLISH American Oil and Natural Gas. Today I signed an order to strongly protect Pennsylvania's energy &amp; fracking industry. If Biden &amp; Harris get in, they will terminate this order and implement the Green New Deal. Get out and VOTE! https://t.co/gsFSghkmdM https://t.co/VJMr2IeIgo\n",
      "sent_without_linebreaks is Just signed an order to protect fracking and the oil and gas industry. This means JOBS, low energy bills, and continued AMERICAN ENERGY INDEPENDENCE! Sleepy Joe would BAN fracking and destroy American energy jobs! He has NO clue!!\n",
      "sent_without_linebreaks is RT @marklevinshow: Shepard Smith crashes and burns.  https://t.co/j7zySz8mYX\n",
      "sent_without_linebreaks is RT @joecollins43rd: GET OUT AND VOTE EARLY! .  .  Avoid the lines on Election Day. .  .  Let’s beat Maxine Waters and take back our district.\n",
      "sent_without_linebreaks is The Fake News Media hardly even discussed the tens of thousands of people that came to D.C. Formed organically, and in many parts of the Country! https://t.co/wVsDx6GeGc\n",
      "sent_without_linebreaks is RT @realDonaldTrump: https://t.co/voxNnIYMpe\n",
      "sent_without_linebreaks is President Obama used to say that “if you wanted to see something really screwed up, give it to Joe Biden to do.” In fact, he tried to keep Joe from running, “you don’t have to do this Joe”, and then wouldn’t endorse him until long after the Primaries ended. “Joe is lost!”.\n",
      "sent_without_linebreaks is “Evidence of voter fraud continues to grow, including 20,000 dead people on the Pennsylvania voters roll and many thousands all over the Country. Now, there has been an artificial number of votes in favor of Joe Biden.” @OANN\n",
      "sent_without_linebreaks is No way! https://t.co/Dwvb57mgMz\n",
      "sent_without_linebreaks is https://t.co/JXkiePOLMb\n",
      "sent_without_linebreaks is https://t.co/xgVRpP2Tjc\n"
     ]
    }
   ],
   "source": [
    "y_pred_model_autotuned = X_test.apply(fasttext_predict, model=model_autotuned)"
   ]
  },
  {
   "cell_type": "code",
   "execution_count": 101,
   "metadata": {},
   "outputs": [
    {
     "name": "stdout",
     "output_type": "stream",
     "text": [
      "accuracy_score is 0.56\n"
     ]
    }
   ],
   "source": [
    "print(f'accuracy_score is {accuracy_score(Y_test_groundtruth, y_pred_model_autotuned)}')\n"
   ]
  },
  {
   "cell_type": "code",
   "execution_count": 102,
   "metadata": {},
   "outputs": [
    {
     "name": "stdout",
     "output_type": "stream",
     "text": [
      "              precision    recall  f1-score   support\n",
      "\n",
      "    negative       0.00      0.00      0.00        21\n",
      "     neutral       0.58      0.89      0.70        54\n",
      "    positive       0.57      0.32      0.41        25\n",
      "\n",
      "    accuracy                           0.56       100\n",
      "   macro avg       0.38      0.40      0.37       100\n",
      "weighted avg       0.46      0.56      0.48       100\n",
      "\n"
     ]
    }
   ],
   "source": [
    "print(classification_report(Y_test_groundtruth, y_pred_model_autotuned))"
   ]
  },
  {
   "cell_type": "markdown",
   "metadata": {},
   "source": [
    "### Just for kicks, let's see the hyper-parameters"
   ]
  },
  {
   "cell_type": "code",
   "execution_count": 109,
   "metadata": {},
   "outputs": [
    {
     "name": "stdout",
     "output_type": "stream",
     "text": [
      "autotuneDuration -> 300\n",
      "autotuneMetric -> f1\n",
      "autotuneModelSize -> \n",
      "autotunePredictions -> 1\n",
      "autotuneValidationFile -> \n",
      "bucket -> 0\n",
      "cutoff -> 0\n",
      "dim -> 100\n",
      "dsub -> 2\n",
      "epoch -> 5\n",
      "input -> trumpsentiment.train\n",
      "label -> __label__\n",
      "loss -> loss_name.softmax\n",
      "lr -> 0.1\n",
      "lrUpdateRate -> 100\n",
      "maxn -> 0\n",
      "minCount -> 1\n",
      "minCountLabel -> 0\n",
      "minn -> 0\n",
      "model -> model_name.supervised\n",
      "neg -> 5\n",
      "output -> \n",
      "pretrainedVectors -> \n",
      "qnorm -> False\n",
      "qout -> False\n",
      "retrain -> False\n",
      "saveOutput -> False\n",
      "seed -> 0\n",
      "setManual -> <bound method PyCapsule.setManual of <fasttext_pybind.args object at 0x1a29db58f0>>\n",
      "t -> 0.0001\n",
      "thread -> 11\n",
      "verbose -> 2\n",
      "wordNgrams -> 1\n",
      "ws -> 5\n"
     ]
    }
   ],
   "source": [
    "def print_hyperparameters(model):\n",
    "    args_obj = model.f.getArgs()\n",
    "    for hparam in dir(args_obj):\n",
    "        if not hparam.startswith('__'):\n",
    "            print(f\"{hparam} -> {getattr(args_obj, hparam)}\")            "
   ]
  },
  {
   "cell_type": "code",
   "execution_count": 110,
   "metadata": {},
   "outputs": [
    {
     "name": "stdout",
     "output_type": "stream",
     "text": [
      "autotuneDuration -> 300\n",
      "autotuneMetric -> f1\n",
      "autotuneModelSize -> \n",
      "autotunePredictions -> 1\n",
      "autotuneValidationFile -> \n",
      "bucket -> 0\n",
      "cutoff -> 0\n",
      "dim -> 100\n",
      "dsub -> 2\n",
      "epoch -> 5\n",
      "input -> trumpsentiment.train\n",
      "label -> __label__\n",
      "loss -> loss_name.softmax\n",
      "lr -> 0.1\n",
      "lrUpdateRate -> 100\n",
      "maxn -> 0\n",
      "minCount -> 1\n",
      "minCountLabel -> 0\n",
      "minn -> 0\n",
      "model -> model_name.supervised\n",
      "neg -> 5\n",
      "output -> \n",
      "pretrainedVectors -> \n",
      "qnorm -> False\n",
      "qout -> False\n",
      "retrain -> False\n",
      "saveOutput -> False\n",
      "seed -> 0\n",
      "setManual -> <bound method PyCapsule.setManual of <fasttext_pybind.args object at 0x1a29db53e8>>\n",
      "t -> 0.0001\n",
      "thread -> 11\n",
      "verbose -> 2\n",
      "wordNgrams -> 1\n",
      "ws -> 5\n"
     ]
    }
   ],
   "source": [
    "print_hyperparameters(model)\n"
   ]
  },
  {
   "cell_type": "code",
   "execution_count": 111,
   "metadata": {},
   "outputs": [
    {
     "name": "stdout",
     "output_type": "stream",
     "text": [
      "autotuneDuration -> 300\n",
      "autotuneMetric -> f1\n",
      "autotuneModelSize -> \n",
      "autotunePredictions -> 1\n",
      "autotuneValidationFile -> trumpsentiment.valid\n",
      "bucket -> 601846\n",
      "cutoff -> 0\n",
      "dim -> 189\n",
      "dsub -> 2\n",
      "epoch -> 58\n",
      "input -> trumpsentiment.train\n",
      "label -> __label__\n",
      "loss -> loss_name.softmax\n",
      "lr -> 5.0\n",
      "lrUpdateRate -> 100\n",
      "maxn -> 6\n",
      "minCount -> 1\n",
      "minCountLabel -> 0\n",
      "minn -> 3\n",
      "model -> model_name.supervised\n",
      "neg -> 5\n",
      "output -> \n",
      "pretrainedVectors -> \n",
      "qnorm -> False\n",
      "qout -> False\n",
      "retrain -> False\n",
      "saveOutput -> False\n",
      "seed -> 0\n",
      "setManual -> <bound method PyCapsule.setManual of <fasttext_pybind.args object at 0x1a29db5308>>\n",
      "t -> 0.0001\n",
      "thread -> 11\n",
      "verbose -> 2\n",
      "wordNgrams -> 2\n",
      "ws -> 5\n"
     ]
    }
   ],
   "source": [
    "print_hyperparameters(model_autotuned)\n"
   ]
  },
  {
   "cell_type": "markdown",
   "metadata": {},
   "source": [
    "# For future work, we could try to clean the twitter text to get better accuracy and also maybe section off tweets by timeframes such as pre-covid19, covid19, pre-voting-day, post-voting-day\n"
   ]
  },
  {
   "cell_type": "code",
   "execution_count": 177,
   "metadata": {},
   "outputs": [],
   "source": [
    "from myutils import clean_twitter_text"
   ]
  }
 ],
 "metadata": {
  "colab": {
   "authorship_tag": "ABX9TyPW+nXq5kNmMD0i1KQMwvga",
   "include_colab_link": true,
   "name": "Untitled1.ipynb",
   "provenance": []
  },
  "kernelspec": {
   "display_name": "Python 3.7 (dsc540)",
   "language": "python",
   "name": "dsc540"
  },
  "language_info": {
   "codemirror_mode": {
    "name": "ipython",
    "version": 3
   },
   "file_extension": ".py",
   "mimetype": "text/x-python",
   "name": "python",
   "nbconvert_exporter": "python",
   "pygments_lexer": "ipython3",
   "version": "3.7.0"
  }
 },
 "nbformat": 4,
 "nbformat_minor": 1
}
